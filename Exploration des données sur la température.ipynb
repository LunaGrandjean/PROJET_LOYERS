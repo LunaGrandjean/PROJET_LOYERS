{
 "cells": [
  {
   "cell_type": "code",
   "execution_count": 2,
   "id": "a207088f",
   "metadata": {},
   "outputs": [
    {
     "data": {
      "text/html": [
       "<div>\n",
       "<style scoped>\n",
       "    .dataframe tbody tr th:only-of-type {\n",
       "        vertical-align: middle;\n",
       "    }\n",
       "\n",
       "    .dataframe tbody tr th {\n",
       "        vertical-align: top;\n",
       "    }\n",
       "\n",
       "    .dataframe thead th {\n",
       "        text-align: right;\n",
       "    }\n",
       "</style>\n",
       "<table border=\"1\" class=\"dataframe\">\n",
       "  <thead>\n",
       "    <tr style=\"text-align: right;\">\n",
       "      <th></th>\n",
       "      <th>Date</th>\n",
       "      <th>Code INSEE département</th>\n",
       "      <th>Département</th>\n",
       "      <th>TMin (°C)</th>\n",
       "      <th>TMax (°C)</th>\n",
       "      <th>TMoy (°C)</th>\n",
       "    </tr>\n",
       "  </thead>\n",
       "  <tbody>\n",
       "    <tr>\n",
       "      <th>0</th>\n",
       "      <td>2019-10-22</td>\n",
       "      <td>21</td>\n",
       "      <td>Côte-d'Or</td>\n",
       "      <td>10.90</td>\n",
       "      <td>16.00</td>\n",
       "      <td>13.45</td>\n",
       "    </tr>\n",
       "    <tr>\n",
       "      <th>1</th>\n",
       "      <td>2019-10-22</td>\n",
       "      <td>73</td>\n",
       "      <td>Savoie</td>\n",
       "      <td>11.70</td>\n",
       "      <td>18.65</td>\n",
       "      <td>15.18</td>\n",
       "    </tr>\n",
       "    <tr>\n",
       "      <th>2</th>\n",
       "      <td>2019-10-22</td>\n",
       "      <td>29</td>\n",
       "      <td>Finistère</td>\n",
       "      <td>7.77</td>\n",
       "      <td>15.48</td>\n",
       "      <td>11.63</td>\n",
       "    </tr>\n",
       "    <tr>\n",
       "      <th>3</th>\n",
       "      <td>2019-10-22</td>\n",
       "      <td>48</td>\n",
       "      <td>Lozère</td>\n",
       "      <td>9.70</td>\n",
       "      <td>16.50</td>\n",
       "      <td>13.10</td>\n",
       "    </tr>\n",
       "    <tr>\n",
       "      <th>4</th>\n",
       "      <td>2019-10-22</td>\n",
       "      <td>49</td>\n",
       "      <td>Maine-et-Loire</td>\n",
       "      <td>4.40</td>\n",
       "      <td>15.10</td>\n",
       "      <td>9.75</td>\n",
       "    </tr>\n",
       "  </tbody>\n",
       "</table>\n",
       "</div>"
      ],
      "text/plain": [
       "         Date Code INSEE département     Département  TMin (°C)  TMax (°C)  \\\n",
       "0  2019-10-22                     21       Côte-d'Or      10.90      16.00   \n",
       "1  2019-10-22                     73          Savoie      11.70      18.65   \n",
       "2  2019-10-22                     29       Finistère       7.77      15.48   \n",
       "3  2019-10-22                     48          Lozère       9.70      16.50   \n",
       "4  2019-10-22                     49  Maine-et-Loire       4.40      15.10   \n",
       "\n",
       "   TMoy (°C)  \n",
       "0      13.45  \n",
       "1      15.18  \n",
       "2      11.63  \n",
       "3      13.10  \n",
       "4       9.75  "
      ]
     },
     "execution_count": 2,
     "metadata": {},
     "output_type": "execute_result"
    }
   ],
   "source": [
    "import pandas as pd\n",
    "df = pd.read_csv(\"temperature-quotidienne-departementale.csv\", sep=\";\")\n",
    "df.head()"
   ]
  },
  {
   "cell_type": "code",
   "execution_count": null,
   "id": "afab6f60",
   "metadata": {},
   "outputs": [],
   "source": []
  }
 ],
 "metadata": {
  "kernelspec": {
   "display_name": "Python 3 (ipykernel)",
   "language": "python",
   "name": "python3"
  },
  "language_info": {
   "codemirror_mode": {
    "name": "ipython",
    "version": 3
   },
   "file_extension": ".py",
   "mimetype": "text/x-python",
   "name": "python",
   "nbconvert_exporter": "python",
   "pygments_lexer": "ipython3",
   "version": "3.9.13"
  }
 },
 "nbformat": 4,
 "nbformat_minor": 5
}
