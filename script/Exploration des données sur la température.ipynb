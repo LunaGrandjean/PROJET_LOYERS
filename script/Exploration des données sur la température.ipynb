{
 "cells": [
  {
   "cell_type": "code",
   "execution_count": 26,
   "id": "a207088f",
   "metadata": {},
   "outputs": [
    {
     "data": {
      "text/html": [
       "<div>\n",
       "<style scoped>\n",
       "    .dataframe tbody tr th:only-of-type {\n",
       "        vertical-align: middle;\n",
       "    }\n",
       "\n",
       "    .dataframe tbody tr th {\n",
       "        vertical-align: top;\n",
       "    }\n",
       "\n",
       "    .dataframe thead th {\n",
       "        text-align: right;\n",
       "    }\n",
       "</style>\n",
       "<table border=\"1\" class=\"dataframe\">\n",
       "  <thead>\n",
       "    <tr style=\"text-align: right;\">\n",
       "      <th></th>\n",
       "      <th>Date</th>\n",
       "      <th>Code INSEE département</th>\n",
       "      <th>Département</th>\n",
       "      <th>TMin</th>\n",
       "      <th>TMax</th>\n",
       "      <th>TMoy</th>\n",
       "    </tr>\n",
       "  </thead>\n",
       "  <tbody>\n",
       "    <tr>\n",
       "      <th>0</th>\n",
       "      <td>2019-10-22</td>\n",
       "      <td>21</td>\n",
       "      <td>Côte-d'Or</td>\n",
       "      <td>10.90</td>\n",
       "      <td>16.00</td>\n",
       "      <td>13.45</td>\n",
       "    </tr>\n",
       "    <tr>\n",
       "      <th>1</th>\n",
       "      <td>2019-10-22</td>\n",
       "      <td>73</td>\n",
       "      <td>Savoie</td>\n",
       "      <td>11.70</td>\n",
       "      <td>18.65</td>\n",
       "      <td>15.18</td>\n",
       "    </tr>\n",
       "    <tr>\n",
       "      <th>2</th>\n",
       "      <td>2019-10-22</td>\n",
       "      <td>29</td>\n",
       "      <td>Finistère</td>\n",
       "      <td>7.77</td>\n",
       "      <td>15.48</td>\n",
       "      <td>11.63</td>\n",
       "    </tr>\n",
       "    <tr>\n",
       "      <th>3</th>\n",
       "      <td>2019-10-22</td>\n",
       "      <td>48</td>\n",
       "      <td>Lozère</td>\n",
       "      <td>9.70</td>\n",
       "      <td>16.50</td>\n",
       "      <td>13.10</td>\n",
       "    </tr>\n",
       "    <tr>\n",
       "      <th>4</th>\n",
       "      <td>2019-10-22</td>\n",
       "      <td>49</td>\n",
       "      <td>Maine-et-Loire</td>\n",
       "      <td>4.40</td>\n",
       "      <td>15.10</td>\n",
       "      <td>9.75</td>\n",
       "    </tr>\n",
       "  </tbody>\n",
       "</table>\n",
       "</div>"
      ],
      "text/plain": [
       "         Date Code INSEE département     Département   TMin   TMax   TMoy\n",
       "0  2019-10-22                     21       Côte-d'Or  10.90  16.00  13.45\n",
       "1  2019-10-22                     73          Savoie  11.70  18.65  15.18\n",
       "2  2019-10-22                     29       Finistère   7.77  15.48  11.63\n",
       "3  2019-10-22                     48          Lozère   9.70  16.50  13.10\n",
       "4  2019-10-22                     49  Maine-et-Loire   4.40  15.10   9.75"
      ]
     },
     "execution_count": 26,
     "metadata": {},
     "output_type": "execute_result"
    }
   ],
   "source": [
    "from sys import path\n",
    "import matplotlib.pyplot as plt\n",
    "import pandas as pd\n",
    "import plotly.graph_objects as go\n",
    "import plotly.express as px\n",
    "path.append('../src')\n",
    "import src\n",
    "\n",
    "df_temperature = pd.read_csv(\"../data/temperature-quotidienne-departementale.csv\", sep=';')\n",
    "df_temperature.rename(columns = {\"TMin (°C)\": \"TMin\", \"TMax (°C)\": \"TMax\", \"TMoy (°C)\": \"TMoy\"}, inplace=True)\n",
    "#We only consider dates before 2023, so dates between 2014 and 2022\n",
    "df_temperature = df_temperature[df_temperature.Date<\"2023\"]\n",
    "df_temperature.head()"
   ]
  },
  {
   "cell_type": "code",
   "execution_count": 27,
   "id": "2fff70d8",
   "metadata": {},
   "outputs": [],
   "source": [
    "# Create a dictionary to map agglomerations to departments\n",
    "agglomeration_department_map = {\n",
    "    'Agglomération de Nice-Menton': '06',\n",
    "    \"Agglomération d'Aix-Marseille\": '13',\n",
    "    \"Agglomération d'Arles\": '13',\n",
    "    'Agglomération de Besançon': '25',\n",
    "    'Agglomération de Toulouse': '31',\n",
    "    'Agglomération de Montpellier': '34',\n",
    "    'Agglomération de Sète': '34',\n",
    "    'Agglomération de Rennes': '35',\n",
    "    'Sud Loire - proche Haute-Loire': '42',\n",
    "    'Agglomération de Nantes': '44',\n",
    "    'Agglomération de Lille': '59',\n",
    "    \"Agglomération d'Alençon\": '61',\n",
    "    \"Unité urbaine de l'agglomération de Bayonne\": '64',\n",
    "    'Agglomération de Lyon': '69',\n",
    "    'Agglomération parisienne': '75',\n",
    "    'Agglomération parisienne (hors Paris)': '77,78,91,92,93,94,95',\n",
    "    'Paris intra-muros': '75',\n",
    "    'Agglomération de Toulon': '83',\n",
    "    'Agglomération de Draguignan': '83',\n",
    "    'Agglomération de Fréjus': '83',\n",
    "    'Agglomération de Saint Denis (La Réunion)': '974',\n",
    "    'Agglomération de La Rochelle': '17',\n",
    "    'Agglomération de Bordeaux': '33',\n",
    "    'Agglomération de Teste-de-Buch-Arcachon': '33',\n",
    "    'Eurométropole de Strasbourg': '67',\n",
    "    'Agglomération de Marseille': '13',\n",
    "    'Agglomération de Montbéliard': '25',\n",
    "    'Agglomération de Brest': '29',\n",
    "    'Agglomération de Nîmes': '30',\n",
    "    'Agglomération de Grenoble': '38',\n",
    "    'Agglomération de Nancy': '54',\n",
    "    'Agglomération de Douai': '59',\n",
    "    'Agglomération de Clermont-Ferrand': '63',\n",
    "    'La Roche-sur-Yon Agglomération': '85',\n",
    "    \"Les Sables d'Olonne Agglomération\": '85',\n",
    "    'Pays de Challans': '85',\n",
    "    'Agglomération CINOR': '974',\n",
    "    'Agglomération TCO': '974',\n",
    "    'Agglomération CIVIS': '974',\n",
    "    \"Agglomération d'Ajaccio\": '2A',\n",
    "    'Golfe du Morbihan - Vannes Agglomération': '56',\n",
    "    'Lorient Agglomération': '56',\n",
    "    'Auray Quiberon Terre Atlantique': '56',\n",
    "    'Agglomération CASUD': '974',\n",
    "    'Agglomération CIREST': '974',\n",
    "    'Agglomération de Valence-Romans': '26',\n",
    "    'Agglomération de Montélimar': '26',\n",
    "    'Agglomération de Vitré': '35',\n",
    "    'Agglomération de Tours': '37',\n",
    "    \"Agglomération d'Arras\": '62'\n",
    "}"
   ]
  },
  {
   "cell_type": "code",
   "execution_count": 28,
   "id": "f5f2b722",
   "metadata": {},
   "outputs": [],
   "source": [
    "agglomeration_department_map = {agglomeration:departments.split(\",\")\n",
    "                                for agglomeration, departments in agglomeration_department_map.items()}"
   ]
  },
  {
   "cell_type": "code",
   "execution_count": 29,
   "id": "7e1cfc29",
   "metadata": {},
   "outputs": [],
   "source": [
    "department_map = dict(df_temperature[[\"Code INSEE département\", \"Département\"]].drop_duplicates().itertuples(index=False))"
   ]
  },
  {
   "cell_type": "code",
   "execution_count": 30,
   "id": "2b2cedba",
   "metadata": {},
   "outputs": [],
   "source": [
    "agglomeration_department_map = {key:list(map(department_map.get, value))\n",
    "                                for key, value in agglomeration_department_map.items()}"
   ]
  },
  {
   "cell_type": "code",
   "execution_count": 31,
   "id": "49b1df68",
   "metadata": {},
   "outputs": [],
   "source": [
    "month_dic1 = {'01':'Jan', '02':'Feb', '03':'Mar', '04':'Apr', '05':'May', '06':'Jun', '07':'Jul', '08':'Aug', '09':'Sep',\n",
    "             '10':'Oct', '11':'Nov', '12':'Dec'}\n",
    "month_dic2 = {'Apr': 4, 'Aug': 8, 'Dec': 12, 'Feb': 2, 'Jan': 1, 'Jul': 7, 'Jun': 6, 'Mar': 3, 'May': 5, 'Nov': 11,\n",
    "              'Oct': 10, 'Sep': 9}\n",
    "def date_conversion(date):\n",
    "    date_split = date.split(\"-\")\n",
    "    return f\"{month_dic1[date_split[1]]} {date_split[0]}\""
   ]
  },
  {
   "cell_type": "code",
   "execution_count": 32,
   "id": "9ce1c34c",
   "metadata": {},
   "outputs": [
    {
     "data": {
      "text/html": [
       "<div>\n",
       "<style scoped>\n",
       "    .dataframe tbody tr th:only-of-type {\n",
       "        vertical-align: middle;\n",
       "    }\n",
       "\n",
       "    .dataframe tbody tr th {\n",
       "        vertical-align: top;\n",
       "    }\n",
       "\n",
       "    .dataframe thead th {\n",
       "        text-align: right;\n",
       "    }\n",
       "</style>\n",
       "<table border=\"1\" class=\"dataframe\">\n",
       "  <thead>\n",
       "    <tr style=\"text-align: right;\">\n",
       "      <th></th>\n",
       "      <th>Date</th>\n",
       "      <th>Code INSEE département</th>\n",
       "      <th>Département</th>\n",
       "      <th>TMin</th>\n",
       "      <th>TMax</th>\n",
       "      <th>TMoy</th>\n",
       "    </tr>\n",
       "  </thead>\n",
       "  <tbody>\n",
       "    <tr>\n",
       "      <th>2</th>\n",
       "      <td>2019-10-22</td>\n",
       "      <td>29</td>\n",
       "      <td>Finistère</td>\n",
       "      <td>7.77</td>\n",
       "      <td>15.48</td>\n",
       "      <td>11.63</td>\n",
       "    </tr>\n",
       "    <tr>\n",
       "      <th>5</th>\n",
       "      <td>2019-10-23</td>\n",
       "      <td>83</td>\n",
       "      <td>Var</td>\n",
       "      <td>18.56</td>\n",
       "      <td>22.28</td>\n",
       "      <td>20.42</td>\n",
       "    </tr>\n",
       "    <tr>\n",
       "      <th>6</th>\n",
       "      <td>2019-10-23</td>\n",
       "      <td>36</td>\n",
       "      <td>Indre</td>\n",
       "      <td>11.40</td>\n",
       "      <td>17.50</td>\n",
       "      <td>14.45</td>\n",
       "    </tr>\n",
       "    <tr>\n",
       "      <th>11</th>\n",
       "      <td>2019-10-23</td>\n",
       "      <td>42</td>\n",
       "      <td>Loire</td>\n",
       "      <td>11.75</td>\n",
       "      <td>14.90</td>\n",
       "      <td>13.32</td>\n",
       "    </tr>\n",
       "    <tr>\n",
       "      <th>20</th>\n",
       "      <td>2019-10-23</td>\n",
       "      <td>35</td>\n",
       "      <td>Ille-et-Vilaine</td>\n",
       "      <td>9.40</td>\n",
       "      <td>15.35</td>\n",
       "      <td>12.38</td>\n",
       "    </tr>\n",
       "    <tr>\n",
       "      <th>...</th>\n",
       "      <td>...</td>\n",
       "      <td>...</td>\n",
       "      <td>...</td>\n",
       "      <td>...</td>\n",
       "      <td>...</td>\n",
       "      <td>...</td>\n",
       "    </tr>\n",
       "    <tr>\n",
       "      <th>175274</th>\n",
       "      <td>2022-12-09</td>\n",
       "      <td>34</td>\n",
       "      <td>Hérault</td>\n",
       "      <td>5.93</td>\n",
       "      <td>14.73</td>\n",
       "      <td>10.33</td>\n",
       "    </tr>\n",
       "    <tr>\n",
       "      <th>175281</th>\n",
       "      <td>2022-12-10</td>\n",
       "      <td>56</td>\n",
       "      <td>Morbihan</td>\n",
       "      <td>-0.20</td>\n",
       "      <td>6.60</td>\n",
       "      <td>3.20</td>\n",
       "    </tr>\n",
       "    <tr>\n",
       "      <th>175283</th>\n",
       "      <td>2022-12-10</td>\n",
       "      <td>64</td>\n",
       "      <td>Pyrénées-Atlantiques</td>\n",
       "      <td>0.83</td>\n",
       "      <td>7.33</td>\n",
       "      <td>4.08</td>\n",
       "    </tr>\n",
       "    <tr>\n",
       "      <th>175290</th>\n",
       "      <td>2022-12-11</td>\n",
       "      <td>54</td>\n",
       "      <td>Meurthe-et-Moselle</td>\n",
       "      <td>-3.90</td>\n",
       "      <td>-1.00</td>\n",
       "      <td>-2.45</td>\n",
       "    </tr>\n",
       "    <tr>\n",
       "      <th>175294</th>\n",
       "      <td>2022-12-11</td>\n",
       "      <td>95</td>\n",
       "      <td>Val-d'Oise</td>\n",
       "      <td>-2.73</td>\n",
       "      <td>0.77</td>\n",
       "      <td>-0.98</td>\n",
       "    </tr>\n",
       "  </tbody>\n",
       "</table>\n",
       "<p>40172 rows × 6 columns</p>\n",
       "</div>"
      ],
      "text/plain": [
       "              Date Code INSEE département           Département   TMin   TMax  \\\n",
       "2       2019-10-22                     29             Finistère   7.77  15.48   \n",
       "5       2019-10-23                     83                   Var  18.56  22.28   \n",
       "6       2019-10-23                     36                 Indre  11.40  17.50   \n",
       "11      2019-10-23                     42                 Loire  11.75  14.90   \n",
       "20      2019-10-23                     35       Ille-et-Vilaine   9.40  15.35   \n",
       "...            ...                    ...                   ...    ...    ...   \n",
       "175274  2022-12-09                     34               Hérault   5.93  14.73   \n",
       "175281  2022-12-10                     56              Morbihan  -0.20   6.60   \n",
       "175283  2022-12-10                     64  Pyrénées-Atlantiques   0.83   7.33   \n",
       "175290  2022-12-11                     54    Meurthe-et-Moselle  -3.90  -1.00   \n",
       "175294  2022-12-11                     95            Val-d'Oise  -2.73   0.77   \n",
       "\n",
       "         TMoy  \n",
       "2       11.63  \n",
       "5       20.42  \n",
       "6       14.45  \n",
       "11      13.32  \n",
       "20      12.38  \n",
       "...       ...  \n",
       "175274  10.33  \n",
       "175281   3.20  \n",
       "175283   4.08  \n",
       "175290  -2.45  \n",
       "175294  -0.98  \n",
       "\n",
       "[40172 rows x 6 columns]"
      ]
     },
     "execution_count": 32,
     "metadata": {},
     "output_type": "execute_result"
    }
   ],
   "source": [
    "departements_selectionnes = ['29', '36', '83', '54', '30', '31', '56', '13', '61', '25', '59', '69', '34', '44', '06',\n",
    "                             '35', '974', '75', '42', '43', '64', '77', \"95\"]\n",
    "df_temperature = df_temperature[df_temperature['Code INSEE département'].isin(departements_selectionnes)]\n",
    "df_temperature"
   ]
  },
  {
   "cell_type": "code",
   "execution_count": 33,
   "id": "2aa19bef",
   "metadata": {},
   "outputs": [
    {
     "data": {
      "text/html": [
       "<div>\n",
       "<style scoped>\n",
       "    .dataframe tbody tr th:only-of-type {\n",
       "        vertical-align: middle;\n",
       "    }\n",
       "\n",
       "    .dataframe tbody tr th {\n",
       "        vertical-align: top;\n",
       "    }\n",
       "\n",
       "    .dataframe thead th {\n",
       "        text-align: right;\n",
       "    }\n",
       "</style>\n",
       "<table border=\"1\" class=\"dataframe\">\n",
       "  <thead>\n",
       "    <tr style=\"text-align: right;\">\n",
       "      <th></th>\n",
       "      <th>Département</th>\n",
       "      <th>TMin</th>\n",
       "      <th>TMax</th>\n",
       "      <th>TMoy</th>\n",
       "    </tr>\n",
       "  </thead>\n",
       "  <tbody>\n",
       "    <tr>\n",
       "      <th>0</th>\n",
       "      <td>Haute-Loire</td>\n",
       "      <td>4.560296</td>\n",
       "      <td>15.694962</td>\n",
       "      <td>10.127629</td>\n",
       "    </tr>\n",
       "    <tr>\n",
       "      <th>1</th>\n",
       "      <td>Meurthe-et-Moselle</td>\n",
       "      <td>7.026205</td>\n",
       "      <td>16.594688</td>\n",
       "      <td>11.810487</td>\n",
       "    </tr>\n",
       "    <tr>\n",
       "      <th>2</th>\n",
       "      <td>Orne</td>\n",
       "      <td>7.514294</td>\n",
       "      <td>16.758434</td>\n",
       "      <td>12.136364</td>\n",
       "    </tr>\n",
       "    <tr>\n",
       "      <th>3</th>\n",
       "      <td>Nord</td>\n",
       "      <td>8.916670</td>\n",
       "      <td>15.639814</td>\n",
       "      <td>12.278193</td>\n",
       "    </tr>\n",
       "    <tr>\n",
       "      <th>4</th>\n",
       "      <td>Doubs</td>\n",
       "      <td>7.669387</td>\n",
       "      <td>17.241457</td>\n",
       "      <td>12.455422</td>\n",
       "    </tr>\n",
       "  </tbody>\n",
       "</table>\n",
       "</div>"
      ],
      "text/plain": [
       "          Département      TMin       TMax       TMoy\n",
       "0         Haute-Loire  4.560296  15.694962  10.127629\n",
       "1  Meurthe-et-Moselle  7.026205  16.594688  11.810487\n",
       "2                Orne  7.514294  16.758434  12.136364\n",
       "3                Nord  8.916670  15.639814  12.278193\n",
       "4               Doubs  7.669387  17.241457  12.455422"
      ]
     },
     "execution_count": 33,
     "metadata": {},
     "output_type": "execute_result"
    }
   ],
   "source": [
    "df_temperature_departments = df_temperature[[\"Département\", \"TMin\", \"TMax\", \"TMoy\"]].groupby(\"Département\")\\\n",
    ".mean().sort_values(by=\"TMoy\").reset_index()\n",
    "df_temperature_departments.head()"
   ]
  },
  {
   "cell_type": "code",
   "execution_count": 34,
   "id": "f5245342",
   "metadata": {},
   "outputs": [
    {
     "data": {
      "application/vnd.plotly.v1+json": {
       "config": {
        "plotlyServerURL": "https://plot.ly"
       },
       "data": [
        {
         "alignmentgroup": "True",
         "hovertemplate": "%{label} : <br> %{value:.2f} °C",
         "legendgroup": "",
         "marker": {
          "color": "#636efa",
          "pattern": {
           "shape": ""
          }
         },
         "name": "",
         "offsetgroup": "",
         "orientation": "h",
         "showlegend": false,
         "textposition": "auto",
         "type": "bar",
         "x": [
          10.1276286966046,
          11.810487404162103,
          12.136363636363637,
          12.278192771084337,
          12.455421686746988,
          12.504107338444689,
          12.6539430449069,
          12.679644030668127,
          12.696555312157722,
          12.70881708652793,
          12.889567360350492,
          13.171144578313251,
          13.406478641840087,
          13.429731653888279,
          13.800301204819275,
          14.015060240963855,
          14.927803943044905,
          15.202431544359255,
          15.99855421686747,
          16.313099671412925,
          16.79460569550931,
          16.853576122672507
         ],
         "xaxis": "x",
         "y": [
          "Haute-Loire",
          "Meurthe-et-Moselle",
          "Orne",
          "Nord",
          "Doubs",
          "Loire",
          "Seine-et-Marne",
          "Finistère",
          "Ille-et-Vilaine",
          "Val-d'Oise",
          "Indre",
          "Gard",
          "Morbihan",
          "Loire-Atlantique",
          "Paris",
          "Rhône",
          "Haute-Garonne",
          "Pyrénées-Atlantiques",
          "Bouches-du-Rhône",
          "Hérault",
          "Var",
          "Alpes-Maritimes"
         ],
         "yaxis": "y"
        }
       ],
       "layout": {
        "barmode": "relative",
        "legend": {
         "tracegroupgap": 0
        },
        "template": {
         "data": {
          "bar": [
           {
            "error_x": {
             "color": "#2a3f5f"
            },
            "error_y": {
             "color": "#2a3f5f"
            },
            "marker": {
             "line": {
              "color": "#E5ECF6",
              "width": 0.5
             },
             "pattern": {
              "fillmode": "overlay",
              "size": 10,
              "solidity": 0.2
             }
            },
            "type": "bar"
           }
          ],
          "barpolar": [
           {
            "marker": {
             "line": {
              "color": "#E5ECF6",
              "width": 0.5
             },
             "pattern": {
              "fillmode": "overlay",
              "size": 10,
              "solidity": 0.2
             }
            },
            "type": "barpolar"
           }
          ],
          "carpet": [
           {
            "aaxis": {
             "endlinecolor": "#2a3f5f",
             "gridcolor": "white",
             "linecolor": "white",
             "minorgridcolor": "white",
             "startlinecolor": "#2a3f5f"
            },
            "baxis": {
             "endlinecolor": "#2a3f5f",
             "gridcolor": "white",
             "linecolor": "white",
             "minorgridcolor": "white",
             "startlinecolor": "#2a3f5f"
            },
            "type": "carpet"
           }
          ],
          "choropleth": [
           {
            "colorbar": {
             "outlinewidth": 0,
             "ticks": ""
            },
            "type": "choropleth"
           }
          ],
          "contour": [
           {
            "colorbar": {
             "outlinewidth": 0,
             "ticks": ""
            },
            "colorscale": [
             [
              0,
              "#0d0887"
             ],
             [
              0.1111111111111111,
              "#46039f"
             ],
             [
              0.2222222222222222,
              "#7201a8"
             ],
             [
              0.3333333333333333,
              "#9c179e"
             ],
             [
              0.4444444444444444,
              "#bd3786"
             ],
             [
              0.5555555555555556,
              "#d8576b"
             ],
             [
              0.6666666666666666,
              "#ed7953"
             ],
             [
              0.7777777777777778,
              "#fb9f3a"
             ],
             [
              0.8888888888888888,
              "#fdca26"
             ],
             [
              1,
              "#f0f921"
             ]
            ],
            "type": "contour"
           }
          ],
          "contourcarpet": [
           {
            "colorbar": {
             "outlinewidth": 0,
             "ticks": ""
            },
            "type": "contourcarpet"
           }
          ],
          "heatmap": [
           {
            "colorbar": {
             "outlinewidth": 0,
             "ticks": ""
            },
            "colorscale": [
             [
              0,
              "#0d0887"
             ],
             [
              0.1111111111111111,
              "#46039f"
             ],
             [
              0.2222222222222222,
              "#7201a8"
             ],
             [
              0.3333333333333333,
              "#9c179e"
             ],
             [
              0.4444444444444444,
              "#bd3786"
             ],
             [
              0.5555555555555556,
              "#d8576b"
             ],
             [
              0.6666666666666666,
              "#ed7953"
             ],
             [
              0.7777777777777778,
              "#fb9f3a"
             ],
             [
              0.8888888888888888,
              "#fdca26"
             ],
             [
              1,
              "#f0f921"
             ]
            ],
            "type": "heatmap"
           }
          ],
          "heatmapgl": [
           {
            "colorbar": {
             "outlinewidth": 0,
             "ticks": ""
            },
            "colorscale": [
             [
              0,
              "#0d0887"
             ],
             [
              0.1111111111111111,
              "#46039f"
             ],
             [
              0.2222222222222222,
              "#7201a8"
             ],
             [
              0.3333333333333333,
              "#9c179e"
             ],
             [
              0.4444444444444444,
              "#bd3786"
             ],
             [
              0.5555555555555556,
              "#d8576b"
             ],
             [
              0.6666666666666666,
              "#ed7953"
             ],
             [
              0.7777777777777778,
              "#fb9f3a"
             ],
             [
              0.8888888888888888,
              "#fdca26"
             ],
             [
              1,
              "#f0f921"
             ]
            ],
            "type": "heatmapgl"
           }
          ],
          "histogram": [
           {
            "marker": {
             "pattern": {
              "fillmode": "overlay",
              "size": 10,
              "solidity": 0.2
             }
            },
            "type": "histogram"
           }
          ],
          "histogram2d": [
           {
            "colorbar": {
             "outlinewidth": 0,
             "ticks": ""
            },
            "colorscale": [
             [
              0,
              "#0d0887"
             ],
             [
              0.1111111111111111,
              "#46039f"
             ],
             [
              0.2222222222222222,
              "#7201a8"
             ],
             [
              0.3333333333333333,
              "#9c179e"
             ],
             [
              0.4444444444444444,
              "#bd3786"
             ],
             [
              0.5555555555555556,
              "#d8576b"
             ],
             [
              0.6666666666666666,
              "#ed7953"
             ],
             [
              0.7777777777777778,
              "#fb9f3a"
             ],
             [
              0.8888888888888888,
              "#fdca26"
             ],
             [
              1,
              "#f0f921"
             ]
            ],
            "type": "histogram2d"
           }
          ],
          "histogram2dcontour": [
           {
            "colorbar": {
             "outlinewidth": 0,
             "ticks": ""
            },
            "colorscale": [
             [
              0,
              "#0d0887"
             ],
             [
              0.1111111111111111,
              "#46039f"
             ],
             [
              0.2222222222222222,
              "#7201a8"
             ],
             [
              0.3333333333333333,
              "#9c179e"
             ],
             [
              0.4444444444444444,
              "#bd3786"
             ],
             [
              0.5555555555555556,
              "#d8576b"
             ],
             [
              0.6666666666666666,
              "#ed7953"
             ],
             [
              0.7777777777777778,
              "#fb9f3a"
             ],
             [
              0.8888888888888888,
              "#fdca26"
             ],
             [
              1,
              "#f0f921"
             ]
            ],
            "type": "histogram2dcontour"
           }
          ],
          "mesh3d": [
           {
            "colorbar": {
             "outlinewidth": 0,
             "ticks": ""
            },
            "type": "mesh3d"
           }
          ],
          "parcoords": [
           {
            "line": {
             "colorbar": {
              "outlinewidth": 0,
              "ticks": ""
             }
            },
            "type": "parcoords"
           }
          ],
          "pie": [
           {
            "automargin": true,
            "type": "pie"
           }
          ],
          "scatter": [
           {
            "fillpattern": {
             "fillmode": "overlay",
             "size": 10,
             "solidity": 0.2
            },
            "type": "scatter"
           }
          ],
          "scatter3d": [
           {
            "line": {
             "colorbar": {
              "outlinewidth": 0,
              "ticks": ""
             }
            },
            "marker": {
             "colorbar": {
              "outlinewidth": 0,
              "ticks": ""
             }
            },
            "type": "scatter3d"
           }
          ],
          "scattercarpet": [
           {
            "marker": {
             "colorbar": {
              "outlinewidth": 0,
              "ticks": ""
             }
            },
            "type": "scattercarpet"
           }
          ],
          "scattergeo": [
           {
            "marker": {
             "colorbar": {
              "outlinewidth": 0,
              "ticks": ""
             }
            },
            "type": "scattergeo"
           }
          ],
          "scattergl": [
           {
            "marker": {
             "colorbar": {
              "outlinewidth": 0,
              "ticks": ""
             }
            },
            "type": "scattergl"
           }
          ],
          "scattermapbox": [
           {
            "marker": {
             "colorbar": {
              "outlinewidth": 0,
              "ticks": ""
             }
            },
            "type": "scattermapbox"
           }
          ],
          "scatterpolar": [
           {
            "marker": {
             "colorbar": {
              "outlinewidth": 0,
              "ticks": ""
             }
            },
            "type": "scatterpolar"
           }
          ],
          "scatterpolargl": [
           {
            "marker": {
             "colorbar": {
              "outlinewidth": 0,
              "ticks": ""
             }
            },
            "type": "scatterpolargl"
           }
          ],
          "scatterternary": [
           {
            "marker": {
             "colorbar": {
              "outlinewidth": 0,
              "ticks": ""
             }
            },
            "type": "scatterternary"
           }
          ],
          "surface": [
           {
            "colorbar": {
             "outlinewidth": 0,
             "ticks": ""
            },
            "colorscale": [
             [
              0,
              "#0d0887"
             ],
             [
              0.1111111111111111,
              "#46039f"
             ],
             [
              0.2222222222222222,
              "#7201a8"
             ],
             [
              0.3333333333333333,
              "#9c179e"
             ],
             [
              0.4444444444444444,
              "#bd3786"
             ],
             [
              0.5555555555555556,
              "#d8576b"
             ],
             [
              0.6666666666666666,
              "#ed7953"
             ],
             [
              0.7777777777777778,
              "#fb9f3a"
             ],
             [
              0.8888888888888888,
              "#fdca26"
             ],
             [
              1,
              "#f0f921"
             ]
            ],
            "type": "surface"
           }
          ],
          "table": [
           {
            "cells": {
             "fill": {
              "color": "#EBF0F8"
             },
             "line": {
              "color": "white"
             }
            },
            "header": {
             "fill": {
              "color": "#C8D4E3"
             },
             "line": {
              "color": "white"
             }
            },
            "type": "table"
           }
          ]
         },
         "layout": {
          "annotationdefaults": {
           "arrowcolor": "#2a3f5f",
           "arrowhead": 0,
           "arrowwidth": 1
          },
          "autotypenumbers": "strict",
          "coloraxis": {
           "colorbar": {
            "outlinewidth": 0,
            "ticks": ""
           }
          },
          "colorscale": {
           "diverging": [
            [
             0,
             "#8e0152"
            ],
            [
             0.1,
             "#c51b7d"
            ],
            [
             0.2,
             "#de77ae"
            ],
            [
             0.3,
             "#f1b6da"
            ],
            [
             0.4,
             "#fde0ef"
            ],
            [
             0.5,
             "#f7f7f7"
            ],
            [
             0.6,
             "#e6f5d0"
            ],
            [
             0.7,
             "#b8e186"
            ],
            [
             0.8,
             "#7fbc41"
            ],
            [
             0.9,
             "#4d9221"
            ],
            [
             1,
             "#276419"
            ]
           ],
           "sequential": [
            [
             0,
             "#0d0887"
            ],
            [
             0.1111111111111111,
             "#46039f"
            ],
            [
             0.2222222222222222,
             "#7201a8"
            ],
            [
             0.3333333333333333,
             "#9c179e"
            ],
            [
             0.4444444444444444,
             "#bd3786"
            ],
            [
             0.5555555555555556,
             "#d8576b"
            ],
            [
             0.6666666666666666,
             "#ed7953"
            ],
            [
             0.7777777777777778,
             "#fb9f3a"
            ],
            [
             0.8888888888888888,
             "#fdca26"
            ],
            [
             1,
             "#f0f921"
            ]
           ],
           "sequentialminus": [
            [
             0,
             "#0d0887"
            ],
            [
             0.1111111111111111,
             "#46039f"
            ],
            [
             0.2222222222222222,
             "#7201a8"
            ],
            [
             0.3333333333333333,
             "#9c179e"
            ],
            [
             0.4444444444444444,
             "#bd3786"
            ],
            [
             0.5555555555555556,
             "#d8576b"
            ],
            [
             0.6666666666666666,
             "#ed7953"
            ],
            [
             0.7777777777777778,
             "#fb9f3a"
            ],
            [
             0.8888888888888888,
             "#fdca26"
            ],
            [
             1,
             "#f0f921"
            ]
           ]
          },
          "colorway": [
           "#636efa",
           "#EF553B",
           "#00cc96",
           "#ab63fa",
           "#FFA15A",
           "#19d3f3",
           "#FF6692",
           "#B6E880",
           "#FF97FF",
           "#FECB52"
          ],
          "font": {
           "color": "#2a3f5f"
          },
          "geo": {
           "bgcolor": "white",
           "lakecolor": "white",
           "landcolor": "#E5ECF6",
           "showlakes": true,
           "showland": true,
           "subunitcolor": "white"
          },
          "hoverlabel": {
           "align": "left"
          },
          "hovermode": "closest",
          "mapbox": {
           "style": "light"
          },
          "paper_bgcolor": "white",
          "plot_bgcolor": "#E5ECF6",
          "polar": {
           "angularaxis": {
            "gridcolor": "white",
            "linecolor": "white",
            "ticks": ""
           },
           "bgcolor": "#E5ECF6",
           "radialaxis": {
            "gridcolor": "white",
            "linecolor": "white",
            "ticks": ""
           }
          },
          "scene": {
           "xaxis": {
            "backgroundcolor": "#E5ECF6",
            "gridcolor": "white",
            "gridwidth": 2,
            "linecolor": "white",
            "showbackground": true,
            "ticks": "",
            "zerolinecolor": "white"
           },
           "yaxis": {
            "backgroundcolor": "#E5ECF6",
            "gridcolor": "white",
            "gridwidth": 2,
            "linecolor": "white",
            "showbackground": true,
            "ticks": "",
            "zerolinecolor": "white"
           },
           "zaxis": {
            "backgroundcolor": "#E5ECF6",
            "gridcolor": "white",
            "gridwidth": 2,
            "linecolor": "white",
            "showbackground": true,
            "ticks": "",
            "zerolinecolor": "white"
           }
          },
          "shapedefaults": {
           "line": {
            "color": "#2a3f5f"
           }
          },
          "ternary": {
           "aaxis": {
            "gridcolor": "white",
            "linecolor": "white",
            "ticks": ""
           },
           "baxis": {
            "gridcolor": "white",
            "linecolor": "white",
            "ticks": ""
           },
           "bgcolor": "#E5ECF6",
           "caxis": {
            "gridcolor": "white",
            "linecolor": "white",
            "ticks": ""
           }
          },
          "title": {
           "x": 0.05
          },
          "xaxis": {
           "automargin": true,
           "gridcolor": "white",
           "linecolor": "white",
           "ticks": "",
           "title": {
            "standoff": 15
           },
           "zerolinecolor": "white",
           "zerolinewidth": 2
          },
          "yaxis": {
           "automargin": true,
           "gridcolor": "white",
           "linecolor": "white",
           "ticks": "",
           "title": {
            "standoff": 15
           },
           "zerolinecolor": "white",
           "zerolinewidth": 2
          }
         }
        },
        "title": {
         "text": "Average Temperature by Department"
        },
        "xaxis": {
         "anchor": "y",
         "domain": [
          0,
          1
         ],
         "title": {
          "text": "Average Temperature (°C)"
         }
        },
        "yaxis": {
         "anchor": "x",
         "domain": [
          0,
          1
         ],
         "title": {
          "text": "Department"
         }
        }
       }
      },
      "text/html": [
       "<div>                            <div id=\"3c58a926-a788-4121-86a0-41551f5e34c6\" class=\"plotly-graph-div\" style=\"height:525px; width:100%;\"></div>            <script type=\"text/javascript\">                require([\"plotly\"], function(Plotly) {                    window.PLOTLYENV=window.PLOTLYENV || {};                                    if (document.getElementById(\"3c58a926-a788-4121-86a0-41551f5e34c6\")) {                    Plotly.newPlot(                        \"3c58a926-a788-4121-86a0-41551f5e34c6\",                        [{\"alignmentgroup\":\"True\",\"hovertemplate\":\"%{label} : <br> %{value:.2f} \\u00b0C\",\"legendgroup\":\"\",\"marker\":{\"color\":\"#636efa\",\"pattern\":{\"shape\":\"\"}},\"name\":\"\",\"offsetgroup\":\"\",\"orientation\":\"h\",\"showlegend\":false,\"textposition\":\"auto\",\"x\":[10.1276286966046,11.810487404162103,12.136363636363637,12.278192771084337,12.455421686746988,12.504107338444689,12.6539430449069,12.679644030668127,12.696555312157722,12.70881708652793,12.889567360350492,13.171144578313251,13.406478641840087,13.429731653888279,13.800301204819275,14.015060240963855,14.927803943044905,15.202431544359255,15.99855421686747,16.313099671412925,16.79460569550931,16.853576122672507],\"xaxis\":\"x\",\"y\":[\"Haute-Loire\",\"Meurthe-et-Moselle\",\"Orne\",\"Nord\",\"Doubs\",\"Loire\",\"Seine-et-Marne\",\"Finist\\u00e8re\",\"Ille-et-Vilaine\",\"Val-d'Oise\",\"Indre\",\"Gard\",\"Morbihan\",\"Loire-Atlantique\",\"Paris\",\"Rh\\u00f4ne\",\"Haute-Garonne\",\"Pyr\\u00e9n\\u00e9es-Atlantiques\",\"Bouches-du-Rh\\u00f4ne\",\"H\\u00e9rault\",\"Var\",\"Alpes-Maritimes\"],\"yaxis\":\"y\",\"type\":\"bar\"}],                        {\"template\":{\"data\":{\"histogram2dcontour\":[{\"type\":\"histogram2dcontour\",\"colorbar\":{\"outlinewidth\":0,\"ticks\":\"\"},\"colorscale\":[[0.0,\"#0d0887\"],[0.1111111111111111,\"#46039f\"],[0.2222222222222222,\"#7201a8\"],[0.3333333333333333,\"#9c179e\"],[0.4444444444444444,\"#bd3786\"],[0.5555555555555556,\"#d8576b\"],[0.6666666666666666,\"#ed7953\"],[0.7777777777777778,\"#fb9f3a\"],[0.8888888888888888,\"#fdca26\"],[1.0,\"#f0f921\"]]}],\"choropleth\":[{\"type\":\"choropleth\",\"colorbar\":{\"outlinewidth\":0,\"ticks\":\"\"}}],\"histogram2d\":[{\"type\":\"histogram2d\",\"colorbar\":{\"outlinewidth\":0,\"ticks\":\"\"},\"colorscale\":[[0.0,\"#0d0887\"],[0.1111111111111111,\"#46039f\"],[0.2222222222222222,\"#7201a8\"],[0.3333333333333333,\"#9c179e\"],[0.4444444444444444,\"#bd3786\"],[0.5555555555555556,\"#d8576b\"],[0.6666666666666666,\"#ed7953\"],[0.7777777777777778,\"#fb9f3a\"],[0.8888888888888888,\"#fdca26\"],[1.0,\"#f0f921\"]]}],\"heatmap\":[{\"type\":\"heatmap\",\"colorbar\":{\"outlinewidth\":0,\"ticks\":\"\"},\"colorscale\":[[0.0,\"#0d0887\"],[0.1111111111111111,\"#46039f\"],[0.2222222222222222,\"#7201a8\"],[0.3333333333333333,\"#9c179e\"],[0.4444444444444444,\"#bd3786\"],[0.5555555555555556,\"#d8576b\"],[0.6666666666666666,\"#ed7953\"],[0.7777777777777778,\"#fb9f3a\"],[0.8888888888888888,\"#fdca26\"],[1.0,\"#f0f921\"]]}],\"heatmapgl\":[{\"type\":\"heatmapgl\",\"colorbar\":{\"outlinewidth\":0,\"ticks\":\"\"},\"colorscale\":[[0.0,\"#0d0887\"],[0.1111111111111111,\"#46039f\"],[0.2222222222222222,\"#7201a8\"],[0.3333333333333333,\"#9c179e\"],[0.4444444444444444,\"#bd3786\"],[0.5555555555555556,\"#d8576b\"],[0.6666666666666666,\"#ed7953\"],[0.7777777777777778,\"#fb9f3a\"],[0.8888888888888888,\"#fdca26\"],[1.0,\"#f0f921\"]]}],\"contourcarpet\":[{\"type\":\"contourcarpet\",\"colorbar\":{\"outlinewidth\":0,\"ticks\":\"\"}}],\"contour\":[{\"type\":\"contour\",\"colorbar\":{\"outlinewidth\":0,\"ticks\":\"\"},\"colorscale\":[[0.0,\"#0d0887\"],[0.1111111111111111,\"#46039f\"],[0.2222222222222222,\"#7201a8\"],[0.3333333333333333,\"#9c179e\"],[0.4444444444444444,\"#bd3786\"],[0.5555555555555556,\"#d8576b\"],[0.6666666666666666,\"#ed7953\"],[0.7777777777777778,\"#fb9f3a\"],[0.8888888888888888,\"#fdca26\"],[1.0,\"#f0f921\"]]}],\"surface\":[{\"type\":\"surface\",\"colorbar\":{\"outlinewidth\":0,\"ticks\":\"\"},\"colorscale\":[[0.0,\"#0d0887\"],[0.1111111111111111,\"#46039f\"],[0.2222222222222222,\"#7201a8\"],[0.3333333333333333,\"#9c179e\"],[0.4444444444444444,\"#bd3786\"],[0.5555555555555556,\"#d8576b\"],[0.6666666666666666,\"#ed7953\"],[0.7777777777777778,\"#fb9f3a\"],[0.8888888888888888,\"#fdca26\"],[1.0,\"#f0f921\"]]}],\"mesh3d\":[{\"type\":\"mesh3d\",\"colorbar\":{\"outlinewidth\":0,\"ticks\":\"\"}}],\"scatter\":[{\"fillpattern\":{\"fillmode\":\"overlay\",\"size\":10,\"solidity\":0.2},\"type\":\"scatter\"}],\"parcoords\":[{\"type\":\"parcoords\",\"line\":{\"colorbar\":{\"outlinewidth\":0,\"ticks\":\"\"}}}],\"scatterpolargl\":[{\"type\":\"scatterpolargl\",\"marker\":{\"colorbar\":{\"outlinewidth\":0,\"ticks\":\"\"}}}],\"bar\":[{\"error_x\":{\"color\":\"#2a3f5f\"},\"error_y\":{\"color\":\"#2a3f5f\"},\"marker\":{\"line\":{\"color\":\"#E5ECF6\",\"width\":0.5},\"pattern\":{\"fillmode\":\"overlay\",\"size\":10,\"solidity\":0.2}},\"type\":\"bar\"}],\"scattergeo\":[{\"type\":\"scattergeo\",\"marker\":{\"colorbar\":{\"outlinewidth\":0,\"ticks\":\"\"}}}],\"scatterpolar\":[{\"type\":\"scatterpolar\",\"marker\":{\"colorbar\":{\"outlinewidth\":0,\"ticks\":\"\"}}}],\"histogram\":[{\"marker\":{\"pattern\":{\"fillmode\":\"overlay\",\"size\":10,\"solidity\":0.2}},\"type\":\"histogram\"}],\"scattergl\":[{\"type\":\"scattergl\",\"marker\":{\"colorbar\":{\"outlinewidth\":0,\"ticks\":\"\"}}}],\"scatter3d\":[{\"type\":\"scatter3d\",\"line\":{\"colorbar\":{\"outlinewidth\":0,\"ticks\":\"\"}},\"marker\":{\"colorbar\":{\"outlinewidth\":0,\"ticks\":\"\"}}}],\"scattermapbox\":[{\"type\":\"scattermapbox\",\"marker\":{\"colorbar\":{\"outlinewidth\":0,\"ticks\":\"\"}}}],\"scatterternary\":[{\"type\":\"scatterternary\",\"marker\":{\"colorbar\":{\"outlinewidth\":0,\"ticks\":\"\"}}}],\"scattercarpet\":[{\"type\":\"scattercarpet\",\"marker\":{\"colorbar\":{\"outlinewidth\":0,\"ticks\":\"\"}}}],\"carpet\":[{\"aaxis\":{\"endlinecolor\":\"#2a3f5f\",\"gridcolor\":\"white\",\"linecolor\":\"white\",\"minorgridcolor\":\"white\",\"startlinecolor\":\"#2a3f5f\"},\"baxis\":{\"endlinecolor\":\"#2a3f5f\",\"gridcolor\":\"white\",\"linecolor\":\"white\",\"minorgridcolor\":\"white\",\"startlinecolor\":\"#2a3f5f\"},\"type\":\"carpet\"}],\"table\":[{\"cells\":{\"fill\":{\"color\":\"#EBF0F8\"},\"line\":{\"color\":\"white\"}},\"header\":{\"fill\":{\"color\":\"#C8D4E3\"},\"line\":{\"color\":\"white\"}},\"type\":\"table\"}],\"barpolar\":[{\"marker\":{\"line\":{\"color\":\"#E5ECF6\",\"width\":0.5},\"pattern\":{\"fillmode\":\"overlay\",\"size\":10,\"solidity\":0.2}},\"type\":\"barpolar\"}],\"pie\":[{\"automargin\":true,\"type\":\"pie\"}]},\"layout\":{\"autotypenumbers\":\"strict\",\"colorway\":[\"#636efa\",\"#EF553B\",\"#00cc96\",\"#ab63fa\",\"#FFA15A\",\"#19d3f3\",\"#FF6692\",\"#B6E880\",\"#FF97FF\",\"#FECB52\"],\"font\":{\"color\":\"#2a3f5f\"},\"hovermode\":\"closest\",\"hoverlabel\":{\"align\":\"left\"},\"paper_bgcolor\":\"white\",\"plot_bgcolor\":\"#E5ECF6\",\"polar\":{\"bgcolor\":\"#E5ECF6\",\"angularaxis\":{\"gridcolor\":\"white\",\"linecolor\":\"white\",\"ticks\":\"\"},\"radialaxis\":{\"gridcolor\":\"white\",\"linecolor\":\"white\",\"ticks\":\"\"}},\"ternary\":{\"bgcolor\":\"#E5ECF6\",\"aaxis\":{\"gridcolor\":\"white\",\"linecolor\":\"white\",\"ticks\":\"\"},\"baxis\":{\"gridcolor\":\"white\",\"linecolor\":\"white\",\"ticks\":\"\"},\"caxis\":{\"gridcolor\":\"white\",\"linecolor\":\"white\",\"ticks\":\"\"}},\"coloraxis\":{\"colorbar\":{\"outlinewidth\":0,\"ticks\":\"\"}},\"colorscale\":{\"sequential\":[[0.0,\"#0d0887\"],[0.1111111111111111,\"#46039f\"],[0.2222222222222222,\"#7201a8\"],[0.3333333333333333,\"#9c179e\"],[0.4444444444444444,\"#bd3786\"],[0.5555555555555556,\"#d8576b\"],[0.6666666666666666,\"#ed7953\"],[0.7777777777777778,\"#fb9f3a\"],[0.8888888888888888,\"#fdca26\"],[1.0,\"#f0f921\"]],\"sequentialminus\":[[0.0,\"#0d0887\"],[0.1111111111111111,\"#46039f\"],[0.2222222222222222,\"#7201a8\"],[0.3333333333333333,\"#9c179e\"],[0.4444444444444444,\"#bd3786\"],[0.5555555555555556,\"#d8576b\"],[0.6666666666666666,\"#ed7953\"],[0.7777777777777778,\"#fb9f3a\"],[0.8888888888888888,\"#fdca26\"],[1.0,\"#f0f921\"]],\"diverging\":[[0,\"#8e0152\"],[0.1,\"#c51b7d\"],[0.2,\"#de77ae\"],[0.3,\"#f1b6da\"],[0.4,\"#fde0ef\"],[0.5,\"#f7f7f7\"],[0.6,\"#e6f5d0\"],[0.7,\"#b8e186\"],[0.8,\"#7fbc41\"],[0.9,\"#4d9221\"],[1,\"#276419\"]]},\"xaxis\":{\"gridcolor\":\"white\",\"linecolor\":\"white\",\"ticks\":\"\",\"title\":{\"standoff\":15},\"zerolinecolor\":\"white\",\"automargin\":true,\"zerolinewidth\":2},\"yaxis\":{\"gridcolor\":\"white\",\"linecolor\":\"white\",\"ticks\":\"\",\"title\":{\"standoff\":15},\"zerolinecolor\":\"white\",\"automargin\":true,\"zerolinewidth\":2},\"scene\":{\"xaxis\":{\"backgroundcolor\":\"#E5ECF6\",\"gridcolor\":\"white\",\"linecolor\":\"white\",\"showbackground\":true,\"ticks\":\"\",\"zerolinecolor\":\"white\",\"gridwidth\":2},\"yaxis\":{\"backgroundcolor\":\"#E5ECF6\",\"gridcolor\":\"white\",\"linecolor\":\"white\",\"showbackground\":true,\"ticks\":\"\",\"zerolinecolor\":\"white\",\"gridwidth\":2},\"zaxis\":{\"backgroundcolor\":\"#E5ECF6\",\"gridcolor\":\"white\",\"linecolor\":\"white\",\"showbackground\":true,\"ticks\":\"\",\"zerolinecolor\":\"white\",\"gridwidth\":2}},\"shapedefaults\":{\"line\":{\"color\":\"#2a3f5f\"}},\"annotationdefaults\":{\"arrowcolor\":\"#2a3f5f\",\"arrowhead\":0,\"arrowwidth\":1},\"geo\":{\"bgcolor\":\"white\",\"landcolor\":\"#E5ECF6\",\"subunitcolor\":\"white\",\"showland\":true,\"showlakes\":true,\"lakecolor\":\"white\"},\"title\":{\"x\":0.05},\"mapbox\":{\"style\":\"light\"}}},\"xaxis\":{\"anchor\":\"y\",\"domain\":[0.0,1.0],\"title\":{\"text\":\"Average Temperature (\\u00b0C)\"}},\"yaxis\":{\"anchor\":\"x\",\"domain\":[0.0,1.0],\"title\":{\"text\":\"Department\"}},\"legend\":{\"tracegroupgap\":0},\"title\":{\"text\":\"Average Temperature by Department\"},\"barmode\":\"relative\"},                        {\"responsive\": true}                    ).then(function(){\n",
       "                            \n",
       "var gd = document.getElementById('3c58a926-a788-4121-86a0-41551f5e34c6');\n",
       "var x = new MutationObserver(function (mutations, observer) {{\n",
       "        var display = window.getComputedStyle(gd).display;\n",
       "        if (!display || display === 'none') {{\n",
       "            console.log([gd, 'removed!']);\n",
       "            Plotly.purge(gd);\n",
       "            observer.disconnect();\n",
       "        }}\n",
       "}});\n",
       "\n",
       "// Listen for the removal of the full notebook cells\n",
       "var notebookContainer = gd.closest('#notebook-container');\n",
       "if (notebookContainer) {{\n",
       "    x.observe(notebookContainer, {childList: true});\n",
       "}}\n",
       "\n",
       "// Listen for the clearing of the current output cell\n",
       "var outputEl = gd.closest('.output');\n",
       "if (outputEl) {{\n",
       "    x.observe(outputEl, {childList: true});\n",
       "}}\n",
       "\n",
       "                        })                };                });            </script>        </div>"
      ]
     },
     "metadata": {},
     "output_type": "display_data"
    }
   ],
   "source": [
    "fig = px.bar(df_temperature_departments, x=\"TMoy\", y=\"Département\", title=\"Average Temperature by Department\",\n",
    "             labels={\"TMoy\":\"Average Temperature (°C)\", \"Département\":\"Department\"}, orientation='h')\n",
    "fig.update_traces(hovertemplate=\"%{label} : <br> %{value:.2f} °C\")\n",
    "fig.show()"
   ]
  },
  {
   "cell_type": "code",
   "execution_count": 35,
   "id": "f0f78061",
   "metadata": {
    "scrolled": false
   },
   "outputs": [
    {
     "data": {
      "application/vnd.plotly.v1+json": {
       "config": {
        "plotlyServerURL": "https://plot.ly"
       },
       "data": [
        {
         "error_x": {
          "array": [
           5.567332968236583,
           4.784200438116102,
           4.622070098576124,
           3.361621029572838,
           4.7860350492880634,
           5.540613362541075,
           4.8426067907995645,
           2.554293537787512,
           4.233088718510404,
           4.474238773274916,
           5.227519167579411,
           4.531544359255205,
           3.0934501642935377,
           3.6392332968236616,
           3.897453450164294,
           4.638937568455638,
           4.92354874041621,
           4.264512595837898,
           4.091084337349399,
           4.424008762322014,
           3.76274917853231,
           3.3362924424972604
          ],
          "arrayminus": [
           5.567332968236582,
           4.784282584884995,
           4.622070098576123,
           3.3615224534501635,
           4.786035049288062,
           5.5406736035049295,
           4.842606790799561,
           2.5546276013143494,
           4.232918948521359,
           4.474222343921138,
           5.227519167579408,
           4.5314019715224525,
           3.0934282584884976,
           3.6392332968236563,
           3.897453450164292,
           4.639266155531216,
           4.923450164293536,
           4.264518072289157,
           4.0910186199342835,
           4.423877327491786,
           3.762617743702082,
           3.336538882803941
          ]
         },
         "hovertemplate": "%{label} : <br> %{value:.2f} °C<extra></extra>",
         "orientation": "h",
         "type": "bar",
         "x": [
          10.1276286966046,
          11.810487404162103,
          12.136363636363637,
          12.278192771084337,
          12.455421686746988,
          12.504107338444689,
          12.6539430449069,
          12.679644030668127,
          12.696555312157722,
          12.70881708652793,
          12.889567360350492,
          13.171144578313251,
          13.406478641840087,
          13.429731653888279,
          13.800301204819275,
          14.015060240963855,
          14.927803943044905,
          15.202431544359255,
          15.99855421686747,
          16.313099671412925,
          16.79460569550931,
          16.853576122672507
         ],
         "y": [
          "Haute-Loire",
          "Meurthe-et-Moselle",
          "Orne",
          "Nord",
          "Doubs",
          "Loire",
          "Seine-et-Marne",
          "Finistère",
          "Ille-et-Vilaine",
          "Val-d'Oise",
          "Indre",
          "Gard",
          "Morbihan",
          "Loire-Atlantique",
          "Paris",
          "Rhône",
          "Haute-Garonne",
          "Pyrénées-Atlantiques",
          "Bouches-du-Rhône",
          "Hérault",
          "Var",
          "Alpes-Maritimes"
         ]
        }
       ],
       "layout": {
        "template": {
         "data": {
          "bar": [
           {
            "error_x": {
             "color": "#2a3f5f"
            },
            "error_y": {
             "color": "#2a3f5f"
            },
            "marker": {
             "line": {
              "color": "#E5ECF6",
              "width": 0.5
             },
             "pattern": {
              "fillmode": "overlay",
              "size": 10,
              "solidity": 0.2
             }
            },
            "type": "bar"
           }
          ],
          "barpolar": [
           {
            "marker": {
             "line": {
              "color": "#E5ECF6",
              "width": 0.5
             },
             "pattern": {
              "fillmode": "overlay",
              "size": 10,
              "solidity": 0.2
             }
            },
            "type": "barpolar"
           }
          ],
          "carpet": [
           {
            "aaxis": {
             "endlinecolor": "#2a3f5f",
             "gridcolor": "white",
             "linecolor": "white",
             "minorgridcolor": "white",
             "startlinecolor": "#2a3f5f"
            },
            "baxis": {
             "endlinecolor": "#2a3f5f",
             "gridcolor": "white",
             "linecolor": "white",
             "minorgridcolor": "white",
             "startlinecolor": "#2a3f5f"
            },
            "type": "carpet"
           }
          ],
          "choropleth": [
           {
            "colorbar": {
             "outlinewidth": 0,
             "ticks": ""
            },
            "type": "choropleth"
           }
          ],
          "contour": [
           {
            "colorbar": {
             "outlinewidth": 0,
             "ticks": ""
            },
            "colorscale": [
             [
              0,
              "#0d0887"
             ],
             [
              0.1111111111111111,
              "#46039f"
             ],
             [
              0.2222222222222222,
              "#7201a8"
             ],
             [
              0.3333333333333333,
              "#9c179e"
             ],
             [
              0.4444444444444444,
              "#bd3786"
             ],
             [
              0.5555555555555556,
              "#d8576b"
             ],
             [
              0.6666666666666666,
              "#ed7953"
             ],
             [
              0.7777777777777778,
              "#fb9f3a"
             ],
             [
              0.8888888888888888,
              "#fdca26"
             ],
             [
              1,
              "#f0f921"
             ]
            ],
            "type": "contour"
           }
          ],
          "contourcarpet": [
           {
            "colorbar": {
             "outlinewidth": 0,
             "ticks": ""
            },
            "type": "contourcarpet"
           }
          ],
          "heatmap": [
           {
            "colorbar": {
             "outlinewidth": 0,
             "ticks": ""
            },
            "colorscale": [
             [
              0,
              "#0d0887"
             ],
             [
              0.1111111111111111,
              "#46039f"
             ],
             [
              0.2222222222222222,
              "#7201a8"
             ],
             [
              0.3333333333333333,
              "#9c179e"
             ],
             [
              0.4444444444444444,
              "#bd3786"
             ],
             [
              0.5555555555555556,
              "#d8576b"
             ],
             [
              0.6666666666666666,
              "#ed7953"
             ],
             [
              0.7777777777777778,
              "#fb9f3a"
             ],
             [
              0.8888888888888888,
              "#fdca26"
             ],
             [
              1,
              "#f0f921"
             ]
            ],
            "type": "heatmap"
           }
          ],
          "heatmapgl": [
           {
            "colorbar": {
             "outlinewidth": 0,
             "ticks": ""
            },
            "colorscale": [
             [
              0,
              "#0d0887"
             ],
             [
              0.1111111111111111,
              "#46039f"
             ],
             [
              0.2222222222222222,
              "#7201a8"
             ],
             [
              0.3333333333333333,
              "#9c179e"
             ],
             [
              0.4444444444444444,
              "#bd3786"
             ],
             [
              0.5555555555555556,
              "#d8576b"
             ],
             [
              0.6666666666666666,
              "#ed7953"
             ],
             [
              0.7777777777777778,
              "#fb9f3a"
             ],
             [
              0.8888888888888888,
              "#fdca26"
             ],
             [
              1,
              "#f0f921"
             ]
            ],
            "type": "heatmapgl"
           }
          ],
          "histogram": [
           {
            "marker": {
             "pattern": {
              "fillmode": "overlay",
              "size": 10,
              "solidity": 0.2
             }
            },
            "type": "histogram"
           }
          ],
          "histogram2d": [
           {
            "colorbar": {
             "outlinewidth": 0,
             "ticks": ""
            },
            "colorscale": [
             [
              0,
              "#0d0887"
             ],
             [
              0.1111111111111111,
              "#46039f"
             ],
             [
              0.2222222222222222,
              "#7201a8"
             ],
             [
              0.3333333333333333,
              "#9c179e"
             ],
             [
              0.4444444444444444,
              "#bd3786"
             ],
             [
              0.5555555555555556,
              "#d8576b"
             ],
             [
              0.6666666666666666,
              "#ed7953"
             ],
             [
              0.7777777777777778,
              "#fb9f3a"
             ],
             [
              0.8888888888888888,
              "#fdca26"
             ],
             [
              1,
              "#f0f921"
             ]
            ],
            "type": "histogram2d"
           }
          ],
          "histogram2dcontour": [
           {
            "colorbar": {
             "outlinewidth": 0,
             "ticks": ""
            },
            "colorscale": [
             [
              0,
              "#0d0887"
             ],
             [
              0.1111111111111111,
              "#46039f"
             ],
             [
              0.2222222222222222,
              "#7201a8"
             ],
             [
              0.3333333333333333,
              "#9c179e"
             ],
             [
              0.4444444444444444,
              "#bd3786"
             ],
             [
              0.5555555555555556,
              "#d8576b"
             ],
             [
              0.6666666666666666,
              "#ed7953"
             ],
             [
              0.7777777777777778,
              "#fb9f3a"
             ],
             [
              0.8888888888888888,
              "#fdca26"
             ],
             [
              1,
              "#f0f921"
             ]
            ],
            "type": "histogram2dcontour"
           }
          ],
          "mesh3d": [
           {
            "colorbar": {
             "outlinewidth": 0,
             "ticks": ""
            },
            "type": "mesh3d"
           }
          ],
          "parcoords": [
           {
            "line": {
             "colorbar": {
              "outlinewidth": 0,
              "ticks": ""
             }
            },
            "type": "parcoords"
           }
          ],
          "pie": [
           {
            "automargin": true,
            "type": "pie"
           }
          ],
          "scatter": [
           {
            "fillpattern": {
             "fillmode": "overlay",
             "size": 10,
             "solidity": 0.2
            },
            "type": "scatter"
           }
          ],
          "scatter3d": [
           {
            "line": {
             "colorbar": {
              "outlinewidth": 0,
              "ticks": ""
             }
            },
            "marker": {
             "colorbar": {
              "outlinewidth": 0,
              "ticks": ""
             }
            },
            "type": "scatter3d"
           }
          ],
          "scattercarpet": [
           {
            "marker": {
             "colorbar": {
              "outlinewidth": 0,
              "ticks": ""
             }
            },
            "type": "scattercarpet"
           }
          ],
          "scattergeo": [
           {
            "marker": {
             "colorbar": {
              "outlinewidth": 0,
              "ticks": ""
             }
            },
            "type": "scattergeo"
           }
          ],
          "scattergl": [
           {
            "marker": {
             "colorbar": {
              "outlinewidth": 0,
              "ticks": ""
             }
            },
            "type": "scattergl"
           }
          ],
          "scattermapbox": [
           {
            "marker": {
             "colorbar": {
              "outlinewidth": 0,
              "ticks": ""
             }
            },
            "type": "scattermapbox"
           }
          ],
          "scatterpolar": [
           {
            "marker": {
             "colorbar": {
              "outlinewidth": 0,
              "ticks": ""
             }
            },
            "type": "scatterpolar"
           }
          ],
          "scatterpolargl": [
           {
            "marker": {
             "colorbar": {
              "outlinewidth": 0,
              "ticks": ""
             }
            },
            "type": "scatterpolargl"
           }
          ],
          "scatterternary": [
           {
            "marker": {
             "colorbar": {
              "outlinewidth": 0,
              "ticks": ""
             }
            },
            "type": "scatterternary"
           }
          ],
          "surface": [
           {
            "colorbar": {
             "outlinewidth": 0,
             "ticks": ""
            },
            "colorscale": [
             [
              0,
              "#0d0887"
             ],
             [
              0.1111111111111111,
              "#46039f"
             ],
             [
              0.2222222222222222,
              "#7201a8"
             ],
             [
              0.3333333333333333,
              "#9c179e"
             ],
             [
              0.4444444444444444,
              "#bd3786"
             ],
             [
              0.5555555555555556,
              "#d8576b"
             ],
             [
              0.6666666666666666,
              "#ed7953"
             ],
             [
              0.7777777777777778,
              "#fb9f3a"
             ],
             [
              0.8888888888888888,
              "#fdca26"
             ],
             [
              1,
              "#f0f921"
             ]
            ],
            "type": "surface"
           }
          ],
          "table": [
           {
            "cells": {
             "fill": {
              "color": "#EBF0F8"
             },
             "line": {
              "color": "white"
             }
            },
            "header": {
             "fill": {
              "color": "#C8D4E3"
             },
             "line": {
              "color": "white"
             }
            },
            "type": "table"
           }
          ]
         },
         "layout": {
          "annotationdefaults": {
           "arrowcolor": "#2a3f5f",
           "arrowhead": 0,
           "arrowwidth": 1
          },
          "autotypenumbers": "strict",
          "coloraxis": {
           "colorbar": {
            "outlinewidth": 0,
            "ticks": ""
           }
          },
          "colorscale": {
           "diverging": [
            [
             0,
             "#8e0152"
            ],
            [
             0.1,
             "#c51b7d"
            ],
            [
             0.2,
             "#de77ae"
            ],
            [
             0.3,
             "#f1b6da"
            ],
            [
             0.4,
             "#fde0ef"
            ],
            [
             0.5,
             "#f7f7f7"
            ],
            [
             0.6,
             "#e6f5d0"
            ],
            [
             0.7,
             "#b8e186"
            ],
            [
             0.8,
             "#7fbc41"
            ],
            [
             0.9,
             "#4d9221"
            ],
            [
             1,
             "#276419"
            ]
           ],
           "sequential": [
            [
             0,
             "#0d0887"
            ],
            [
             0.1111111111111111,
             "#46039f"
            ],
            [
             0.2222222222222222,
             "#7201a8"
            ],
            [
             0.3333333333333333,
             "#9c179e"
            ],
            [
             0.4444444444444444,
             "#bd3786"
            ],
            [
             0.5555555555555556,
             "#d8576b"
            ],
            [
             0.6666666666666666,
             "#ed7953"
            ],
            [
             0.7777777777777778,
             "#fb9f3a"
            ],
            [
             0.8888888888888888,
             "#fdca26"
            ],
            [
             1,
             "#f0f921"
            ]
           ],
           "sequentialminus": [
            [
             0,
             "#0d0887"
            ],
            [
             0.1111111111111111,
             "#46039f"
            ],
            [
             0.2222222222222222,
             "#7201a8"
            ],
            [
             0.3333333333333333,
             "#9c179e"
            ],
            [
             0.4444444444444444,
             "#bd3786"
            ],
            [
             0.5555555555555556,
             "#d8576b"
            ],
            [
             0.6666666666666666,
             "#ed7953"
            ],
            [
             0.7777777777777778,
             "#fb9f3a"
            ],
            [
             0.8888888888888888,
             "#fdca26"
            ],
            [
             1,
             "#f0f921"
            ]
           ]
          },
          "colorway": [
           "#636efa",
           "#EF553B",
           "#00cc96",
           "#ab63fa",
           "#FFA15A",
           "#19d3f3",
           "#FF6692",
           "#B6E880",
           "#FF97FF",
           "#FECB52"
          ],
          "font": {
           "color": "#2a3f5f"
          },
          "geo": {
           "bgcolor": "white",
           "lakecolor": "white",
           "landcolor": "#E5ECF6",
           "showlakes": true,
           "showland": true,
           "subunitcolor": "white"
          },
          "hoverlabel": {
           "align": "left"
          },
          "hovermode": "closest",
          "mapbox": {
           "style": "light"
          },
          "paper_bgcolor": "white",
          "plot_bgcolor": "#E5ECF6",
          "polar": {
           "angularaxis": {
            "gridcolor": "white",
            "linecolor": "white",
            "ticks": ""
           },
           "bgcolor": "#E5ECF6",
           "radialaxis": {
            "gridcolor": "white",
            "linecolor": "white",
            "ticks": ""
           }
          },
          "scene": {
           "xaxis": {
            "backgroundcolor": "#E5ECF6",
            "gridcolor": "white",
            "gridwidth": 2,
            "linecolor": "white",
            "showbackground": true,
            "ticks": "",
            "zerolinecolor": "white"
           },
           "yaxis": {
            "backgroundcolor": "#E5ECF6",
            "gridcolor": "white",
            "gridwidth": 2,
            "linecolor": "white",
            "showbackground": true,
            "ticks": "",
            "zerolinecolor": "white"
           },
           "zaxis": {
            "backgroundcolor": "#E5ECF6",
            "gridcolor": "white",
            "gridwidth": 2,
            "linecolor": "white",
            "showbackground": true,
            "ticks": "",
            "zerolinecolor": "white"
           }
          },
          "shapedefaults": {
           "line": {
            "color": "#2a3f5f"
           }
          },
          "ternary": {
           "aaxis": {
            "gridcolor": "white",
            "linecolor": "white",
            "ticks": ""
           },
           "baxis": {
            "gridcolor": "white",
            "linecolor": "white",
            "ticks": ""
           },
           "bgcolor": "#E5ECF6",
           "caxis": {
            "gridcolor": "white",
            "linecolor": "white",
            "ticks": ""
           }
          },
          "title": {
           "x": 0.05
          },
          "xaxis": {
           "automargin": true,
           "gridcolor": "white",
           "linecolor": "white",
           "ticks": "",
           "title": {
            "standoff": 15
           },
           "zerolinecolor": "white",
           "zerolinewidth": 2
          },
          "yaxis": {
           "automargin": true,
           "gridcolor": "white",
           "linecolor": "white",
           "ticks": "",
           "title": {
            "standoff": 15
           },
           "zerolinecolor": "white",
           "zerolinewidth": 2
          }
         }
        },
        "title": {
         "text": "Average Temperature by Department",
         "x": 0.5,
         "xanchor": "center"
        },
        "xaxis": {
         "title": {
          "text": "Average Temperature (°C)"
         }
        },
        "yaxis": {
         "title": {
          "text": "Department"
         }
        }
       }
      },
      "text/html": [
       "<div>                            <div id=\"5ea662f2-9752-46f2-9e38-fbaaa1a6cd69\" class=\"plotly-graph-div\" style=\"height:525px; width:100%;\"></div>            <script type=\"text/javascript\">                require([\"plotly\"], function(Plotly) {                    window.PLOTLYENV=window.PLOTLYENV || {};                                    if (document.getElementById(\"5ea662f2-9752-46f2-9e38-fbaaa1a6cd69\")) {                    Plotly.newPlot(                        \"5ea662f2-9752-46f2-9e38-fbaaa1a6cd69\",                        [{\"error_x\":{\"array\":[5.567332968236583,4.784200438116102,4.622070098576124,3.361621029572838,4.7860350492880634,5.540613362541075,4.8426067907995645,2.554293537787512,4.233088718510404,4.474238773274916,5.227519167579411,4.531544359255205,3.0934501642935377,3.6392332968236616,3.897453450164294,4.638937568455638,4.92354874041621,4.264512595837898,4.091084337349399,4.424008762322014,3.76274917853231,3.3362924424972604],\"arrayminus\":[5.567332968236582,4.784282584884995,4.622070098576123,3.3615224534501635,4.786035049288062,5.5406736035049295,4.842606790799561,2.5546276013143494,4.232918948521359,4.474222343921138,5.227519167579408,4.5314019715224525,3.0934282584884976,3.6392332968236563,3.897453450164292,4.639266155531216,4.923450164293536,4.264518072289157,4.0910186199342835,4.423877327491786,3.762617743702082,3.336538882803941]},\"orientation\":\"h\",\"x\":[10.1276286966046,11.810487404162103,12.136363636363637,12.278192771084337,12.455421686746988,12.504107338444689,12.6539430449069,12.679644030668127,12.696555312157722,12.70881708652793,12.889567360350492,13.171144578313251,13.406478641840087,13.429731653888279,13.800301204819275,14.015060240963855,14.927803943044905,15.202431544359255,15.99855421686747,16.313099671412925,16.79460569550931,16.853576122672507],\"y\":[\"Haute-Loire\",\"Meurthe-et-Moselle\",\"Orne\",\"Nord\",\"Doubs\",\"Loire\",\"Seine-et-Marne\",\"Finist\\u00e8re\",\"Ille-et-Vilaine\",\"Val-d'Oise\",\"Indre\",\"Gard\",\"Morbihan\",\"Loire-Atlantique\",\"Paris\",\"Rh\\u00f4ne\",\"Haute-Garonne\",\"Pyr\\u00e9n\\u00e9es-Atlantiques\",\"Bouches-du-Rh\\u00f4ne\",\"H\\u00e9rault\",\"Var\",\"Alpes-Maritimes\"],\"type\":\"bar\",\"hovertemplate\":\"%{label} : <br> %{value:.2f} \\u00b0C<extra></extra>\"}],                        {\"template\":{\"data\":{\"histogram2dcontour\":[{\"type\":\"histogram2dcontour\",\"colorbar\":{\"outlinewidth\":0,\"ticks\":\"\"},\"colorscale\":[[0.0,\"#0d0887\"],[0.1111111111111111,\"#46039f\"],[0.2222222222222222,\"#7201a8\"],[0.3333333333333333,\"#9c179e\"],[0.4444444444444444,\"#bd3786\"],[0.5555555555555556,\"#d8576b\"],[0.6666666666666666,\"#ed7953\"],[0.7777777777777778,\"#fb9f3a\"],[0.8888888888888888,\"#fdca26\"],[1.0,\"#f0f921\"]]}],\"choropleth\":[{\"type\":\"choropleth\",\"colorbar\":{\"outlinewidth\":0,\"ticks\":\"\"}}],\"histogram2d\":[{\"type\":\"histogram2d\",\"colorbar\":{\"outlinewidth\":0,\"ticks\":\"\"},\"colorscale\":[[0.0,\"#0d0887\"],[0.1111111111111111,\"#46039f\"],[0.2222222222222222,\"#7201a8\"],[0.3333333333333333,\"#9c179e\"],[0.4444444444444444,\"#bd3786\"],[0.5555555555555556,\"#d8576b\"],[0.6666666666666666,\"#ed7953\"],[0.7777777777777778,\"#fb9f3a\"],[0.8888888888888888,\"#fdca26\"],[1.0,\"#f0f921\"]]}],\"heatmap\":[{\"type\":\"heatmap\",\"colorbar\":{\"outlinewidth\":0,\"ticks\":\"\"},\"colorscale\":[[0.0,\"#0d0887\"],[0.1111111111111111,\"#46039f\"],[0.2222222222222222,\"#7201a8\"],[0.3333333333333333,\"#9c179e\"],[0.4444444444444444,\"#bd3786\"],[0.5555555555555556,\"#d8576b\"],[0.6666666666666666,\"#ed7953\"],[0.7777777777777778,\"#fb9f3a\"],[0.8888888888888888,\"#fdca26\"],[1.0,\"#f0f921\"]]}],\"heatmapgl\":[{\"type\":\"heatmapgl\",\"colorbar\":{\"outlinewidth\":0,\"ticks\":\"\"},\"colorscale\":[[0.0,\"#0d0887\"],[0.1111111111111111,\"#46039f\"],[0.2222222222222222,\"#7201a8\"],[0.3333333333333333,\"#9c179e\"],[0.4444444444444444,\"#bd3786\"],[0.5555555555555556,\"#d8576b\"],[0.6666666666666666,\"#ed7953\"],[0.7777777777777778,\"#fb9f3a\"],[0.8888888888888888,\"#fdca26\"],[1.0,\"#f0f921\"]]}],\"contourcarpet\":[{\"type\":\"contourcarpet\",\"colorbar\":{\"outlinewidth\":0,\"ticks\":\"\"}}],\"contour\":[{\"type\":\"contour\",\"colorbar\":{\"outlinewidth\":0,\"ticks\":\"\"},\"colorscale\":[[0.0,\"#0d0887\"],[0.1111111111111111,\"#46039f\"],[0.2222222222222222,\"#7201a8\"],[0.3333333333333333,\"#9c179e\"],[0.4444444444444444,\"#bd3786\"],[0.5555555555555556,\"#d8576b\"],[0.6666666666666666,\"#ed7953\"],[0.7777777777777778,\"#fb9f3a\"],[0.8888888888888888,\"#fdca26\"],[1.0,\"#f0f921\"]]}],\"surface\":[{\"type\":\"surface\",\"colorbar\":{\"outlinewidth\":0,\"ticks\":\"\"},\"colorscale\":[[0.0,\"#0d0887\"],[0.1111111111111111,\"#46039f\"],[0.2222222222222222,\"#7201a8\"],[0.3333333333333333,\"#9c179e\"],[0.4444444444444444,\"#bd3786\"],[0.5555555555555556,\"#d8576b\"],[0.6666666666666666,\"#ed7953\"],[0.7777777777777778,\"#fb9f3a\"],[0.8888888888888888,\"#fdca26\"],[1.0,\"#f0f921\"]]}],\"mesh3d\":[{\"type\":\"mesh3d\",\"colorbar\":{\"outlinewidth\":0,\"ticks\":\"\"}}],\"scatter\":[{\"fillpattern\":{\"fillmode\":\"overlay\",\"size\":10,\"solidity\":0.2},\"type\":\"scatter\"}],\"parcoords\":[{\"type\":\"parcoords\",\"line\":{\"colorbar\":{\"outlinewidth\":0,\"ticks\":\"\"}}}],\"scatterpolargl\":[{\"type\":\"scatterpolargl\",\"marker\":{\"colorbar\":{\"outlinewidth\":0,\"ticks\":\"\"}}}],\"bar\":[{\"error_x\":{\"color\":\"#2a3f5f\"},\"error_y\":{\"color\":\"#2a3f5f\"},\"marker\":{\"line\":{\"color\":\"#E5ECF6\",\"width\":0.5},\"pattern\":{\"fillmode\":\"overlay\",\"size\":10,\"solidity\":0.2}},\"type\":\"bar\"}],\"scattergeo\":[{\"type\":\"scattergeo\",\"marker\":{\"colorbar\":{\"outlinewidth\":0,\"ticks\":\"\"}}}],\"scatterpolar\":[{\"type\":\"scatterpolar\",\"marker\":{\"colorbar\":{\"outlinewidth\":0,\"ticks\":\"\"}}}],\"histogram\":[{\"marker\":{\"pattern\":{\"fillmode\":\"overlay\",\"size\":10,\"solidity\":0.2}},\"type\":\"histogram\"}],\"scattergl\":[{\"type\":\"scattergl\",\"marker\":{\"colorbar\":{\"outlinewidth\":0,\"ticks\":\"\"}}}],\"scatter3d\":[{\"type\":\"scatter3d\",\"line\":{\"colorbar\":{\"outlinewidth\":0,\"ticks\":\"\"}},\"marker\":{\"colorbar\":{\"outlinewidth\":0,\"ticks\":\"\"}}}],\"scattermapbox\":[{\"type\":\"scattermapbox\",\"marker\":{\"colorbar\":{\"outlinewidth\":0,\"ticks\":\"\"}}}],\"scatterternary\":[{\"type\":\"scatterternary\",\"marker\":{\"colorbar\":{\"outlinewidth\":0,\"ticks\":\"\"}}}],\"scattercarpet\":[{\"type\":\"scattercarpet\",\"marker\":{\"colorbar\":{\"outlinewidth\":0,\"ticks\":\"\"}}}],\"carpet\":[{\"aaxis\":{\"endlinecolor\":\"#2a3f5f\",\"gridcolor\":\"white\",\"linecolor\":\"white\",\"minorgridcolor\":\"white\",\"startlinecolor\":\"#2a3f5f\"},\"baxis\":{\"endlinecolor\":\"#2a3f5f\",\"gridcolor\":\"white\",\"linecolor\":\"white\",\"minorgridcolor\":\"white\",\"startlinecolor\":\"#2a3f5f\"},\"type\":\"carpet\"}],\"table\":[{\"cells\":{\"fill\":{\"color\":\"#EBF0F8\"},\"line\":{\"color\":\"white\"}},\"header\":{\"fill\":{\"color\":\"#C8D4E3\"},\"line\":{\"color\":\"white\"}},\"type\":\"table\"}],\"barpolar\":[{\"marker\":{\"line\":{\"color\":\"#E5ECF6\",\"width\":0.5},\"pattern\":{\"fillmode\":\"overlay\",\"size\":10,\"solidity\":0.2}},\"type\":\"barpolar\"}],\"pie\":[{\"automargin\":true,\"type\":\"pie\"}]},\"layout\":{\"autotypenumbers\":\"strict\",\"colorway\":[\"#636efa\",\"#EF553B\",\"#00cc96\",\"#ab63fa\",\"#FFA15A\",\"#19d3f3\",\"#FF6692\",\"#B6E880\",\"#FF97FF\",\"#FECB52\"],\"font\":{\"color\":\"#2a3f5f\"},\"hovermode\":\"closest\",\"hoverlabel\":{\"align\":\"left\"},\"paper_bgcolor\":\"white\",\"plot_bgcolor\":\"#E5ECF6\",\"polar\":{\"bgcolor\":\"#E5ECF6\",\"angularaxis\":{\"gridcolor\":\"white\",\"linecolor\":\"white\",\"ticks\":\"\"},\"radialaxis\":{\"gridcolor\":\"white\",\"linecolor\":\"white\",\"ticks\":\"\"}},\"ternary\":{\"bgcolor\":\"#E5ECF6\",\"aaxis\":{\"gridcolor\":\"white\",\"linecolor\":\"white\",\"ticks\":\"\"},\"baxis\":{\"gridcolor\":\"white\",\"linecolor\":\"white\",\"ticks\":\"\"},\"caxis\":{\"gridcolor\":\"white\",\"linecolor\":\"white\",\"ticks\":\"\"}},\"coloraxis\":{\"colorbar\":{\"outlinewidth\":0,\"ticks\":\"\"}},\"colorscale\":{\"sequential\":[[0.0,\"#0d0887\"],[0.1111111111111111,\"#46039f\"],[0.2222222222222222,\"#7201a8\"],[0.3333333333333333,\"#9c179e\"],[0.4444444444444444,\"#bd3786\"],[0.5555555555555556,\"#d8576b\"],[0.6666666666666666,\"#ed7953\"],[0.7777777777777778,\"#fb9f3a\"],[0.8888888888888888,\"#fdca26\"],[1.0,\"#f0f921\"]],\"sequentialminus\":[[0.0,\"#0d0887\"],[0.1111111111111111,\"#46039f\"],[0.2222222222222222,\"#7201a8\"],[0.3333333333333333,\"#9c179e\"],[0.4444444444444444,\"#bd3786\"],[0.5555555555555556,\"#d8576b\"],[0.6666666666666666,\"#ed7953\"],[0.7777777777777778,\"#fb9f3a\"],[0.8888888888888888,\"#fdca26\"],[1.0,\"#f0f921\"]],\"diverging\":[[0,\"#8e0152\"],[0.1,\"#c51b7d\"],[0.2,\"#de77ae\"],[0.3,\"#f1b6da\"],[0.4,\"#fde0ef\"],[0.5,\"#f7f7f7\"],[0.6,\"#e6f5d0\"],[0.7,\"#b8e186\"],[0.8,\"#7fbc41\"],[0.9,\"#4d9221\"],[1,\"#276419\"]]},\"xaxis\":{\"gridcolor\":\"white\",\"linecolor\":\"white\",\"ticks\":\"\",\"title\":{\"standoff\":15},\"zerolinecolor\":\"white\",\"automargin\":true,\"zerolinewidth\":2},\"yaxis\":{\"gridcolor\":\"white\",\"linecolor\":\"white\",\"ticks\":\"\",\"title\":{\"standoff\":15},\"zerolinecolor\":\"white\",\"automargin\":true,\"zerolinewidth\":2},\"scene\":{\"xaxis\":{\"backgroundcolor\":\"#E5ECF6\",\"gridcolor\":\"white\",\"linecolor\":\"white\",\"showbackground\":true,\"ticks\":\"\",\"zerolinecolor\":\"white\",\"gridwidth\":2},\"yaxis\":{\"backgroundcolor\":\"#E5ECF6\",\"gridcolor\":\"white\",\"linecolor\":\"white\",\"showbackground\":true,\"ticks\":\"\",\"zerolinecolor\":\"white\",\"gridwidth\":2},\"zaxis\":{\"backgroundcolor\":\"#E5ECF6\",\"gridcolor\":\"white\",\"linecolor\":\"white\",\"showbackground\":true,\"ticks\":\"\",\"zerolinecolor\":\"white\",\"gridwidth\":2}},\"shapedefaults\":{\"line\":{\"color\":\"#2a3f5f\"}},\"annotationdefaults\":{\"arrowcolor\":\"#2a3f5f\",\"arrowhead\":0,\"arrowwidth\":1},\"geo\":{\"bgcolor\":\"white\",\"landcolor\":\"#E5ECF6\",\"subunitcolor\":\"white\",\"showland\":true,\"showlakes\":true,\"lakecolor\":\"white\"},\"title\":{\"x\":0.05},\"mapbox\":{\"style\":\"light\"}}},\"title\":{\"text\":\"Average Temperature by Department\",\"x\":0.5,\"xanchor\":\"center\"},\"xaxis\":{\"title\":{\"text\":\"Average Temperature (\\u00b0C)\"}},\"yaxis\":{\"title\":{\"text\":\"Department\"}}},                        {\"responsive\": true}                    ).then(function(){\n",
       "                            \n",
       "var gd = document.getElementById('5ea662f2-9752-46f2-9e38-fbaaa1a6cd69');\n",
       "var x = new MutationObserver(function (mutations, observer) {{\n",
       "        var display = window.getComputedStyle(gd).display;\n",
       "        if (!display || display === 'none') {{\n",
       "            console.log([gd, 'removed!']);\n",
       "            Plotly.purge(gd);\n",
       "            observer.disconnect();\n",
       "        }}\n",
       "}});\n",
       "\n",
       "// Listen for the removal of the full notebook cells\n",
       "var notebookContainer = gd.closest('#notebook-container');\n",
       "if (notebookContainer) {{\n",
       "    x.observe(notebookContainer, {childList: true});\n",
       "}}\n",
       "\n",
       "// Listen for the clearing of the current output cell\n",
       "var outputEl = gd.closest('.output');\n",
       "if (outputEl) {{\n",
       "    x.observe(outputEl, {childList: true});\n",
       "}}\n",
       "\n",
       "                        })                };                });            </script>        </div>"
      ]
     },
     "metadata": {},
     "output_type": "display_data"
    }
   ],
   "source": [
    "fig = go.Figure()\n",
    "fig.add_trace(go.Bar(x=df_temperature_departments[\"TMoy\"],\n",
    "                     y=df_temperature_departments[\"Département\"],\n",
    "                     orientation='h',\n",
    "                     error_x = {\"arrayminus\":df_temperature_departments[\"TMoy\"]-df_temperature_departments[\"TMin\"],\n",
    "                                \"array\":df_temperature_departments[\"TMax\"]-df_temperature_departments[\"TMoy\"]}\n",
    "                    )\n",
    "             )\n",
    "fig.update_traces(hovertemplate=\"%{label} : <br> %{value:.2f} °C<extra></extra>\")\n",
    "fig.update_layout(xaxis_title = \"Average Temperature (°C)\",\n",
    "                  yaxis_title=\"Department\",\n",
    "                  title={\"text\":\"Average Temperature by Department\", \"x\":0.5, \"xanchor\":\"center\"})\n",
    "fig.show()"
   ]
  },
  {
   "cell_type": "code",
   "execution_count": 36,
   "id": "a273f1b1",
   "metadata": {},
   "outputs": [],
   "source": [
    "df_temperature[\"Mois\"] = df_temperature[\"Date\"].str.rsplit(\"-\", 1).str[0].apply(date_conversion)\n",
    "df_temperature[\"Année\"] = df_temperature[\"Mois\"].str.split(\" \").str[1]"
   ]
  },
  {
   "cell_type": "code",
   "execution_count": 37,
   "id": "f57489a4",
   "metadata": {},
   "outputs": [],
   "source": [
    "avg_temperatures = df_temperature.groupby([\"Mois\", \"Année\", \"Département\"]).mean().reset_index()\n",
    "avg_temperatures_year = {year:avg_temperatures[avg_temperatures[\"Année\"]==year]\n",
    "                     for year in (\"2018\", \"2019\", \"2020\", \"2021\", \"2022\")}"
   ]
  },
  {
   "cell_type": "code",
   "execution_count": 38,
   "id": "4093b733",
   "metadata": {},
   "outputs": [],
   "source": [
    "departments = df_temperature_departments[\"Département\"]\n",
    "data_temperature_evolution = {\n",
    "    (year, department): temperature[temperature[\"Département\"]==department]\\\n",
    "    .sort_values(by=\"Mois\", key=lambda serie: [month_dic2[e.split()[0]] for e in serie])\n",
    "    for year, temperature in avg_temperatures_year.items()\n",
    "    for department in departments\n",
    "}"
   ]
  },
  {
   "cell_type": "code",
   "execution_count": 39,
   "id": "19445df5",
   "metadata": {},
   "outputs": [],
   "source": [
    "charts_temperature_evolution = {\n",
    "    (year, department): px.bar(data,\n",
    "                            x=\"Mois\",\n",
    "                            y=\"TMoy\",\n",
    "                            labels={\"Mois\":\"Month\", \"TMoy\":\"Average Temperature (°C)\"},\n",
    "                            title=f\"Evolution of the average temperature in {department} accross months of {year}\")\n",
    "    for (year, department), data in data_temperature_evolution.items()\n",
    "}"
   ]
  },
  {
   "cell_type": "code",
   "execution_count": 40,
   "id": "4fa35c95",
   "metadata": {
    "scrolled": false
   },
   "outputs": [
    {
     "data": {
      "application/vnd.plotly.v1+json": {
       "config": {
        "plotlyServerURL": "https://plot.ly"
       },
       "data": [
        {
         "alignmentgroup": "True",
         "hovertemplate": "Month=%{x}<br>Average Temperature (°C)=%{y}<extra></extra>",
         "legendgroup": "",
         "marker": {
          "color": "#636efa",
          "pattern": {
           "shape": ""
          }
         },
         "name": "",
         "offsetgroup": "",
         "orientation": "v",
         "showlegend": false,
         "textposition": "auto",
         "type": "bar",
         "x": [
          "Jan 2018",
          "Feb 2018",
          "Mar 2018",
          "Apr 2018",
          "May 2018",
          "Jun 2018",
          "Jul 2018",
          "Aug 2018",
          "Sep 2018",
          "Oct 2018",
          "Nov 2018",
          "Dec 2018"
         ],
         "xaxis": "x",
         "y": [
          7.787096774193548,
          2.0892857142857144,
          7.864516129032259,
          12.85,
          15.233870967741936,
          19.220000000000002,
          22.311290322580643,
          21.708064516129035,
          17.961666666666666,
          13.687096774193549,
          8.523333333333333,
          6.651612903225806
         ],
         "yaxis": "y"
        }
       ],
       "layout": {
        "barmode": "relative",
        "legend": {
         "tracegroupgap": 0
        },
        "template": {
         "data": {
          "bar": [
           {
            "error_x": {
             "color": "#2a3f5f"
            },
            "error_y": {
             "color": "#2a3f5f"
            },
            "marker": {
             "line": {
              "color": "#E5ECF6",
              "width": 0.5
             },
             "pattern": {
              "fillmode": "overlay",
              "size": 10,
              "solidity": 0.2
             }
            },
            "type": "bar"
           }
          ],
          "barpolar": [
           {
            "marker": {
             "line": {
              "color": "#E5ECF6",
              "width": 0.5
             },
             "pattern": {
              "fillmode": "overlay",
              "size": 10,
              "solidity": 0.2
             }
            },
            "type": "barpolar"
           }
          ],
          "carpet": [
           {
            "aaxis": {
             "endlinecolor": "#2a3f5f",
             "gridcolor": "white",
             "linecolor": "white",
             "minorgridcolor": "white",
             "startlinecolor": "#2a3f5f"
            },
            "baxis": {
             "endlinecolor": "#2a3f5f",
             "gridcolor": "white",
             "linecolor": "white",
             "minorgridcolor": "white",
             "startlinecolor": "#2a3f5f"
            },
            "type": "carpet"
           }
          ],
          "choropleth": [
           {
            "colorbar": {
             "outlinewidth": 0,
             "ticks": ""
            },
            "type": "choropleth"
           }
          ],
          "contour": [
           {
            "colorbar": {
             "outlinewidth": 0,
             "ticks": ""
            },
            "colorscale": [
             [
              0,
              "#0d0887"
             ],
             [
              0.1111111111111111,
              "#46039f"
             ],
             [
              0.2222222222222222,
              "#7201a8"
             ],
             [
              0.3333333333333333,
              "#9c179e"
             ],
             [
              0.4444444444444444,
              "#bd3786"
             ],
             [
              0.5555555555555556,
              "#d8576b"
             ],
             [
              0.6666666666666666,
              "#ed7953"
             ],
             [
              0.7777777777777778,
              "#fb9f3a"
             ],
             [
              0.8888888888888888,
              "#fdca26"
             ],
             [
              1,
              "#f0f921"
             ]
            ],
            "type": "contour"
           }
          ],
          "contourcarpet": [
           {
            "colorbar": {
             "outlinewidth": 0,
             "ticks": ""
            },
            "type": "contourcarpet"
           }
          ],
          "heatmap": [
           {
            "colorbar": {
             "outlinewidth": 0,
             "ticks": ""
            },
            "colorscale": [
             [
              0,
              "#0d0887"
             ],
             [
              0.1111111111111111,
              "#46039f"
             ],
             [
              0.2222222222222222,
              "#7201a8"
             ],
             [
              0.3333333333333333,
              "#9c179e"
             ],
             [
              0.4444444444444444,
              "#bd3786"
             ],
             [
              0.5555555555555556,
              "#d8576b"
             ],
             [
              0.6666666666666666,
              "#ed7953"
             ],
             [
              0.7777777777777778,
              "#fb9f3a"
             ],
             [
              0.8888888888888888,
              "#fdca26"
             ],
             [
              1,
              "#f0f921"
             ]
            ],
            "type": "heatmap"
           }
          ],
          "heatmapgl": [
           {
            "colorbar": {
             "outlinewidth": 0,
             "ticks": ""
            },
            "colorscale": [
             [
              0,
              "#0d0887"
             ],
             [
              0.1111111111111111,
              "#46039f"
             ],
             [
              0.2222222222222222,
              "#7201a8"
             ],
             [
              0.3333333333333333,
              "#9c179e"
             ],
             [
              0.4444444444444444,
              "#bd3786"
             ],
             [
              0.5555555555555556,
              "#d8576b"
             ],
             [
              0.6666666666666666,
              "#ed7953"
             ],
             [
              0.7777777777777778,
              "#fb9f3a"
             ],
             [
              0.8888888888888888,
              "#fdca26"
             ],
             [
              1,
              "#f0f921"
             ]
            ],
            "type": "heatmapgl"
           }
          ],
          "histogram": [
           {
            "marker": {
             "pattern": {
              "fillmode": "overlay",
              "size": 10,
              "solidity": 0.2
             }
            },
            "type": "histogram"
           }
          ],
          "histogram2d": [
           {
            "colorbar": {
             "outlinewidth": 0,
             "ticks": ""
            },
            "colorscale": [
             [
              0,
              "#0d0887"
             ],
             [
              0.1111111111111111,
              "#46039f"
             ],
             [
              0.2222222222222222,
              "#7201a8"
             ],
             [
              0.3333333333333333,
              "#9c179e"
             ],
             [
              0.4444444444444444,
              "#bd3786"
             ],
             [
              0.5555555555555556,
              "#d8576b"
             ],
             [
              0.6666666666666666,
              "#ed7953"
             ],
             [
              0.7777777777777778,
              "#fb9f3a"
             ],
             [
              0.8888888888888888,
              "#fdca26"
             ],
             [
              1,
              "#f0f921"
             ]
            ],
            "type": "histogram2d"
           }
          ],
          "histogram2dcontour": [
           {
            "colorbar": {
             "outlinewidth": 0,
             "ticks": ""
            },
            "colorscale": [
             [
              0,
              "#0d0887"
             ],
             [
              0.1111111111111111,
              "#46039f"
             ],
             [
              0.2222222222222222,
              "#7201a8"
             ],
             [
              0.3333333333333333,
              "#9c179e"
             ],
             [
              0.4444444444444444,
              "#bd3786"
             ],
             [
              0.5555555555555556,
              "#d8576b"
             ],
             [
              0.6666666666666666,
              "#ed7953"
             ],
             [
              0.7777777777777778,
              "#fb9f3a"
             ],
             [
              0.8888888888888888,
              "#fdca26"
             ],
             [
              1,
              "#f0f921"
             ]
            ],
            "type": "histogram2dcontour"
           }
          ],
          "mesh3d": [
           {
            "colorbar": {
             "outlinewidth": 0,
             "ticks": ""
            },
            "type": "mesh3d"
           }
          ],
          "parcoords": [
           {
            "line": {
             "colorbar": {
              "outlinewidth": 0,
              "ticks": ""
             }
            },
            "type": "parcoords"
           }
          ],
          "pie": [
           {
            "automargin": true,
            "type": "pie"
           }
          ],
          "scatter": [
           {
            "fillpattern": {
             "fillmode": "overlay",
             "size": 10,
             "solidity": 0.2
            },
            "type": "scatter"
           }
          ],
          "scatter3d": [
           {
            "line": {
             "colorbar": {
              "outlinewidth": 0,
              "ticks": ""
             }
            },
            "marker": {
             "colorbar": {
              "outlinewidth": 0,
              "ticks": ""
             }
            },
            "type": "scatter3d"
           }
          ],
          "scattercarpet": [
           {
            "marker": {
             "colorbar": {
              "outlinewidth": 0,
              "ticks": ""
             }
            },
            "type": "scattercarpet"
           }
          ],
          "scattergeo": [
           {
            "marker": {
             "colorbar": {
              "outlinewidth": 0,
              "ticks": ""
             }
            },
            "type": "scattergeo"
           }
          ],
          "scattergl": [
           {
            "marker": {
             "colorbar": {
              "outlinewidth": 0,
              "ticks": ""
             }
            },
            "type": "scattergl"
           }
          ],
          "scattermapbox": [
           {
            "marker": {
             "colorbar": {
              "outlinewidth": 0,
              "ticks": ""
             }
            },
            "type": "scattermapbox"
           }
          ],
          "scatterpolar": [
           {
            "marker": {
             "colorbar": {
              "outlinewidth": 0,
              "ticks": ""
             }
            },
            "type": "scatterpolar"
           }
          ],
          "scatterpolargl": [
           {
            "marker": {
             "colorbar": {
              "outlinewidth": 0,
              "ticks": ""
             }
            },
            "type": "scatterpolargl"
           }
          ],
          "scatterternary": [
           {
            "marker": {
             "colorbar": {
              "outlinewidth": 0,
              "ticks": ""
             }
            },
            "type": "scatterternary"
           }
          ],
          "surface": [
           {
            "colorbar": {
             "outlinewidth": 0,
             "ticks": ""
            },
            "colorscale": [
             [
              0,
              "#0d0887"
             ],
             [
              0.1111111111111111,
              "#46039f"
             ],
             [
              0.2222222222222222,
              "#7201a8"
             ],
             [
              0.3333333333333333,
              "#9c179e"
             ],
             [
              0.4444444444444444,
              "#bd3786"
             ],
             [
              0.5555555555555556,
              "#d8576b"
             ],
             [
              0.6666666666666666,
              "#ed7953"
             ],
             [
              0.7777777777777778,
              "#fb9f3a"
             ],
             [
              0.8888888888888888,
              "#fdca26"
             ],
             [
              1,
              "#f0f921"
             ]
            ],
            "type": "surface"
           }
          ],
          "table": [
           {
            "cells": {
             "fill": {
              "color": "#EBF0F8"
             },
             "line": {
              "color": "white"
             }
            },
            "header": {
             "fill": {
              "color": "#C8D4E3"
             },
             "line": {
              "color": "white"
             }
            },
            "type": "table"
           }
          ]
         },
         "layout": {
          "annotationdefaults": {
           "arrowcolor": "#2a3f5f",
           "arrowhead": 0,
           "arrowwidth": 1
          },
          "autotypenumbers": "strict",
          "coloraxis": {
           "colorbar": {
            "outlinewidth": 0,
            "ticks": ""
           }
          },
          "colorscale": {
           "diverging": [
            [
             0,
             "#8e0152"
            ],
            [
             0.1,
             "#c51b7d"
            ],
            [
             0.2,
             "#de77ae"
            ],
            [
             0.3,
             "#f1b6da"
            ],
            [
             0.4,
             "#fde0ef"
            ],
            [
             0.5,
             "#f7f7f7"
            ],
            [
             0.6,
             "#e6f5d0"
            ],
            [
             0.7,
             "#b8e186"
            ],
            [
             0.8,
             "#7fbc41"
            ],
            [
             0.9,
             "#4d9221"
            ],
            [
             1,
             "#276419"
            ]
           ],
           "sequential": [
            [
             0,
             "#0d0887"
            ],
            [
             0.1111111111111111,
             "#46039f"
            ],
            [
             0.2222222222222222,
             "#7201a8"
            ],
            [
             0.3333333333333333,
             "#9c179e"
            ],
            [
             0.4444444444444444,
             "#bd3786"
            ],
            [
             0.5555555555555556,
             "#d8576b"
            ],
            [
             0.6666666666666666,
             "#ed7953"
            ],
            [
             0.7777777777777778,
             "#fb9f3a"
            ],
            [
             0.8888888888888888,
             "#fdca26"
            ],
            [
             1,
             "#f0f921"
            ]
           ],
           "sequentialminus": [
            [
             0,
             "#0d0887"
            ],
            [
             0.1111111111111111,
             "#46039f"
            ],
            [
             0.2222222222222222,
             "#7201a8"
            ],
            [
             0.3333333333333333,
             "#9c179e"
            ],
            [
             0.4444444444444444,
             "#bd3786"
            ],
            [
             0.5555555555555556,
             "#d8576b"
            ],
            [
             0.6666666666666666,
             "#ed7953"
            ],
            [
             0.7777777777777778,
             "#fb9f3a"
            ],
            [
             0.8888888888888888,
             "#fdca26"
            ],
            [
             1,
             "#f0f921"
            ]
           ]
          },
          "colorway": [
           "#636efa",
           "#EF553B",
           "#00cc96",
           "#ab63fa",
           "#FFA15A",
           "#19d3f3",
           "#FF6692",
           "#B6E880",
           "#FF97FF",
           "#FECB52"
          ],
          "font": {
           "color": "#2a3f5f"
          },
          "geo": {
           "bgcolor": "white",
           "lakecolor": "white",
           "landcolor": "#E5ECF6",
           "showlakes": true,
           "showland": true,
           "subunitcolor": "white"
          },
          "hoverlabel": {
           "align": "left"
          },
          "hovermode": "closest",
          "mapbox": {
           "style": "light"
          },
          "paper_bgcolor": "white",
          "plot_bgcolor": "#E5ECF6",
          "polar": {
           "angularaxis": {
            "gridcolor": "white",
            "linecolor": "white",
            "ticks": ""
           },
           "bgcolor": "#E5ECF6",
           "radialaxis": {
            "gridcolor": "white",
            "linecolor": "white",
            "ticks": ""
           }
          },
          "scene": {
           "xaxis": {
            "backgroundcolor": "#E5ECF6",
            "gridcolor": "white",
            "gridwidth": 2,
            "linecolor": "white",
            "showbackground": true,
            "ticks": "",
            "zerolinecolor": "white"
           },
           "yaxis": {
            "backgroundcolor": "#E5ECF6",
            "gridcolor": "white",
            "gridwidth": 2,
            "linecolor": "white",
            "showbackground": true,
            "ticks": "",
            "zerolinecolor": "white"
           },
           "zaxis": {
            "backgroundcolor": "#E5ECF6",
            "gridcolor": "white",
            "gridwidth": 2,
            "linecolor": "white",
            "showbackground": true,
            "ticks": "",
            "zerolinecolor": "white"
           }
          },
          "shapedefaults": {
           "line": {
            "color": "#2a3f5f"
           }
          },
          "ternary": {
           "aaxis": {
            "gridcolor": "white",
            "linecolor": "white",
            "ticks": ""
           },
           "baxis": {
            "gridcolor": "white",
            "linecolor": "white",
            "ticks": ""
           },
           "bgcolor": "#E5ECF6",
           "caxis": {
            "gridcolor": "white",
            "linecolor": "white",
            "ticks": ""
           }
          },
          "title": {
           "x": 0.05
          },
          "xaxis": {
           "automargin": true,
           "gridcolor": "white",
           "linecolor": "white",
           "ticks": "",
           "title": {
            "standoff": 15
           },
           "zerolinecolor": "white",
           "zerolinewidth": 2
          },
          "yaxis": {
           "automargin": true,
           "gridcolor": "white",
           "linecolor": "white",
           "ticks": "",
           "title": {
            "standoff": 15
           },
           "zerolinecolor": "white",
           "zerolinewidth": 2
          }
         }
        },
        "title": {
         "text": "Evolution of the average temperature in Indre accross months of 2018"
        },
        "xaxis": {
         "anchor": "y",
         "domain": [
          0,
          1
         ],
         "title": {
          "text": "Month"
         }
        },
        "yaxis": {
         "anchor": "x",
         "domain": [
          0,
          1
         ],
         "title": {
          "text": "Average Temperature (°C)"
         }
        }
       }
      },
      "text/html": [
       "<div>                            <div id=\"3136d1cc-f1fd-4e76-80ef-86ad8513ad23\" class=\"plotly-graph-div\" style=\"height:525px; width:100%;\"></div>            <script type=\"text/javascript\">                require([\"plotly\"], function(Plotly) {                    window.PLOTLYENV=window.PLOTLYENV || {};                                    if (document.getElementById(\"3136d1cc-f1fd-4e76-80ef-86ad8513ad23\")) {                    Plotly.newPlot(                        \"3136d1cc-f1fd-4e76-80ef-86ad8513ad23\",                        [{\"alignmentgroup\":\"True\",\"hovertemplate\":\"Month=%{x}<br>Average Temperature (\\u00b0C)=%{y}<extra></extra>\",\"legendgroup\":\"\",\"marker\":{\"color\":\"#636efa\",\"pattern\":{\"shape\":\"\"}},\"name\":\"\",\"offsetgroup\":\"\",\"orientation\":\"v\",\"showlegend\":false,\"textposition\":\"auto\",\"x\":[\"Jan 2018\",\"Feb 2018\",\"Mar 2018\",\"Apr 2018\",\"May 2018\",\"Jun 2018\",\"Jul 2018\",\"Aug 2018\",\"Sep 2018\",\"Oct 2018\",\"Nov 2018\",\"Dec 2018\"],\"xaxis\":\"x\",\"y\":[7.787096774193548,2.0892857142857144,7.864516129032259,12.85,15.233870967741936,19.220000000000002,22.311290322580643,21.708064516129035,17.961666666666666,13.687096774193549,8.523333333333333,6.651612903225806],\"yaxis\":\"y\",\"type\":\"bar\"}],                        {\"template\":{\"data\":{\"histogram2dcontour\":[{\"type\":\"histogram2dcontour\",\"colorbar\":{\"outlinewidth\":0,\"ticks\":\"\"},\"colorscale\":[[0.0,\"#0d0887\"],[0.1111111111111111,\"#46039f\"],[0.2222222222222222,\"#7201a8\"],[0.3333333333333333,\"#9c179e\"],[0.4444444444444444,\"#bd3786\"],[0.5555555555555556,\"#d8576b\"],[0.6666666666666666,\"#ed7953\"],[0.7777777777777778,\"#fb9f3a\"],[0.8888888888888888,\"#fdca26\"],[1.0,\"#f0f921\"]]}],\"choropleth\":[{\"type\":\"choropleth\",\"colorbar\":{\"outlinewidth\":0,\"ticks\":\"\"}}],\"histogram2d\":[{\"type\":\"histogram2d\",\"colorbar\":{\"outlinewidth\":0,\"ticks\":\"\"},\"colorscale\":[[0.0,\"#0d0887\"],[0.1111111111111111,\"#46039f\"],[0.2222222222222222,\"#7201a8\"],[0.3333333333333333,\"#9c179e\"],[0.4444444444444444,\"#bd3786\"],[0.5555555555555556,\"#d8576b\"],[0.6666666666666666,\"#ed7953\"],[0.7777777777777778,\"#fb9f3a\"],[0.8888888888888888,\"#fdca26\"],[1.0,\"#f0f921\"]]}],\"heatmap\":[{\"type\":\"heatmap\",\"colorbar\":{\"outlinewidth\":0,\"ticks\":\"\"},\"colorscale\":[[0.0,\"#0d0887\"],[0.1111111111111111,\"#46039f\"],[0.2222222222222222,\"#7201a8\"],[0.3333333333333333,\"#9c179e\"],[0.4444444444444444,\"#bd3786\"],[0.5555555555555556,\"#d8576b\"],[0.6666666666666666,\"#ed7953\"],[0.7777777777777778,\"#fb9f3a\"],[0.8888888888888888,\"#fdca26\"],[1.0,\"#f0f921\"]]}],\"heatmapgl\":[{\"type\":\"heatmapgl\",\"colorbar\":{\"outlinewidth\":0,\"ticks\":\"\"},\"colorscale\":[[0.0,\"#0d0887\"],[0.1111111111111111,\"#46039f\"],[0.2222222222222222,\"#7201a8\"],[0.3333333333333333,\"#9c179e\"],[0.4444444444444444,\"#bd3786\"],[0.5555555555555556,\"#d8576b\"],[0.6666666666666666,\"#ed7953\"],[0.7777777777777778,\"#fb9f3a\"],[0.8888888888888888,\"#fdca26\"],[1.0,\"#f0f921\"]]}],\"contourcarpet\":[{\"type\":\"contourcarpet\",\"colorbar\":{\"outlinewidth\":0,\"ticks\":\"\"}}],\"contour\":[{\"type\":\"contour\",\"colorbar\":{\"outlinewidth\":0,\"ticks\":\"\"},\"colorscale\":[[0.0,\"#0d0887\"],[0.1111111111111111,\"#46039f\"],[0.2222222222222222,\"#7201a8\"],[0.3333333333333333,\"#9c179e\"],[0.4444444444444444,\"#bd3786\"],[0.5555555555555556,\"#d8576b\"],[0.6666666666666666,\"#ed7953\"],[0.7777777777777778,\"#fb9f3a\"],[0.8888888888888888,\"#fdca26\"],[1.0,\"#f0f921\"]]}],\"surface\":[{\"type\":\"surface\",\"colorbar\":{\"outlinewidth\":0,\"ticks\":\"\"},\"colorscale\":[[0.0,\"#0d0887\"],[0.1111111111111111,\"#46039f\"],[0.2222222222222222,\"#7201a8\"],[0.3333333333333333,\"#9c179e\"],[0.4444444444444444,\"#bd3786\"],[0.5555555555555556,\"#d8576b\"],[0.6666666666666666,\"#ed7953\"],[0.7777777777777778,\"#fb9f3a\"],[0.8888888888888888,\"#fdca26\"],[1.0,\"#f0f921\"]]}],\"mesh3d\":[{\"type\":\"mesh3d\",\"colorbar\":{\"outlinewidth\":0,\"ticks\":\"\"}}],\"scatter\":[{\"fillpattern\":{\"fillmode\":\"overlay\",\"size\":10,\"solidity\":0.2},\"type\":\"scatter\"}],\"parcoords\":[{\"type\":\"parcoords\",\"line\":{\"colorbar\":{\"outlinewidth\":0,\"ticks\":\"\"}}}],\"scatterpolargl\":[{\"type\":\"scatterpolargl\",\"marker\":{\"colorbar\":{\"outlinewidth\":0,\"ticks\":\"\"}}}],\"bar\":[{\"error_x\":{\"color\":\"#2a3f5f\"},\"error_y\":{\"color\":\"#2a3f5f\"},\"marker\":{\"line\":{\"color\":\"#E5ECF6\",\"width\":0.5},\"pattern\":{\"fillmode\":\"overlay\",\"size\":10,\"solidity\":0.2}},\"type\":\"bar\"}],\"scattergeo\":[{\"type\":\"scattergeo\",\"marker\":{\"colorbar\":{\"outlinewidth\":0,\"ticks\":\"\"}}}],\"scatterpolar\":[{\"type\":\"scatterpolar\",\"marker\":{\"colorbar\":{\"outlinewidth\":0,\"ticks\":\"\"}}}],\"histogram\":[{\"marker\":{\"pattern\":{\"fillmode\":\"overlay\",\"size\":10,\"solidity\":0.2}},\"type\":\"histogram\"}],\"scattergl\":[{\"type\":\"scattergl\",\"marker\":{\"colorbar\":{\"outlinewidth\":0,\"ticks\":\"\"}}}],\"scatter3d\":[{\"type\":\"scatter3d\",\"line\":{\"colorbar\":{\"outlinewidth\":0,\"ticks\":\"\"}},\"marker\":{\"colorbar\":{\"outlinewidth\":0,\"ticks\":\"\"}}}],\"scattermapbox\":[{\"type\":\"scattermapbox\",\"marker\":{\"colorbar\":{\"outlinewidth\":0,\"ticks\":\"\"}}}],\"scatterternary\":[{\"type\":\"scatterternary\",\"marker\":{\"colorbar\":{\"outlinewidth\":0,\"ticks\":\"\"}}}],\"scattercarpet\":[{\"type\":\"scattercarpet\",\"marker\":{\"colorbar\":{\"outlinewidth\":0,\"ticks\":\"\"}}}],\"carpet\":[{\"aaxis\":{\"endlinecolor\":\"#2a3f5f\",\"gridcolor\":\"white\",\"linecolor\":\"white\",\"minorgridcolor\":\"white\",\"startlinecolor\":\"#2a3f5f\"},\"baxis\":{\"endlinecolor\":\"#2a3f5f\",\"gridcolor\":\"white\",\"linecolor\":\"white\",\"minorgridcolor\":\"white\",\"startlinecolor\":\"#2a3f5f\"},\"type\":\"carpet\"}],\"table\":[{\"cells\":{\"fill\":{\"color\":\"#EBF0F8\"},\"line\":{\"color\":\"white\"}},\"header\":{\"fill\":{\"color\":\"#C8D4E3\"},\"line\":{\"color\":\"white\"}},\"type\":\"table\"}],\"barpolar\":[{\"marker\":{\"line\":{\"color\":\"#E5ECF6\",\"width\":0.5},\"pattern\":{\"fillmode\":\"overlay\",\"size\":10,\"solidity\":0.2}},\"type\":\"barpolar\"}],\"pie\":[{\"automargin\":true,\"type\":\"pie\"}]},\"layout\":{\"autotypenumbers\":\"strict\",\"colorway\":[\"#636efa\",\"#EF553B\",\"#00cc96\",\"#ab63fa\",\"#FFA15A\",\"#19d3f3\",\"#FF6692\",\"#B6E880\",\"#FF97FF\",\"#FECB52\"],\"font\":{\"color\":\"#2a3f5f\"},\"hovermode\":\"closest\",\"hoverlabel\":{\"align\":\"left\"},\"paper_bgcolor\":\"white\",\"plot_bgcolor\":\"#E5ECF6\",\"polar\":{\"bgcolor\":\"#E5ECF6\",\"angularaxis\":{\"gridcolor\":\"white\",\"linecolor\":\"white\",\"ticks\":\"\"},\"radialaxis\":{\"gridcolor\":\"white\",\"linecolor\":\"white\",\"ticks\":\"\"}},\"ternary\":{\"bgcolor\":\"#E5ECF6\",\"aaxis\":{\"gridcolor\":\"white\",\"linecolor\":\"white\",\"ticks\":\"\"},\"baxis\":{\"gridcolor\":\"white\",\"linecolor\":\"white\",\"ticks\":\"\"},\"caxis\":{\"gridcolor\":\"white\",\"linecolor\":\"white\",\"ticks\":\"\"}},\"coloraxis\":{\"colorbar\":{\"outlinewidth\":0,\"ticks\":\"\"}},\"colorscale\":{\"sequential\":[[0.0,\"#0d0887\"],[0.1111111111111111,\"#46039f\"],[0.2222222222222222,\"#7201a8\"],[0.3333333333333333,\"#9c179e\"],[0.4444444444444444,\"#bd3786\"],[0.5555555555555556,\"#d8576b\"],[0.6666666666666666,\"#ed7953\"],[0.7777777777777778,\"#fb9f3a\"],[0.8888888888888888,\"#fdca26\"],[1.0,\"#f0f921\"]],\"sequentialminus\":[[0.0,\"#0d0887\"],[0.1111111111111111,\"#46039f\"],[0.2222222222222222,\"#7201a8\"],[0.3333333333333333,\"#9c179e\"],[0.4444444444444444,\"#bd3786\"],[0.5555555555555556,\"#d8576b\"],[0.6666666666666666,\"#ed7953\"],[0.7777777777777778,\"#fb9f3a\"],[0.8888888888888888,\"#fdca26\"],[1.0,\"#f0f921\"]],\"diverging\":[[0,\"#8e0152\"],[0.1,\"#c51b7d\"],[0.2,\"#de77ae\"],[0.3,\"#f1b6da\"],[0.4,\"#fde0ef\"],[0.5,\"#f7f7f7\"],[0.6,\"#e6f5d0\"],[0.7,\"#b8e186\"],[0.8,\"#7fbc41\"],[0.9,\"#4d9221\"],[1,\"#276419\"]]},\"xaxis\":{\"gridcolor\":\"white\",\"linecolor\":\"white\",\"ticks\":\"\",\"title\":{\"standoff\":15},\"zerolinecolor\":\"white\",\"automargin\":true,\"zerolinewidth\":2},\"yaxis\":{\"gridcolor\":\"white\",\"linecolor\":\"white\",\"ticks\":\"\",\"title\":{\"standoff\":15},\"zerolinecolor\":\"white\",\"automargin\":true,\"zerolinewidth\":2},\"scene\":{\"xaxis\":{\"backgroundcolor\":\"#E5ECF6\",\"gridcolor\":\"white\",\"linecolor\":\"white\",\"showbackground\":true,\"ticks\":\"\",\"zerolinecolor\":\"white\",\"gridwidth\":2},\"yaxis\":{\"backgroundcolor\":\"#E5ECF6\",\"gridcolor\":\"white\",\"linecolor\":\"white\",\"showbackground\":true,\"ticks\":\"\",\"zerolinecolor\":\"white\",\"gridwidth\":2},\"zaxis\":{\"backgroundcolor\":\"#E5ECF6\",\"gridcolor\":\"white\",\"linecolor\":\"white\",\"showbackground\":true,\"ticks\":\"\",\"zerolinecolor\":\"white\",\"gridwidth\":2}},\"shapedefaults\":{\"line\":{\"color\":\"#2a3f5f\"}},\"annotationdefaults\":{\"arrowcolor\":\"#2a3f5f\",\"arrowhead\":0,\"arrowwidth\":1},\"geo\":{\"bgcolor\":\"white\",\"landcolor\":\"#E5ECF6\",\"subunitcolor\":\"white\",\"showland\":true,\"showlakes\":true,\"lakecolor\":\"white\"},\"title\":{\"x\":0.05},\"mapbox\":{\"style\":\"light\"}}},\"xaxis\":{\"anchor\":\"y\",\"domain\":[0.0,1.0],\"title\":{\"text\":\"Month\"}},\"yaxis\":{\"anchor\":\"x\",\"domain\":[0.0,1.0],\"title\":{\"text\":\"Average Temperature (\\u00b0C)\"}},\"legend\":{\"tracegroupgap\":0},\"title\":{\"text\":\"Evolution of the average temperature in Indre accross months of 2018\"},\"barmode\":\"relative\"},                        {\"responsive\": true}                    ).then(function(){\n",
       "                            \n",
       "var gd = document.getElementById('3136d1cc-f1fd-4e76-80ef-86ad8513ad23');\n",
       "var x = new MutationObserver(function (mutations, observer) {{\n",
       "        var display = window.getComputedStyle(gd).display;\n",
       "        if (!display || display === 'none') {{\n",
       "            console.log([gd, 'removed!']);\n",
       "            Plotly.purge(gd);\n",
       "            observer.disconnect();\n",
       "        }}\n",
       "}});\n",
       "\n",
       "// Listen for the removal of the full notebook cells\n",
       "var notebookContainer = gd.closest('#notebook-container');\n",
       "if (notebookContainer) {{\n",
       "    x.observe(notebookContainer, {childList: true});\n",
       "}}\n",
       "\n",
       "// Listen for the clearing of the current output cell\n",
       "var outputEl = gd.closest('.output');\n",
       "if (outputEl) {{\n",
       "    x.observe(outputEl, {childList: true});\n",
       "}}\n",
       "\n",
       "                        })                };                });            </script>        </div>"
      ]
     },
     "metadata": {},
     "output_type": "display_data"
    }
   ],
   "source": [
    "list(charts_temperature_evolution.values())[10]"
   ]
  },
  {
   "cell_type": "code",
   "execution_count": 41,
   "id": "55bf4126",
   "metadata": {},
   "outputs": [],
   "source": [
    "#This structure is done to avoid a FutureWarning (\"The default dtype for empty Series will be 'object' instead of\n",
    "#'float64' in a future version. Specify a dtype explicitly to silence this warning.\")\n",
    "data_temperature_evolution_agglomeration = {\n",
    "    key:value.groupby(\"Mois\").mean().reset_index().sort_values(by=\"Mois\",\n",
    "                                                               key=lambda serie: [month_dic2[e.split()[0]] for e in serie])\n",
    "    for key, value in [\n",
    "        ((year, agglomeration), temperature[temperature[\"Département\"].isin(departments)])\n",
    "        for year, temperature in avg_temperatures_year.items()\n",
    "        for agglomeration, departments in agglomeration_department_map.items()\n",
    "    ]\n",
    "    if len(value)\n",
    "}"
   ]
  },
  {
   "cell_type": "code",
   "execution_count": 42,
   "id": "68c5196b",
   "metadata": {},
   "outputs": [],
   "source": [
    "charts_temperature_evolution_agglomeration = {\n",
    "    (year, agglomeration): px.bar(data,\n",
    "                            x=\"Mois\",\n",
    "                            y=\"TMoy\",\n",
    "                            labels={\"Mois\":\"Month\", \"TMoy\":\"Average Temperature (°C)\"},\n",
    "                            title=f\"Evolution of the average temperature in {agglomeration} accross months of {year}\")\n",
    "    for (year, agglomeration), data in data_temperature_evolution_agglomeration.items()\n",
    "}"
   ]
  },
  {
   "cell_type": "code",
   "execution_count": 43,
   "id": "8d98222e",
   "metadata": {},
   "outputs": [
    {
     "data": {
      "application/vnd.plotly.v1+json": {
       "config": {
        "plotlyServerURL": "https://plot.ly"
       },
       "data": [
        {
         "alignmentgroup": "True",
         "hovertemplate": "Month=%{x}<br>Average Temperature (°C)=%{y}<extra></extra>",
         "legendgroup": "",
         "marker": {
          "color": "#636efa",
          "pattern": {
           "shape": ""
          }
         },
         "name": "",
         "offsetgroup": "",
         "orientation": "v",
         "showlegend": false,
         "textposition": "auto",
         "type": "bar",
         "x": [
          "Jan 2019",
          "Feb 2019",
          "Mar 2019",
          "Apr 2019",
          "May 2019",
          "Jun 2019",
          "Jul 2019",
          "Aug 2019",
          "Sep 2019",
          "Oct 2019",
          "Nov 2019",
          "Dec 2019"
         ],
         "xaxis": "x",
         "y": [
          6.4877419354838715,
          9.213571428571429,
          11.830967741935483,
          13.251666666666667,
          15.985806451612904,
          22.086666666666666,
          25.50774193548387,
          24.743225806451612,
          21.46466666666667,
          17.731935483870966,
          10.991666666666667,
          10.627096774193548
         ],
         "yaxis": "y"
        }
       ],
       "layout": {
        "barmode": "relative",
        "legend": {
         "tracegroupgap": 0
        },
        "template": {
         "data": {
          "bar": [
           {
            "error_x": {
             "color": "#2a3f5f"
            },
            "error_y": {
             "color": "#2a3f5f"
            },
            "marker": {
             "line": {
              "color": "#E5ECF6",
              "width": 0.5
             },
             "pattern": {
              "fillmode": "overlay",
              "size": 10,
              "solidity": 0.2
             }
            },
            "type": "bar"
           }
          ],
          "barpolar": [
           {
            "marker": {
             "line": {
              "color": "#E5ECF6",
              "width": 0.5
             },
             "pattern": {
              "fillmode": "overlay",
              "size": 10,
              "solidity": 0.2
             }
            },
            "type": "barpolar"
           }
          ],
          "carpet": [
           {
            "aaxis": {
             "endlinecolor": "#2a3f5f",
             "gridcolor": "white",
             "linecolor": "white",
             "minorgridcolor": "white",
             "startlinecolor": "#2a3f5f"
            },
            "baxis": {
             "endlinecolor": "#2a3f5f",
             "gridcolor": "white",
             "linecolor": "white",
             "minorgridcolor": "white",
             "startlinecolor": "#2a3f5f"
            },
            "type": "carpet"
           }
          ],
          "choropleth": [
           {
            "colorbar": {
             "outlinewidth": 0,
             "ticks": ""
            },
            "type": "choropleth"
           }
          ],
          "contour": [
           {
            "colorbar": {
             "outlinewidth": 0,
             "ticks": ""
            },
            "colorscale": [
             [
              0,
              "#0d0887"
             ],
             [
              0.1111111111111111,
              "#46039f"
             ],
             [
              0.2222222222222222,
              "#7201a8"
             ],
             [
              0.3333333333333333,
              "#9c179e"
             ],
             [
              0.4444444444444444,
              "#bd3786"
             ],
             [
              0.5555555555555556,
              "#d8576b"
             ],
             [
              0.6666666666666666,
              "#ed7953"
             ],
             [
              0.7777777777777778,
              "#fb9f3a"
             ],
             [
              0.8888888888888888,
              "#fdca26"
             ],
             [
              1,
              "#f0f921"
             ]
            ],
            "type": "contour"
           }
          ],
          "contourcarpet": [
           {
            "colorbar": {
             "outlinewidth": 0,
             "ticks": ""
            },
            "type": "contourcarpet"
           }
          ],
          "heatmap": [
           {
            "colorbar": {
             "outlinewidth": 0,
             "ticks": ""
            },
            "colorscale": [
             [
              0,
              "#0d0887"
             ],
             [
              0.1111111111111111,
              "#46039f"
             ],
             [
              0.2222222222222222,
              "#7201a8"
             ],
             [
              0.3333333333333333,
              "#9c179e"
             ],
             [
              0.4444444444444444,
              "#bd3786"
             ],
             [
              0.5555555555555556,
              "#d8576b"
             ],
             [
              0.6666666666666666,
              "#ed7953"
             ],
             [
              0.7777777777777778,
              "#fb9f3a"
             ],
             [
              0.8888888888888888,
              "#fdca26"
             ],
             [
              1,
              "#f0f921"
             ]
            ],
            "type": "heatmap"
           }
          ],
          "heatmapgl": [
           {
            "colorbar": {
             "outlinewidth": 0,
             "ticks": ""
            },
            "colorscale": [
             [
              0,
              "#0d0887"
             ],
             [
              0.1111111111111111,
              "#46039f"
             ],
             [
              0.2222222222222222,
              "#7201a8"
             ],
             [
              0.3333333333333333,
              "#9c179e"
             ],
             [
              0.4444444444444444,
              "#bd3786"
             ],
             [
              0.5555555555555556,
              "#d8576b"
             ],
             [
              0.6666666666666666,
              "#ed7953"
             ],
             [
              0.7777777777777778,
              "#fb9f3a"
             ],
             [
              0.8888888888888888,
              "#fdca26"
             ],
             [
              1,
              "#f0f921"
             ]
            ],
            "type": "heatmapgl"
           }
          ],
          "histogram": [
           {
            "marker": {
             "pattern": {
              "fillmode": "overlay",
              "size": 10,
              "solidity": 0.2
             }
            },
            "type": "histogram"
           }
          ],
          "histogram2d": [
           {
            "colorbar": {
             "outlinewidth": 0,
             "ticks": ""
            },
            "colorscale": [
             [
              0,
              "#0d0887"
             ],
             [
              0.1111111111111111,
              "#46039f"
             ],
             [
              0.2222222222222222,
              "#7201a8"
             ],
             [
              0.3333333333333333,
              "#9c179e"
             ],
             [
              0.4444444444444444,
              "#bd3786"
             ],
             [
              0.5555555555555556,
              "#d8576b"
             ],
             [
              0.6666666666666666,
              "#ed7953"
             ],
             [
              0.7777777777777778,
              "#fb9f3a"
             ],
             [
              0.8888888888888888,
              "#fdca26"
             ],
             [
              1,
              "#f0f921"
             ]
            ],
            "type": "histogram2d"
           }
          ],
          "histogram2dcontour": [
           {
            "colorbar": {
             "outlinewidth": 0,
             "ticks": ""
            },
            "colorscale": [
             [
              0,
              "#0d0887"
             ],
             [
              0.1111111111111111,
              "#46039f"
             ],
             [
              0.2222222222222222,
              "#7201a8"
             ],
             [
              0.3333333333333333,
              "#9c179e"
             ],
             [
              0.4444444444444444,
              "#bd3786"
             ],
             [
              0.5555555555555556,
              "#d8576b"
             ],
             [
              0.6666666666666666,
              "#ed7953"
             ],
             [
              0.7777777777777778,
              "#fb9f3a"
             ],
             [
              0.8888888888888888,
              "#fdca26"
             ],
             [
              1,
              "#f0f921"
             ]
            ],
            "type": "histogram2dcontour"
           }
          ],
          "mesh3d": [
           {
            "colorbar": {
             "outlinewidth": 0,
             "ticks": ""
            },
            "type": "mesh3d"
           }
          ],
          "parcoords": [
           {
            "line": {
             "colorbar": {
              "outlinewidth": 0,
              "ticks": ""
             }
            },
            "type": "parcoords"
           }
          ],
          "pie": [
           {
            "automargin": true,
            "type": "pie"
           }
          ],
          "scatter": [
           {
            "fillpattern": {
             "fillmode": "overlay",
             "size": 10,
             "solidity": 0.2
            },
            "type": "scatter"
           }
          ],
          "scatter3d": [
           {
            "line": {
             "colorbar": {
              "outlinewidth": 0,
              "ticks": ""
             }
            },
            "marker": {
             "colorbar": {
              "outlinewidth": 0,
              "ticks": ""
             }
            },
            "type": "scatter3d"
           }
          ],
          "scattercarpet": [
           {
            "marker": {
             "colorbar": {
              "outlinewidth": 0,
              "ticks": ""
             }
            },
            "type": "scattercarpet"
           }
          ],
          "scattergeo": [
           {
            "marker": {
             "colorbar": {
              "outlinewidth": 0,
              "ticks": ""
             }
            },
            "type": "scattergeo"
           }
          ],
          "scattergl": [
           {
            "marker": {
             "colorbar": {
              "outlinewidth": 0,
              "ticks": ""
             }
            },
            "type": "scattergl"
           }
          ],
          "scattermapbox": [
           {
            "marker": {
             "colorbar": {
              "outlinewidth": 0,
              "ticks": ""
             }
            },
            "type": "scattermapbox"
           }
          ],
          "scatterpolar": [
           {
            "marker": {
             "colorbar": {
              "outlinewidth": 0,
              "ticks": ""
             }
            },
            "type": "scatterpolar"
           }
          ],
          "scatterpolargl": [
           {
            "marker": {
             "colorbar": {
              "outlinewidth": 0,
              "ticks": ""
             }
            },
            "type": "scatterpolargl"
           }
          ],
          "scatterternary": [
           {
            "marker": {
             "colorbar": {
              "outlinewidth": 0,
              "ticks": ""
             }
            },
            "type": "scatterternary"
           }
          ],
          "surface": [
           {
            "colorbar": {
             "outlinewidth": 0,
             "ticks": ""
            },
            "colorscale": [
             [
              0,
              "#0d0887"
             ],
             [
              0.1111111111111111,
              "#46039f"
             ],
             [
              0.2222222222222222,
              "#7201a8"
             ],
             [
              0.3333333333333333,
              "#9c179e"
             ],
             [
              0.4444444444444444,
              "#bd3786"
             ],
             [
              0.5555555555555556,
              "#d8576b"
             ],
             [
              0.6666666666666666,
              "#ed7953"
             ],
             [
              0.7777777777777778,
              "#fb9f3a"
             ],
             [
              0.8888888888888888,
              "#fdca26"
             ],
             [
              1,
              "#f0f921"
             ]
            ],
            "type": "surface"
           }
          ],
          "table": [
           {
            "cells": {
             "fill": {
              "color": "#EBF0F8"
             },
             "line": {
              "color": "white"
             }
            },
            "header": {
             "fill": {
              "color": "#C8D4E3"
             },
             "line": {
              "color": "white"
             }
            },
            "type": "table"
           }
          ]
         },
         "layout": {
          "annotationdefaults": {
           "arrowcolor": "#2a3f5f",
           "arrowhead": 0,
           "arrowwidth": 1
          },
          "autotypenumbers": "strict",
          "coloraxis": {
           "colorbar": {
            "outlinewidth": 0,
            "ticks": ""
           }
          },
          "colorscale": {
           "diverging": [
            [
             0,
             "#8e0152"
            ],
            [
             0.1,
             "#c51b7d"
            ],
            [
             0.2,
             "#de77ae"
            ],
            [
             0.3,
             "#f1b6da"
            ],
            [
             0.4,
             "#fde0ef"
            ],
            [
             0.5,
             "#f7f7f7"
            ],
            [
             0.6,
             "#e6f5d0"
            ],
            [
             0.7,
             "#b8e186"
            ],
            [
             0.8,
             "#7fbc41"
            ],
            [
             0.9,
             "#4d9221"
            ],
            [
             1,
             "#276419"
            ]
           ],
           "sequential": [
            [
             0,
             "#0d0887"
            ],
            [
             0.1111111111111111,
             "#46039f"
            ],
            [
             0.2222222222222222,
             "#7201a8"
            ],
            [
             0.3333333333333333,
             "#9c179e"
            ],
            [
             0.4444444444444444,
             "#bd3786"
            ],
            [
             0.5555555555555556,
             "#d8576b"
            ],
            [
             0.6666666666666666,
             "#ed7953"
            ],
            [
             0.7777777777777778,
             "#fb9f3a"
            ],
            [
             0.8888888888888888,
             "#fdca26"
            ],
            [
             1,
             "#f0f921"
            ]
           ],
           "sequentialminus": [
            [
             0,
             "#0d0887"
            ],
            [
             0.1111111111111111,
             "#46039f"
            ],
            [
             0.2222222222222222,
             "#7201a8"
            ],
            [
             0.3333333333333333,
             "#9c179e"
            ],
            [
             0.4444444444444444,
             "#bd3786"
            ],
            [
             0.5555555555555556,
             "#d8576b"
            ],
            [
             0.6666666666666666,
             "#ed7953"
            ],
            [
             0.7777777777777778,
             "#fb9f3a"
            ],
            [
             0.8888888888888888,
             "#fdca26"
            ],
            [
             1,
             "#f0f921"
            ]
           ]
          },
          "colorway": [
           "#636efa",
           "#EF553B",
           "#00cc96",
           "#ab63fa",
           "#FFA15A",
           "#19d3f3",
           "#FF6692",
           "#B6E880",
           "#FF97FF",
           "#FECB52"
          ],
          "font": {
           "color": "#2a3f5f"
          },
          "geo": {
           "bgcolor": "white",
           "lakecolor": "white",
           "landcolor": "#E5ECF6",
           "showlakes": true,
           "showland": true,
           "subunitcolor": "white"
          },
          "hoverlabel": {
           "align": "left"
          },
          "hovermode": "closest",
          "mapbox": {
           "style": "light"
          },
          "paper_bgcolor": "white",
          "plot_bgcolor": "#E5ECF6",
          "polar": {
           "angularaxis": {
            "gridcolor": "white",
            "linecolor": "white",
            "ticks": ""
           },
           "bgcolor": "#E5ECF6",
           "radialaxis": {
            "gridcolor": "white",
            "linecolor": "white",
            "ticks": ""
           }
          },
          "scene": {
           "xaxis": {
            "backgroundcolor": "#E5ECF6",
            "gridcolor": "white",
            "gridwidth": 2,
            "linecolor": "white",
            "showbackground": true,
            "ticks": "",
            "zerolinecolor": "white"
           },
           "yaxis": {
            "backgroundcolor": "#E5ECF6",
            "gridcolor": "white",
            "gridwidth": 2,
            "linecolor": "white",
            "showbackground": true,
            "ticks": "",
            "zerolinecolor": "white"
           },
           "zaxis": {
            "backgroundcolor": "#E5ECF6",
            "gridcolor": "white",
            "gridwidth": 2,
            "linecolor": "white",
            "showbackground": true,
            "ticks": "",
            "zerolinecolor": "white"
           }
          },
          "shapedefaults": {
           "line": {
            "color": "#2a3f5f"
           }
          },
          "ternary": {
           "aaxis": {
            "gridcolor": "white",
            "linecolor": "white",
            "ticks": ""
           },
           "baxis": {
            "gridcolor": "white",
            "linecolor": "white",
            "ticks": ""
           },
           "bgcolor": "#E5ECF6",
           "caxis": {
            "gridcolor": "white",
            "linecolor": "white",
            "ticks": ""
           }
          },
          "title": {
           "x": 0.05
          },
          "xaxis": {
           "automargin": true,
           "gridcolor": "white",
           "linecolor": "white",
           "ticks": "",
           "title": {
            "standoff": 15
           },
           "zerolinecolor": "white",
           "zerolinewidth": 2
          },
          "yaxis": {
           "automargin": true,
           "gridcolor": "white",
           "linecolor": "white",
           "ticks": "",
           "title": {
            "standoff": 15
           },
           "zerolinecolor": "white",
           "zerolinewidth": 2
          }
         }
        },
        "title": {
         "text": "Evolution of the average temperature in Agglomération de Marseille accross months of 2019"
        },
        "xaxis": {
         "anchor": "y",
         "domain": [
          0,
          1
         ],
         "title": {
          "text": "Month"
         }
        },
        "yaxis": {
         "anchor": "x",
         "domain": [
          0,
          1
         ],
         "title": {
          "text": "Average Temperature (°C)"
         }
        }
       }
      },
      "text/html": [
       "<div>                            <div id=\"71cbe3f9-1aa9-4470-94b0-c1567cb75ecc\" class=\"plotly-graph-div\" style=\"height:525px; width:100%;\"></div>            <script type=\"text/javascript\">                require([\"plotly\"], function(Plotly) {                    window.PLOTLYENV=window.PLOTLYENV || {};                                    if (document.getElementById(\"71cbe3f9-1aa9-4470-94b0-c1567cb75ecc\")) {                    Plotly.newPlot(                        \"71cbe3f9-1aa9-4470-94b0-c1567cb75ecc\",                        [{\"alignmentgroup\":\"True\",\"hovertemplate\":\"Month=%{x}<br>Average Temperature (\\u00b0C)=%{y}<extra></extra>\",\"legendgroup\":\"\",\"marker\":{\"color\":\"#636efa\",\"pattern\":{\"shape\":\"\"}},\"name\":\"\",\"offsetgroup\":\"\",\"orientation\":\"v\",\"showlegend\":false,\"textposition\":\"auto\",\"x\":[\"Jan 2019\",\"Feb 2019\",\"Mar 2019\",\"Apr 2019\",\"May 2019\",\"Jun 2019\",\"Jul 2019\",\"Aug 2019\",\"Sep 2019\",\"Oct 2019\",\"Nov 2019\",\"Dec 2019\"],\"xaxis\":\"x\",\"y\":[6.4877419354838715,9.213571428571429,11.830967741935483,13.251666666666667,15.985806451612904,22.086666666666666,25.50774193548387,24.743225806451612,21.46466666666667,17.731935483870966,10.991666666666667,10.627096774193548],\"yaxis\":\"y\",\"type\":\"bar\"}],                        {\"template\":{\"data\":{\"histogram2dcontour\":[{\"type\":\"histogram2dcontour\",\"colorbar\":{\"outlinewidth\":0,\"ticks\":\"\"},\"colorscale\":[[0.0,\"#0d0887\"],[0.1111111111111111,\"#46039f\"],[0.2222222222222222,\"#7201a8\"],[0.3333333333333333,\"#9c179e\"],[0.4444444444444444,\"#bd3786\"],[0.5555555555555556,\"#d8576b\"],[0.6666666666666666,\"#ed7953\"],[0.7777777777777778,\"#fb9f3a\"],[0.8888888888888888,\"#fdca26\"],[1.0,\"#f0f921\"]]}],\"choropleth\":[{\"type\":\"choropleth\",\"colorbar\":{\"outlinewidth\":0,\"ticks\":\"\"}}],\"histogram2d\":[{\"type\":\"histogram2d\",\"colorbar\":{\"outlinewidth\":0,\"ticks\":\"\"},\"colorscale\":[[0.0,\"#0d0887\"],[0.1111111111111111,\"#46039f\"],[0.2222222222222222,\"#7201a8\"],[0.3333333333333333,\"#9c179e\"],[0.4444444444444444,\"#bd3786\"],[0.5555555555555556,\"#d8576b\"],[0.6666666666666666,\"#ed7953\"],[0.7777777777777778,\"#fb9f3a\"],[0.8888888888888888,\"#fdca26\"],[1.0,\"#f0f921\"]]}],\"heatmap\":[{\"type\":\"heatmap\",\"colorbar\":{\"outlinewidth\":0,\"ticks\":\"\"},\"colorscale\":[[0.0,\"#0d0887\"],[0.1111111111111111,\"#46039f\"],[0.2222222222222222,\"#7201a8\"],[0.3333333333333333,\"#9c179e\"],[0.4444444444444444,\"#bd3786\"],[0.5555555555555556,\"#d8576b\"],[0.6666666666666666,\"#ed7953\"],[0.7777777777777778,\"#fb9f3a\"],[0.8888888888888888,\"#fdca26\"],[1.0,\"#f0f921\"]]}],\"heatmapgl\":[{\"type\":\"heatmapgl\",\"colorbar\":{\"outlinewidth\":0,\"ticks\":\"\"},\"colorscale\":[[0.0,\"#0d0887\"],[0.1111111111111111,\"#46039f\"],[0.2222222222222222,\"#7201a8\"],[0.3333333333333333,\"#9c179e\"],[0.4444444444444444,\"#bd3786\"],[0.5555555555555556,\"#d8576b\"],[0.6666666666666666,\"#ed7953\"],[0.7777777777777778,\"#fb9f3a\"],[0.8888888888888888,\"#fdca26\"],[1.0,\"#f0f921\"]]}],\"contourcarpet\":[{\"type\":\"contourcarpet\",\"colorbar\":{\"outlinewidth\":0,\"ticks\":\"\"}}],\"contour\":[{\"type\":\"contour\",\"colorbar\":{\"outlinewidth\":0,\"ticks\":\"\"},\"colorscale\":[[0.0,\"#0d0887\"],[0.1111111111111111,\"#46039f\"],[0.2222222222222222,\"#7201a8\"],[0.3333333333333333,\"#9c179e\"],[0.4444444444444444,\"#bd3786\"],[0.5555555555555556,\"#d8576b\"],[0.6666666666666666,\"#ed7953\"],[0.7777777777777778,\"#fb9f3a\"],[0.8888888888888888,\"#fdca26\"],[1.0,\"#f0f921\"]]}],\"surface\":[{\"type\":\"surface\",\"colorbar\":{\"outlinewidth\":0,\"ticks\":\"\"},\"colorscale\":[[0.0,\"#0d0887\"],[0.1111111111111111,\"#46039f\"],[0.2222222222222222,\"#7201a8\"],[0.3333333333333333,\"#9c179e\"],[0.4444444444444444,\"#bd3786\"],[0.5555555555555556,\"#d8576b\"],[0.6666666666666666,\"#ed7953\"],[0.7777777777777778,\"#fb9f3a\"],[0.8888888888888888,\"#fdca26\"],[1.0,\"#f0f921\"]]}],\"mesh3d\":[{\"type\":\"mesh3d\",\"colorbar\":{\"outlinewidth\":0,\"ticks\":\"\"}}],\"scatter\":[{\"fillpattern\":{\"fillmode\":\"overlay\",\"size\":10,\"solidity\":0.2},\"type\":\"scatter\"}],\"parcoords\":[{\"type\":\"parcoords\",\"line\":{\"colorbar\":{\"outlinewidth\":0,\"ticks\":\"\"}}}],\"scatterpolargl\":[{\"type\":\"scatterpolargl\",\"marker\":{\"colorbar\":{\"outlinewidth\":0,\"ticks\":\"\"}}}],\"bar\":[{\"error_x\":{\"color\":\"#2a3f5f\"},\"error_y\":{\"color\":\"#2a3f5f\"},\"marker\":{\"line\":{\"color\":\"#E5ECF6\",\"width\":0.5},\"pattern\":{\"fillmode\":\"overlay\",\"size\":10,\"solidity\":0.2}},\"type\":\"bar\"}],\"scattergeo\":[{\"type\":\"scattergeo\",\"marker\":{\"colorbar\":{\"outlinewidth\":0,\"ticks\":\"\"}}}],\"scatterpolar\":[{\"type\":\"scatterpolar\",\"marker\":{\"colorbar\":{\"outlinewidth\":0,\"ticks\":\"\"}}}],\"histogram\":[{\"marker\":{\"pattern\":{\"fillmode\":\"overlay\",\"size\":10,\"solidity\":0.2}},\"type\":\"histogram\"}],\"scattergl\":[{\"type\":\"scattergl\",\"marker\":{\"colorbar\":{\"outlinewidth\":0,\"ticks\":\"\"}}}],\"scatter3d\":[{\"type\":\"scatter3d\",\"line\":{\"colorbar\":{\"outlinewidth\":0,\"ticks\":\"\"}},\"marker\":{\"colorbar\":{\"outlinewidth\":0,\"ticks\":\"\"}}}],\"scattermapbox\":[{\"type\":\"scattermapbox\",\"marker\":{\"colorbar\":{\"outlinewidth\":0,\"ticks\":\"\"}}}],\"scatterternary\":[{\"type\":\"scatterternary\",\"marker\":{\"colorbar\":{\"outlinewidth\":0,\"ticks\":\"\"}}}],\"scattercarpet\":[{\"type\":\"scattercarpet\",\"marker\":{\"colorbar\":{\"outlinewidth\":0,\"ticks\":\"\"}}}],\"carpet\":[{\"aaxis\":{\"endlinecolor\":\"#2a3f5f\",\"gridcolor\":\"white\",\"linecolor\":\"white\",\"minorgridcolor\":\"white\",\"startlinecolor\":\"#2a3f5f\"},\"baxis\":{\"endlinecolor\":\"#2a3f5f\",\"gridcolor\":\"white\",\"linecolor\":\"white\",\"minorgridcolor\":\"white\",\"startlinecolor\":\"#2a3f5f\"},\"type\":\"carpet\"}],\"table\":[{\"cells\":{\"fill\":{\"color\":\"#EBF0F8\"},\"line\":{\"color\":\"white\"}},\"header\":{\"fill\":{\"color\":\"#C8D4E3\"},\"line\":{\"color\":\"white\"}},\"type\":\"table\"}],\"barpolar\":[{\"marker\":{\"line\":{\"color\":\"#E5ECF6\",\"width\":0.5},\"pattern\":{\"fillmode\":\"overlay\",\"size\":10,\"solidity\":0.2}},\"type\":\"barpolar\"}],\"pie\":[{\"automargin\":true,\"type\":\"pie\"}]},\"layout\":{\"autotypenumbers\":\"strict\",\"colorway\":[\"#636efa\",\"#EF553B\",\"#00cc96\",\"#ab63fa\",\"#FFA15A\",\"#19d3f3\",\"#FF6692\",\"#B6E880\",\"#FF97FF\",\"#FECB52\"],\"font\":{\"color\":\"#2a3f5f\"},\"hovermode\":\"closest\",\"hoverlabel\":{\"align\":\"left\"},\"paper_bgcolor\":\"white\",\"plot_bgcolor\":\"#E5ECF6\",\"polar\":{\"bgcolor\":\"#E5ECF6\",\"angularaxis\":{\"gridcolor\":\"white\",\"linecolor\":\"white\",\"ticks\":\"\"},\"radialaxis\":{\"gridcolor\":\"white\",\"linecolor\":\"white\",\"ticks\":\"\"}},\"ternary\":{\"bgcolor\":\"#E5ECF6\",\"aaxis\":{\"gridcolor\":\"white\",\"linecolor\":\"white\",\"ticks\":\"\"},\"baxis\":{\"gridcolor\":\"white\",\"linecolor\":\"white\",\"ticks\":\"\"},\"caxis\":{\"gridcolor\":\"white\",\"linecolor\":\"white\",\"ticks\":\"\"}},\"coloraxis\":{\"colorbar\":{\"outlinewidth\":0,\"ticks\":\"\"}},\"colorscale\":{\"sequential\":[[0.0,\"#0d0887\"],[0.1111111111111111,\"#46039f\"],[0.2222222222222222,\"#7201a8\"],[0.3333333333333333,\"#9c179e\"],[0.4444444444444444,\"#bd3786\"],[0.5555555555555556,\"#d8576b\"],[0.6666666666666666,\"#ed7953\"],[0.7777777777777778,\"#fb9f3a\"],[0.8888888888888888,\"#fdca26\"],[1.0,\"#f0f921\"]],\"sequentialminus\":[[0.0,\"#0d0887\"],[0.1111111111111111,\"#46039f\"],[0.2222222222222222,\"#7201a8\"],[0.3333333333333333,\"#9c179e\"],[0.4444444444444444,\"#bd3786\"],[0.5555555555555556,\"#d8576b\"],[0.6666666666666666,\"#ed7953\"],[0.7777777777777778,\"#fb9f3a\"],[0.8888888888888888,\"#fdca26\"],[1.0,\"#f0f921\"]],\"diverging\":[[0,\"#8e0152\"],[0.1,\"#c51b7d\"],[0.2,\"#de77ae\"],[0.3,\"#f1b6da\"],[0.4,\"#fde0ef\"],[0.5,\"#f7f7f7\"],[0.6,\"#e6f5d0\"],[0.7,\"#b8e186\"],[0.8,\"#7fbc41\"],[0.9,\"#4d9221\"],[1,\"#276419\"]]},\"xaxis\":{\"gridcolor\":\"white\",\"linecolor\":\"white\",\"ticks\":\"\",\"title\":{\"standoff\":15},\"zerolinecolor\":\"white\",\"automargin\":true,\"zerolinewidth\":2},\"yaxis\":{\"gridcolor\":\"white\",\"linecolor\":\"white\",\"ticks\":\"\",\"title\":{\"standoff\":15},\"zerolinecolor\":\"white\",\"automargin\":true,\"zerolinewidth\":2},\"scene\":{\"xaxis\":{\"backgroundcolor\":\"#E5ECF6\",\"gridcolor\":\"white\",\"linecolor\":\"white\",\"showbackground\":true,\"ticks\":\"\",\"zerolinecolor\":\"white\",\"gridwidth\":2},\"yaxis\":{\"backgroundcolor\":\"#E5ECF6\",\"gridcolor\":\"white\",\"linecolor\":\"white\",\"showbackground\":true,\"ticks\":\"\",\"zerolinecolor\":\"white\",\"gridwidth\":2},\"zaxis\":{\"backgroundcolor\":\"#E5ECF6\",\"gridcolor\":\"white\",\"linecolor\":\"white\",\"showbackground\":true,\"ticks\":\"\",\"zerolinecolor\":\"white\",\"gridwidth\":2}},\"shapedefaults\":{\"line\":{\"color\":\"#2a3f5f\"}},\"annotationdefaults\":{\"arrowcolor\":\"#2a3f5f\",\"arrowhead\":0,\"arrowwidth\":1},\"geo\":{\"bgcolor\":\"white\",\"landcolor\":\"#E5ECF6\",\"subunitcolor\":\"white\",\"showland\":true,\"showlakes\":true,\"lakecolor\":\"white\"},\"title\":{\"x\":0.05},\"mapbox\":{\"style\":\"light\"}}},\"xaxis\":{\"anchor\":\"y\",\"domain\":[0.0,1.0],\"title\":{\"text\":\"Month\"}},\"yaxis\":{\"anchor\":\"x\",\"domain\":[0.0,1.0],\"title\":{\"text\":\"Average Temperature (\\u00b0C)\"}},\"legend\":{\"tracegroupgap\":0},\"title\":{\"text\":\"Evolution of the average temperature in Agglom\\u00e9ration de Marseille accross months of 2019\"},\"barmode\":\"relative\"},                        {\"responsive\": true}                    ).then(function(){\n",
       "                            \n",
       "var gd = document.getElementById('71cbe3f9-1aa9-4470-94b0-c1567cb75ecc');\n",
       "var x = new MutationObserver(function (mutations, observer) {{\n",
       "        var display = window.getComputedStyle(gd).display;\n",
       "        if (!display || display === 'none') {{\n",
       "            console.log([gd, 'removed!']);\n",
       "            Plotly.purge(gd);\n",
       "            observer.disconnect();\n",
       "        }}\n",
       "}});\n",
       "\n",
       "// Listen for the removal of the full notebook cells\n",
       "var notebookContainer = gd.closest('#notebook-container');\n",
       "if (notebookContainer) {{\n",
       "    x.observe(notebookContainer, {childList: true});\n",
       "}}\n",
       "\n",
       "// Listen for the clearing of the current output cell\n",
       "var outputEl = gd.closest('.output');\n",
       "if (outputEl) {{\n",
       "    x.observe(outputEl, {childList: true});\n",
       "}}\n",
       "\n",
       "                        })                };                });            </script>        </div>"
      ]
     },
     "metadata": {},
     "output_type": "display_data"
    }
   ],
   "source": [
    "list(charts_temperature_evolution_agglomeration.values())[50]"
   ]
  },
  {
   "cell_type": "code",
   "execution_count": 44,
   "id": "0908cf13",
   "metadata": {},
   "outputs": [
    {
     "data": {
      "text/html": [
       "<div>\n",
       "<style scoped>\n",
       "    .dataframe tbody tr th:only-of-type {\n",
       "        vertical-align: middle;\n",
       "    }\n",
       "\n",
       "    .dataframe tbody tr th {\n",
       "        vertical-align: top;\n",
       "    }\n",
       "\n",
       "    .dataframe thead th {\n",
       "        text-align: right;\n",
       "    }\n",
       "</style>\n",
       "<table border=\"1\" class=\"dataframe\">\n",
       "  <thead>\n",
       "    <tr style=\"text-align: right;\">\n",
       "      <th></th>\n",
       "      <th>Mois</th>\n",
       "      <th>TMin</th>\n",
       "      <th>TMax</th>\n",
       "      <th>TMoy</th>\n",
       "    </tr>\n",
       "  </thead>\n",
       "  <tbody>\n",
       "    <tr>\n",
       "      <th>4</th>\n",
       "      <td>Jan 2019</td>\n",
       "      <td>3.281935</td>\n",
       "      <td>9.694839</td>\n",
       "      <td>6.487742</td>\n",
       "    </tr>\n",
       "    <tr>\n",
       "      <th>3</th>\n",
       "      <td>Feb 2019</td>\n",
       "      <td>4.296071</td>\n",
       "      <td>14.131429</td>\n",
       "      <td>9.213571</td>\n",
       "    </tr>\n",
       "    <tr>\n",
       "      <th>7</th>\n",
       "      <td>Mar 2019</td>\n",
       "      <td>6.927419</td>\n",
       "      <td>16.733871</td>\n",
       "      <td>11.830968</td>\n",
       "    </tr>\n",
       "    <tr>\n",
       "      <th>0</th>\n",
       "      <td>Apr 2019</td>\n",
       "      <td>9.130667</td>\n",
       "      <td>17.374000</td>\n",
       "      <td>13.251667</td>\n",
       "    </tr>\n",
       "    <tr>\n",
       "      <th>8</th>\n",
       "      <td>May 2019</td>\n",
       "      <td>11.778710</td>\n",
       "      <td>20.191613</td>\n",
       "      <td>15.985806</td>\n",
       "    </tr>\n",
       "    <tr>\n",
       "      <th>6</th>\n",
       "      <td>Jun 2019</td>\n",
       "      <td>17.118333</td>\n",
       "      <td>27.054000</td>\n",
       "      <td>22.086667</td>\n",
       "    </tr>\n",
       "    <tr>\n",
       "      <th>5</th>\n",
       "      <td>Jul 2019</td>\n",
       "      <td>20.894516</td>\n",
       "      <td>30.119677</td>\n",
       "      <td>25.507742</td>\n",
       "    </tr>\n",
       "    <tr>\n",
       "      <th>1</th>\n",
       "      <td>Aug 2019</td>\n",
       "      <td>20.068065</td>\n",
       "      <td>29.417419</td>\n",
       "      <td>24.743226</td>\n",
       "    </tr>\n",
       "    <tr>\n",
       "      <th>11</th>\n",
       "      <td>Sep 2019</td>\n",
       "      <td>17.045667</td>\n",
       "      <td>25.883000</td>\n",
       "      <td>21.464667</td>\n",
       "    </tr>\n",
       "    <tr>\n",
       "      <th>10</th>\n",
       "      <td>Oct 2019</td>\n",
       "      <td>14.096129</td>\n",
       "      <td>21.370645</td>\n",
       "      <td>17.731935</td>\n",
       "    </tr>\n",
       "    <tr>\n",
       "      <th>9</th>\n",
       "      <td>Nov 2019</td>\n",
       "      <td>7.854667</td>\n",
       "      <td>14.126333</td>\n",
       "      <td>10.991667</td>\n",
       "    </tr>\n",
       "    <tr>\n",
       "      <th>2</th>\n",
       "      <td>Dec 2019</td>\n",
       "      <td>7.360323</td>\n",
       "      <td>13.896129</td>\n",
       "      <td>10.627097</td>\n",
       "    </tr>\n",
       "  </tbody>\n",
       "</table>\n",
       "</div>"
      ],
      "text/plain": [
       "        Mois       TMin       TMax       TMoy\n",
       "4   Jan 2019   3.281935   9.694839   6.487742\n",
       "3   Feb 2019   4.296071  14.131429   9.213571\n",
       "7   Mar 2019   6.927419  16.733871  11.830968\n",
       "0   Apr 2019   9.130667  17.374000  13.251667\n",
       "8   May 2019  11.778710  20.191613  15.985806\n",
       "6   Jun 2019  17.118333  27.054000  22.086667\n",
       "5   Jul 2019  20.894516  30.119677  25.507742\n",
       "1   Aug 2019  20.068065  29.417419  24.743226\n",
       "11  Sep 2019  17.045667  25.883000  21.464667\n",
       "10  Oct 2019  14.096129  21.370645  17.731935\n",
       "9   Nov 2019   7.854667  14.126333  10.991667\n",
       "2   Dec 2019   7.360323  13.896129  10.627097"
      ]
     },
     "execution_count": 44,
     "metadata": {},
     "output_type": "execute_result"
    }
   ],
   "source": [
    "list(data_temperature_evolution_agglomeration.values())[50]"
   ]
  },
  {
   "cell_type": "code",
   "execution_count": 45,
   "id": "c928c995",
   "metadata": {},
   "outputs": [],
   "source": [
    "agglomeration_rent_per_year = {2014: {(500, 1000): {'Agglomération de Montpellier', 'Agglomération de Fréjus', 'Agglomération de Toulouse', \"Agglomération d'Arles\", 'Agglomération de Nantes', \"Agglomération d'Aix-Marseille\", \"Unité urbaine de l'agglomération de Bayonne\", 'Agglomération de Nice-Menton', 'Agglomération de Lyon', 'Agglomération de Besançon', 'Agglomération de Rennes', 'Agglomération de Toulon', 'Agglomération de Saint Denis (La Réunion)', 'Agglomération de Sète', 'Agglomération parisienne (hors Paris)', 'Agglomération de Lille', 'Agglomération de Draguignan'}, (0, 500): {'Sud Loire - proche Haute-Loire', \"Agglomération d'Alençon\"}, (1000, 1500): {'Agglomération parisienne', 'Paris intra-muros'}}, 2015: {(500, 1000): {\"Agglomération d'Arles\", \"Unité urbaine de l'agglomération de Bayonne\", 'Eurométropole de Strasbourg', 'Agglomération de Besançon', 'Agglomération de Saint Denis (La Réunion)', 'Agglomération de Sète', 'Agglomération de Draguignan', 'Agglomération de Montpellier', \"Agglomération d'Aix-Marseille\", 'Agglomération de Lille', 'Agglomération de Teste-de-Buch-Arcachon', 'Agglomération de Rennes', 'Agglomération de Toulon', 'Agglomération de Bordeaux', 'Agglomération de Toulouse', 'Agglomération de Fréjus', 'Agglomération de Nantes', 'Agglomération de Nice-Menton', 'Agglomération de Lyon', 'Agglomération de La Rochelle', 'Agglomération parisienne (hors Paris)'}, (0, 500): {'Sud Loire - proche Haute-Loire', \"Agglomération d'Alençon\"}, (1000, 1500): {'Agglomération parisienne', 'Paris intra-muros'}}, 2016: {(500, 1000): {'Sud Loire - proche Haute-Loire', \"Agglomération d'Arles\", \"Unité urbaine de l'agglomération de Bayonne\", 'Agglomération de Grenoble', 'Eurométropole de Strasbourg', 'Agglomération CIVIS', 'Agglomération de Besançon', 'Agglomération de Sète', 'Agglomération de Draguignan', \"Les Sables d'Olonne Agglomération\", 'Agglomération de Montpellier', 'Agglomération de Nîmes', 'Agglomération parisienne (hors Paris)', \"Agglomération d'Aix-Marseille\", 'Agglomération CINOR', 'Agglomération de Lille', 'Pays de Challans', 'Agglomération de Teste-de-Buch-Arcachon', 'Agglomération de Clermont-Ferrand', 'Agglomération TCO', 'Agglomération de Marseille', 'Agglomération de Rennes', 'Agglomération de Toulon', 'Agglomération de Bordeaux', 'Agglomération de Toulouse', 'Agglomération de Douai', 'Agglomération de Fréjus', 'Agglomération de Nantes', 'Agglomération de Nice-Menton', 'Agglomération de Lyon', 'Agglomération de La Rochelle', 'Agglomération de Nancy', 'Agglomération de Montbéliard'}, (0, 500): {'La Roche-sur-Yon Agglomération', \"Agglomération d'Alençon\", 'Agglomération de Brest'}, (1000, 1500): {'Agglomération parisienne', 'Paris intra-muros'}}, 2017: {(500, 1000): {\"Agglomération d'Arles\", \"Unité urbaine de l'agglomération de Bayonne\", 'Agglomération de Grenoble', 'Eurométropole de Strasbourg', 'Agglomération CIVIS', 'Agglomération de Besançon', 'Agglomération de Sète', \"Agglomération d'Ajaccio\", 'Agglomération de Draguignan', \"Les Sables d'Olonne Agglomération\", 'Agglomération de Montpellier', 'Agglomération de Nîmes', \"Agglomération d'Aix-Marseille\", 'Auray Quiberon Terre Atlantique', 'Agglomération CIREST', 'Agglomération CASUD', 'Agglomération CINOR', 'Agglomération de Lille', 'Golfe du Morbihan - Vannes Agglomération', 'Agglomération de Teste-de-Buch-Arcachon', 'Pays de Challans', 'Lorient Agglomération', 'Agglomération de Clermont-Ferrand', 'Agglomération TCO', 'Agglomération de Rennes', 'Agglomération de Toulon', 'Agglomération de Bordeaux', 'Agglomération de Toulouse', 'Agglomération de Fréjus', 'Agglomération de Nantes', 'Agglomération de Nice-Menton', 'Agglomération de Lyon', 'Agglomération de La Rochelle', 'Agglomération de Nancy'}, (0, 500): {'Sud Loire - proche Haute-Loire', 'La Roche-sur-Yon Agglomération', \"Agglomération d'Alençon\", 'Agglomération de Brest'}, (1000, 1500): {'Agglomération parisienne'}}, 2018: {(500, 1000): {\"Agglomération d'Arles\", 'La Roche-sur-Yon Agglomération', 'Agglomération de Grenoble', \"Unité urbaine de l'agglomération de Bayonne\", 'Eurométropole de Strasbourg', 'Agglomération CIVIS', 'Agglomération de Besançon', 'Agglomération de Sète', \"Agglomération d'Ajaccio\", 'Agglomération de Valence-Romans', 'Agglomération de Draguignan', \"Les Sables d'Olonne Agglomération\", 'Agglomération de Montpellier', 'Agglomération de Nîmes', 'Agglomération parisienne (hors Paris)', \"Agglomération d'Aix-Marseille\", 'Auray Quiberon Terre Atlantique', 'Agglomération CIREST', 'Agglomération CASUD', 'Agglomération CINOR', 'Pays de Saint Gilles Croix de Vie', 'Agglomération de Lille', 'Agglomération de Tours', 'Golfe du Morbihan - Vannes Agglomération', 'Agglomération de Teste-de-Buch-Arcachon', 'Pays de Challans', 'Lorient Agglomération', 'Agglomération de Montélimar', 'Agglomération de Clermont-Ferrand', 'Agglomération TCO', 'Agglomération de Rennes', 'Agglomération de Toulon', 'Communes non TLV', 'Agglomération de Bordeaux', \"Agglomération d'Arras\", 'Agglomération de Toulouse', 'Agglomération de Fréjus', 'Agglomération de Nantes', 'Agglomération de Nice-Menton', 'Agglomération de Lyon', 'Agglomération de La Rochelle', 'Agglomération de Nancy', 'Agglomération de Montbéliard'}, (0, 500): {'Agglomération de Vitré', 'Sud Loire - proche Haute-Loire', \"Agglomération d'Alençon\", 'Agglomération de Brest'}, (1000, 1500): {'Agglomération parisienne', 'Paris intra-muros'}}, 2019: {(500, 1000): {\"Agglomération d'Arles\", 'La Roche-sur-Yon Agglomération', 'Agglomération de Grenoble', \"Unité urbaine de l'agglomération de Bayonne\", 'Eurométropole de Strasbourg', 'Agglomération CIVIS', 'Agglomération de Besançon', 'Agglomération de Sète', \"Agglomération d'Ajaccio\", 'Agglomération de Valence-Romans', 'Agglomération de Draguignan', \"Les Sables d'Olonne Agglomération\", 'Agglomération de Montpellier', 'Agglomération de Nîmes', 'Agglomération parisienne (hors Paris)', \"Agglomération d'Aix-Marseille\", 'Auray Quiberon Terre Atlantique', 'Agglomération CIREST', 'Agglomération CINOR', 'Pays de Saint Gilles Croix de Vie', 'Agglomération de Lille', 'Agglomération de Cap Excellence', 'Agglomération de Tours', 'Agglomération de Bastia', 'Golfe du Morbihan - Vannes Agglomération', 'Pays de Challans', 'Lorient Agglomération', 'Agglomération de Montélimar', 'Agglomération de Clermont-Ferrand', 'Agglomération TCO', 'Agglomération de Rennes', 'Agglomération de Toulon', 'Agglomération de Bordeaux', \"Agglomération d'Arras\", 'Agglomération de Mâcon', 'Agglomération de Fréjus', 'Agglomération de Toulouse', 'Agglomération de Nantes', 'Agglomération de Nice-Menton', 'Agglomération de Lyon', 'Agglomération de Chalon-sur-Saône', 'Agglomération de La Rochelle', 'Agglomération de Nancy', 'Agglomération de Montbéliard'}, (0, 500): {'Agglomération de Vitré', 'Sud Loire - proche Haute-Loire', \"Agglomération d'Alençon\", 'Agglomération de Brest'}, (1000, 1500): {'Agglomération parisienne', 'Paris intra-muros'}}, 2020: {(500, 1000): {\"Agglomération d'Arles\", 'La Roche-sur-Yon Agglomération', 'Agglomération de Grenoble', \"Unité urbaine de l'agglomération de Bayonne\", 'Eurométropole de Strasbourg', 'Agglomération CIVIS', 'Agglomération de Besançon', 'Agglomération de Saint-Malo', 'Agglomération de Sète', \"Agglomération d'Ajaccio\", 'Agglomération de Valence-Romans', \"Les Sables d'Olonne Agglomération\", 'Agglomération de Montpellier', 'Agglomération de Nîmes', 'Agglomération parisienne (hors Paris)', \"Agglomération d'Aix-Marseille\", 'Auray Quiberon Terre Atlantique', 'Agglomération CIREST', 'Agglomération CASUD', 'Agglomération CINOR', 'Pays de Saint Gilles Croix de Vie', 'Agglomération de Lille', 'Agglomération de Tours', 'Agglomération de Bastia', 'Golfe du Morbihan - Vannes Agglomération', 'Pays de Challans', 'Lorient Agglomération', 'Agglomération de Montélimar', 'Agglomération de Clermont-Ferrand', 'Agglomération TCO', 'Agglomération de Rennes', 'Agglomération de Bordeaux', \"Agglomération d'Arras\", 'Agglomération de Mâcon', 'Agglomération de Toulouse', 'Agglomération de Nantes', 'Agglomération de Nice-Menton', 'Agglomération de Lyon', 'Agglomération de Chalon-sur-Saône', 'Agglomération de La Rochelle', 'Agglomération de Nancy', 'Agglomération de Montbéliard'}, (0, 500): {'Agglomération de Vitré', \"Agglomération d'Alençon\", 'Agglomération de Brest'}, (1000, 1500): {'Agglomération parisienne', 'Paris intra-muros'}}, 2021: {(500, 1000): {'Sud Loire - proche Haute-Loire', \"Agglomération d'Arles\", 'La Roche-sur-Yon Agglomération', 'Agglomération de Brest', 'Agglomération de Grenoble', 'Eurométropole de Strasbourg', \"Unité urbaine de l'agglomération de Bayonne\", 'Agglomération CIVIS', 'Agglomération de Besançon', 'Agglomération de La Rochelle', 'Agglomération de Saint-Malo', 'Agglomération de Sète', \"Agglomération d'Ajaccio\", 'Agglomération de Draguignan', \"Les Sables d'Olonne Agglomération\", 'Agglomération de Montpellier', 'Agglomération de Nîmes', 'Agglomération parisienne (hors Paris)', \"Agglomération d'Aix-Marseille\", 'Auray Quiberon Terre Atlantique', 'Agglomération CIREST', 'Agglomération CASUD', 'Agglomération de Vitré', 'Pays de Saint Gilles Croix de Vie', 'Agglomération de Lille', 'Agglomération de Cap Excellence', 'Agglomération de Bastia', 'Golfe du Morbihan - Vannes Agglomération', 'Pays de Challans', 'Lorient Agglomération', 'Agglomération de Clermont-Ferrand', 'Agglomération TCO', 'Agglomération de Rennes', 'Agglomération de Toulon', 'Communes non TLV', 'Agglomération de Bordeaux', \"Agglomération d'Arras\", 'Agglomération de Mâcon', 'Agglomération de Fréjus', 'Agglomération de Toulouse', 'Agglomération de Nantes', 'Agglomération de Lyon', 'Agglomération de Chalon-sur-Saône', 'Agglomération CINOR', 'Agglomération de Nancy', 'Agglomération de Montbéliard'}, (0, 500): {\"Agglomération d'Alençon\"}, (1000, 1500): {'Agglomération parisienne', 'Paris intra-muros'}}, 2022: {(500, 1000): {'Golfe du Morbihan - Vannes Agglomération', 'Agglomération de Toulouse', 'Agglomération de Fréjus', 'Lorient Agglomération', 'Agglomération de Nîmes', 'Agglomération de Brest', 'Auray Quiberon Terre Atlantique', 'Communes non TLV', 'Agglomération de Toulon', 'Agglomération de Nancy', 'Agglomération de Draguignan'}, (0, 500): {'Agglomération de Châteauroux'}}}\n"
   ]
  },
  {
   "cell_type": "code",
   "execution_count": 46,
   "id": "fa125b40",
   "metadata": {},
   "outputs": [],
   "source": [
    "data_temperature_evolution_rent_range = {year: {\n",
    "    rent_range: pd.concat(dataframes).groupby(\"Mois\").mean().reset_index()\n",
    "    for rent_range, dataframes in [\n",
    "        (rent_range, [data_temperature_evolution_agglomeration[(str(year), agglomeration)]\n",
    "                      for agglomeration in agglomerations\n",
    "                      if (str(year), agglomeration) in data_temperature_evolution_agglomeration.keys()])\n",
    "    for rent_range, agglomerations in rent_agglomerations_map.items()\n",
    "    ]\n",
    "    if dataframes}\n",
    "                                         for year, rent_agglomerations_map in agglomeration_rent_per_year.items()\n",
    "                                         if year>2017}"
   ]
  },
  {
   "cell_type": "code",
   "execution_count": 47,
   "id": "70fbec16",
   "metadata": {},
   "outputs": [
    {
     "data": {
      "text/plain": [
       "dict_keys([('2018', 'Agglomération de Nice-Menton'), ('2018', \"Agglomération d'Aix-Marseille\"), ('2018', \"Agglomération d'Arles\"), ('2018', 'Agglomération de Besançon'), ('2018', 'Agglomération de Toulouse'), ('2018', 'Agglomération de Montpellier'), ('2018', 'Agglomération de Sète'), ('2018', 'Agglomération de Rennes'), ('2018', 'Sud Loire - proche Haute-Loire'), ('2018', 'Agglomération de Nantes'), ('2018', 'Agglomération de Lille'), ('2018', \"Agglomération d'Alençon\"), ('2018', \"Unité urbaine de l'agglomération de Bayonne\"), ('2018', 'Agglomération de Lyon'), ('2018', 'Agglomération parisienne'), ('2018', 'Agglomération parisienne (hors Paris)'), ('2018', 'Paris intra-muros'), ('2018', 'Agglomération de Toulon'), ('2018', 'Agglomération de Draguignan'), ('2018', 'Agglomération de Fréjus'), ('2018', 'Agglomération de Marseille'), ('2018', 'Agglomération de Montbéliard'), ('2018', 'Agglomération de Brest'), ('2018', 'Agglomération de Nîmes'), ('2018', 'Agglomération de Nancy'), ('2018', 'Agglomération de Douai'), ('2018', 'Golfe du Morbihan - Vannes Agglomération'), ('2018', 'Lorient Agglomération'), ('2018', 'Auray Quiberon Terre Atlantique'), ('2018', 'Agglomération de Vitré'), ('2019', 'Agglomération de Nice-Menton'), ('2019', \"Agglomération d'Aix-Marseille\"), ('2019', \"Agglomération d'Arles\"), ('2019', 'Agglomération de Besançon'), ('2019', 'Agglomération de Toulouse'), ('2019', 'Agglomération de Montpellier'), ('2019', 'Agglomération de Sète'), ('2019', 'Agglomération de Rennes'), ('2019', 'Sud Loire - proche Haute-Loire'), ('2019', 'Agglomération de Nantes'), ('2019', 'Agglomération de Lille'), ('2019', \"Agglomération d'Alençon\"), ('2019', \"Unité urbaine de l'agglomération de Bayonne\"), ('2019', 'Agglomération de Lyon'), ('2019', 'Agglomération parisienne'), ('2019', 'Agglomération parisienne (hors Paris)'), ('2019', 'Paris intra-muros'), ('2019', 'Agglomération de Toulon'), ('2019', 'Agglomération de Draguignan'), ('2019', 'Agglomération de Fréjus'), ('2019', 'Agglomération de Marseille'), ('2019', 'Agglomération de Montbéliard'), ('2019', 'Agglomération de Brest'), ('2019', 'Agglomération de Nîmes'), ('2019', 'Agglomération de Nancy'), ('2019', 'Agglomération de Douai'), ('2019', 'Golfe du Morbihan - Vannes Agglomération'), ('2019', 'Lorient Agglomération'), ('2019', 'Auray Quiberon Terre Atlantique'), ('2019', 'Agglomération de Vitré'), ('2020', 'Agglomération de Nice-Menton'), ('2020', \"Agglomération d'Aix-Marseille\"), ('2020', \"Agglomération d'Arles\"), ('2020', 'Agglomération de Besançon'), ('2020', 'Agglomération de Toulouse'), ('2020', 'Agglomération de Montpellier'), ('2020', 'Agglomération de Sète'), ('2020', 'Agglomération de Rennes'), ('2020', 'Sud Loire - proche Haute-Loire'), ('2020', 'Agglomération de Nantes'), ('2020', 'Agglomération de Lille'), ('2020', \"Agglomération d'Alençon\"), ('2020', \"Unité urbaine de l'agglomération de Bayonne\"), ('2020', 'Agglomération de Lyon'), ('2020', 'Agglomération parisienne'), ('2020', 'Agglomération parisienne (hors Paris)'), ('2020', 'Paris intra-muros'), ('2020', 'Agglomération de Toulon'), ('2020', 'Agglomération de Draguignan'), ('2020', 'Agglomération de Fréjus'), ('2020', 'Agglomération de Marseille'), ('2020', 'Agglomération de Montbéliard'), ('2020', 'Agglomération de Brest'), ('2020', 'Agglomération de Nîmes'), ('2020', 'Agglomération de Nancy'), ('2020', 'Agglomération de Douai'), ('2020', 'Golfe du Morbihan - Vannes Agglomération'), ('2020', 'Lorient Agglomération'), ('2020', 'Auray Quiberon Terre Atlantique'), ('2020', 'Agglomération de Vitré'), ('2021', 'Agglomération de Nice-Menton'), ('2021', \"Agglomération d'Aix-Marseille\"), ('2021', \"Agglomération d'Arles\"), ('2021', 'Agglomération de Besançon'), ('2021', 'Agglomération de Toulouse'), ('2021', 'Agglomération de Montpellier'), ('2021', 'Agglomération de Sète'), ('2021', 'Agglomération de Rennes'), ('2021', 'Sud Loire - proche Haute-Loire'), ('2021', 'Agglomération de Nantes'), ('2021', 'Agglomération de Lille'), ('2021', \"Agglomération d'Alençon\"), ('2021', \"Unité urbaine de l'agglomération de Bayonne\"), ('2021', 'Agglomération de Lyon'), ('2021', 'Agglomération parisienne'), ('2021', 'Agglomération parisienne (hors Paris)'), ('2021', 'Paris intra-muros'), ('2021', 'Agglomération de Toulon'), ('2021', 'Agglomération de Draguignan'), ('2021', 'Agglomération de Fréjus'), ('2021', 'Agglomération de Marseille'), ('2021', 'Agglomération de Montbéliard'), ('2021', 'Agglomération de Brest'), ('2021', 'Agglomération de Nîmes'), ('2021', 'Agglomération de Nancy'), ('2021', 'Agglomération de Douai'), ('2021', 'Golfe du Morbihan - Vannes Agglomération'), ('2021', 'Lorient Agglomération'), ('2021', 'Auray Quiberon Terre Atlantique'), ('2021', 'Agglomération de Vitré'), ('2022', 'Agglomération de Nice-Menton'), ('2022', \"Agglomération d'Aix-Marseille\"), ('2022', \"Agglomération d'Arles\"), ('2022', 'Agglomération de Besançon'), ('2022', 'Agglomération de Toulouse'), ('2022', 'Agglomération de Montpellier'), ('2022', 'Agglomération de Sète'), ('2022', 'Agglomération de Rennes'), ('2022', 'Sud Loire - proche Haute-Loire'), ('2022', 'Agglomération de Nantes'), ('2022', 'Agglomération de Lille'), ('2022', \"Agglomération d'Alençon\"), ('2022', \"Unité urbaine de l'agglomération de Bayonne\"), ('2022', 'Agglomération de Lyon'), ('2022', 'Agglomération parisienne'), ('2022', 'Agglomération parisienne (hors Paris)'), ('2022', 'Paris intra-muros'), ('2022', 'Agglomération de Toulon'), ('2022', 'Agglomération de Draguignan'), ('2022', 'Agglomération de Fréjus'), ('2022', 'Agglomération de Marseille'), ('2022', 'Agglomération de Montbéliard'), ('2022', 'Agglomération de Brest'), ('2022', 'Agglomération de Nîmes'), ('2022', 'Agglomération de Nancy'), ('2022', 'Agglomération de Douai'), ('2022', 'Golfe du Morbihan - Vannes Agglomération'), ('2022', 'Lorient Agglomération'), ('2022', 'Auray Quiberon Terre Atlantique'), ('2022', 'Agglomération de Vitré')])"
      ]
     },
     "execution_count": 47,
     "metadata": {},
     "output_type": "execute_result"
    }
   ],
   "source": [
    "data_temperature_evolution_agglomeration.keys()"
   ]
  },
  {
   "cell_type": "code",
   "execution_count": 48,
   "id": "ebe5626e",
   "metadata": {},
   "outputs": [
    {
     "data": {
      "text/html": [
       "<div>\n",
       "<style scoped>\n",
       "    .dataframe tbody tr th:only-of-type {\n",
       "        vertical-align: middle;\n",
       "    }\n",
       "\n",
       "    .dataframe tbody tr th {\n",
       "        vertical-align: top;\n",
       "    }\n",
       "\n",
       "    .dataframe thead th {\n",
       "        text-align: right;\n",
       "    }\n",
       "</style>\n",
       "<table border=\"1\" class=\"dataframe\">\n",
       "  <thead>\n",
       "    <tr style=\"text-align: right;\">\n",
       "      <th></th>\n",
       "      <th>Mois</th>\n",
       "      <th>TMin</th>\n",
       "      <th>TMax</th>\n",
       "      <th>TMoy</th>\n",
       "    </tr>\n",
       "  </thead>\n",
       "  <tbody>\n",
       "    <tr>\n",
       "      <th>0</th>\n",
       "      <td>Apr 2018</td>\n",
       "      <td>9.528795</td>\n",
       "      <td>18.166189</td>\n",
       "      <td>13.847402</td>\n",
       "    </tr>\n",
       "    <tr>\n",
       "      <th>1</th>\n",
       "      <td>Aug 2018</td>\n",
       "      <td>17.636840</td>\n",
       "      <td>27.558174</td>\n",
       "      <td>22.597419</td>\n",
       "    </tr>\n",
       "    <tr>\n",
       "      <th>2</th>\n",
       "      <td>Dec 2018</td>\n",
       "      <td>5.913123</td>\n",
       "      <td>11.768739</td>\n",
       "      <td>8.840777</td>\n",
       "    </tr>\n",
       "    <tr>\n",
       "      <th>3</th>\n",
       "      <td>Feb 2018</td>\n",
       "      <td>1.541818</td>\n",
       "      <td>7.697849</td>\n",
       "      <td>4.619748</td>\n",
       "    </tr>\n",
       "    <tr>\n",
       "      <th>4</th>\n",
       "      <td>Jan 2018</td>\n",
       "      <td>6.394721</td>\n",
       "      <td>12.189853</td>\n",
       "      <td>9.292251</td>\n",
       "    </tr>\n",
       "    <tr>\n",
       "      <th>5</th>\n",
       "      <td>Jul 2018</td>\n",
       "      <td>18.069289</td>\n",
       "      <td>28.185433</td>\n",
       "      <td>23.127214</td>\n",
       "    </tr>\n",
       "    <tr>\n",
       "      <th>6</th>\n",
       "      <td>Jun 2018</td>\n",
       "      <td>15.778735</td>\n",
       "      <td>24.686121</td>\n",
       "      <td>20.232333</td>\n",
       "    </tr>\n",
       "    <tr>\n",
       "      <th>7</th>\n",
       "      <td>Mar 2018</td>\n",
       "      <td>5.189311</td>\n",
       "      <td>12.418695</td>\n",
       "      <td>8.804164</td>\n",
       "    </tr>\n",
       "    <tr>\n",
       "      <th>8</th>\n",
       "      <td>May 2018</td>\n",
       "      <td>11.961848</td>\n",
       "      <td>20.774413</td>\n",
       "      <td>16.368262</td>\n",
       "    </tr>\n",
       "    <tr>\n",
       "      <th>9</th>\n",
       "      <td>Nov 2018</td>\n",
       "      <td>7.834258</td>\n",
       "      <td>13.935985</td>\n",
       "      <td>10.884992</td>\n",
       "    </tr>\n",
       "    <tr>\n",
       "      <th>10</th>\n",
       "      <td>Oct 2018</td>\n",
       "      <td>11.181642</td>\n",
       "      <td>19.245007</td>\n",
       "      <td>15.213138</td>\n",
       "    </tr>\n",
       "    <tr>\n",
       "      <th>11</th>\n",
       "      <td>Sep 2018</td>\n",
       "      <td>14.475106</td>\n",
       "      <td>24.894614</td>\n",
       "      <td>19.684917</td>\n",
       "    </tr>\n",
       "  </tbody>\n",
       "</table>\n",
       "</div>"
      ],
      "text/plain": [
       "        Mois       TMin       TMax       TMoy\n",
       "0   Apr 2018   9.528795  18.166189  13.847402\n",
       "1   Aug 2018  17.636840  27.558174  22.597419\n",
       "2   Dec 2018   5.913123  11.768739   8.840777\n",
       "3   Feb 2018   1.541818   7.697849   4.619748\n",
       "4   Jan 2018   6.394721  12.189853   9.292251\n",
       "5   Jul 2018  18.069289  28.185433  23.127214\n",
       "6   Jun 2018  15.778735  24.686121  20.232333\n",
       "7   Mar 2018   5.189311  12.418695   8.804164\n",
       "8   May 2018  11.961848  20.774413  16.368262\n",
       "9   Nov 2018   7.834258  13.935985  10.884992\n",
       "10  Oct 2018  11.181642  19.245007  15.213138\n",
       "11  Sep 2018  14.475106  24.894614  19.684917"
      ]
     },
     "execution_count": 48,
     "metadata": {},
     "output_type": "execute_result"
    }
   ],
   "source": [
    "list(list(data_temperature_evolution_rent_range.values())[0].values())[0]"
   ]
  },
  {
   "cell_type": "code",
   "execution_count": 49,
   "id": "2c9be2ca",
   "metadata": {},
   "outputs": [
    {
     "data": {
      "text/plain": [
       "{2018: {(500,\n",
       "   1000):         Mois       TMin       TMax       TMoy\n",
       "  0   Apr 2018   9.528795  18.166189  13.847402\n",
       "  1   Aug 2018  17.636840  27.558174  22.597419\n",
       "  2   Dec 2018   5.913123  11.768739   8.840777\n",
       "  3   Feb 2018   1.541818   7.697849   4.619748\n",
       "  4   Jan 2018   6.394721  12.189853   9.292251\n",
       "  5   Jul 2018  18.069289  28.185433  23.127214\n",
       "  6   Jun 2018  15.778735  24.686121  20.232333\n",
       "  7   Mar 2018   5.189311  12.418695   8.804164\n",
       "  8   May 2018  11.961848  20.774413  16.368262\n",
       "  9   Nov 2018   7.834258  13.935985  10.884992\n",
       "  10  Oct 2018  11.181642  19.245007  15.213138\n",
       "  11  Sep 2018  14.475106  24.894614  19.684917,\n",
       "  (0,\n",
       "   500):         Mois       TMin       TMax       TMoy\n",
       "  0   Apr 2018   7.521583  16.760000  12.140833\n",
       "  1   Aug 2018  14.018145  24.371210  19.193952\n",
       "  2   Dec 2018   5.395887  10.447984   7.922097\n",
       "  3   Feb 2018   0.314554   6.305982   3.310982\n",
       "  4   Jan 2018   5.304597  10.766774   8.035242\n",
       "  5   Jul 2018  15.135645  25.740806  20.438145\n",
       "  6   Jun 2018  13.290583  22.460917  17.875500\n",
       "  7   Mar 2018   3.875968  11.086290   7.481129\n",
       "  8   May 2018   9.340887  19.326532  14.333387\n",
       "  9   Nov 2018   5.849583  12.064917   8.957583\n",
       "  10  Oct 2018   8.433387  17.327742  12.880806\n",
       "  11  Sep 2018  10.875917  22.541833  16.708917,\n",
       "  (1000,\n",
       "   1500):         Mois       TMin       TMax       TMoy\n",
       "  0   Apr 2018  10.073333  19.020000  14.546667\n",
       "  1   Aug 2018  16.809677  27.125806  21.967742\n",
       "  2   Dec 2018   5.448387   9.525806   7.487097\n",
       "  3   Feb 2018   0.032143   5.071429   2.551786\n",
       "  4   Jan 2018   6.174194  10.254839   8.214516\n",
       "  5   Jul 2018  19.174194  29.645161  24.409677\n",
       "  6   Jun 2018  15.593333  24.843333  20.218333\n",
       "  7   Mar 2018   4.490323  11.232258   7.861290\n",
       "  8   May 2018  12.148387  23.009677  17.579032\n",
       "  9   Nov 2018   6.196667  10.970000   8.583333\n",
       "  10  Oct 2018  10.558065  18.638710  14.598387\n",
       "  11  Sep 2018  12.983333  22.943333  17.963333},\n",
       " 2019: {(500,\n",
       "   1000):         Mois       TMin       TMax       TMoy\n",
       "  0   Apr 2019   7.707348  16.351621  12.029598\n",
       "  1   Aug 2019  17.203226  26.996312  22.099919\n",
       "  2   Dec 2019   6.195462  12.205777   9.200594\n",
       "  3   Feb 2019   3.948880  13.503563   8.726282\n",
       "  4   Jan 2019   2.772515   8.802258   5.787397\n",
       "  5   Jul 2019  17.983248  28.310015  23.146459\n",
       "  6   Jun 2019  14.978841  24.985129  19.982106\n",
       "  7   Mar 2019   6.206694  15.182632  10.694773\n",
       "  8   May 2019   9.834062  18.778343  14.306202\n",
       "  9   Nov 2019   6.834909  12.780098   9.807455\n",
       "  10  Oct 2019  12.450227  19.180249  15.815279\n",
       "  11  Sep 2019  14.474659  23.815758  19.145318,\n",
       "  (0,\n",
       "   500):         Mois       TMin       TMax       TMoy\n",
       "  0   Apr 2019   5.566167  15.399083  10.482917\n",
       "  1   Aug 2019  13.546532  24.323145  18.935081\n",
       "  2   Dec 2019   4.684113  10.519194   7.601694\n",
       "  3   Feb 2019   2.768482  12.469018   7.618750\n",
       "  4   Jan 2019   2.657500   7.458952   5.057903\n",
       "  5   Jul 2019  14.364919  26.193065  20.278548\n",
       "  6   Jun 2019  12.327833  22.649583  17.488833\n",
       "  7   Mar 2019   5.077823  13.357903   9.217742\n",
       "  8   May 2019   7.957097  17.102339  12.529113\n",
       "  9   Nov 2019   5.627917  11.180583   8.404333\n",
       "  10  Oct 2019  10.450726  16.725242  13.588548\n",
       "  11  Sep 2019  11.454083  21.375500  16.415083,\n",
       "  (1000,\n",
       "   1500):         Mois       TMin       TMax       TMoy\n",
       "  0   Apr 2019   7.886667  17.263333  12.575000\n",
       "  1   Aug 2019  16.625806  26.719355  21.672581\n",
       "  2   Dec 2019   5.170968   9.712903   7.441935\n",
       "  3   Feb 2019   4.146429  12.689286   8.417857\n",
       "  4   Jan 2019   3.187097   6.690323   4.938710\n",
       "  5   Jul 2019  17.070968  28.754839  22.912903\n",
       "  6   Jun 2019  15.383333  25.660000  20.521667\n",
       "  7   Mar 2019   6.867742  14.096774  10.482258\n",
       "  8   May 2019  10.022581  18.574194  14.298387\n",
       "  9   Nov 2019   6.366667  10.793333   8.580000\n",
       "  10  Oct 2019  10.941935  16.690323  13.816129\n",
       "  11  Sep 2019  13.470000  22.256667  17.863333},\n",
       " 2020: {(500,\n",
       "   1000):         Mois       TMin       TMax       TMoy\n",
       "  0   Apr 2020   8.922518  18.678193  13.800491\n",
       "  1   Aug 2020  17.296910  27.230059  22.263328\n",
       "  2   Dec 2020   4.837598  10.297156   7.567547\n",
       "  3   Feb 2020   6.185681  13.331724   9.758603\n",
       "  4   Jan 2020   4.598107  10.908896   7.753463\n",
       "  5   Jul 2020  16.259975  26.499873  21.379720\n",
       "  6   Jun 2020  14.238991  23.025605  18.632272\n",
       "  7   Mar 2020   5.616426  13.683370   9.650025\n",
       "  8   May 2020  11.755000  21.505144  16.630076\n",
       "  9   Nov 2020   7.744289  14.933018  11.338579\n",
       "  10  Oct 2020   9.934932  16.652878  13.293922\n",
       "  11  Sep 2020  14.131789  23.789588  18.960553,\n",
       "  (0,\n",
       "   500):         Mois       TMin       TMax       TMoy\n",
       "  0   Apr 2020   8.039889  18.066778  13.053111\n",
       "  1   Aug 2020  14.668817  23.962688  19.316022\n",
       "  2   Dec 2020   5.458710  10.047634   7.753226\n",
       "  3   Feb 2020   6.219310  11.833103   9.026092\n",
       "  4   Jan 2020   5.038495  10.229785   7.633978\n",
       "  5   Jul 2020  12.909570  22.678925  17.794409\n",
       "  6   Jun 2020  12.145778  20.365889  16.255778\n",
       "  7   Mar 2020   5.066559  12.320215   8.692903\n",
       "  8   May 2020   9.671828  19.812688  14.742151\n",
       "  9   Nov 2020   7.623222  13.868111  10.746222\n",
       "  10  Oct 2020   9.339355  15.282151  12.311075\n",
       "  11  Sep 2020  12.522778  21.572667  17.047333,\n",
       "  (1000,\n",
       "   1500):         Mois       TMin       TMax       TMoy\n",
       "  0   Apr 2020  10.030000  21.310000  15.670000\n",
       "  1   Aug 2020  17.609677  28.229032  22.919355\n",
       "  2   Dec 2020   5.248387   9.025806   7.137097\n",
       "  3   Feb 2020   6.524138  12.262069   9.393103\n",
       "  4   Jan 2020   4.622581   9.506452   7.064516\n",
       "  5   Jul 2020  15.654839  26.519355  21.087097\n",
       "  6   Jun 2020  14.413333  24.043333  19.228333\n",
       "  7   Mar 2020   5.641935  13.029032   9.335484\n",
       "  8   May 2020  11.293548  22.316129  16.804839\n",
       "  9   Nov 2020   7.453333  13.400000  10.426667\n",
       "  10  Oct 2020  10.264516  15.574194  12.919355\n",
       "  11  Sep 2020  14.510000  24.026667  19.268333},\n",
       " 2021: {(500,\n",
       "   1000):         Mois       TMin       TMax       TMoy\n",
       "  0   Apr 2021   5.731160  15.569979  10.650389\n",
       "  1   Aug 2021  15.734308  24.465262  20.099738\n",
       "  2   Dec 2021   4.762480  10.835276   7.798696\n",
       "  3   Feb 2021   5.505506  11.915193   8.710223\n",
       "  4   Jan 2021   3.069207   8.572272   5.820585\n",
       "  5   Jul 2021  16.427581  24.965954  20.696620\n",
       "  6   Jun 2021  15.352979  24.200285  19.776500\n",
       "  7   Mar 2021   4.848280  13.746425   9.297325\n",
       "  8   May 2021   9.673253  18.053468  13.863488\n",
       "  9   Nov 2021   5.966236  12.017028   8.991639\n",
       "  10  Oct 2021   9.959200  18.537984  14.248737\n",
       "  11  Sep 2021  14.939069  23.683472  19.311139,\n",
       "  (0,\n",
       "   500):         Mois       TMin       TMax       TMoy\n",
       "  0   Apr 2021   2.303333  14.523333   8.413333\n",
       "  1   Aug 2021  12.674194  22.093548  17.383871\n",
       "  2   Dec 2021   4.048387   9.083871   6.566129\n",
       "  3   Feb 2021   2.646429   9.157143   5.901786\n",
       "  4   Jan 2021   1.435484   6.841935   4.138710\n",
       "  5   Jul 2021  14.083871  23.416129  18.750000\n",
       "  6   Jun 2021  12.570000  22.843333  17.706667\n",
       "  7   Mar 2021   1.858065  12.819355   7.338710\n",
       "  8   May 2021   6.932258  17.022581  11.977419\n",
       "  9   Nov 2021   2.573333  10.500000   6.536667\n",
       "  10  Oct 2021   6.990323  16.954839  11.972581\n",
       "  11  Sep 2021  11.983333  22.906667  17.445000,\n",
       "  (1000,\n",
       "   1500):         Mois       TMin       TMax       TMoy\n",
       "  0   Apr 2021   5.416667  15.426667  10.421667\n",
       "  1   Aug 2021  15.338710  23.790323  19.564516\n",
       "  2   Dec 2021   5.512903   9.600000   7.556452\n",
       "  3   Feb 2021   4.150000  10.225000   7.187500\n",
       "  4   Jan 2021   3.164516   7.245161   5.204839\n",
       "  5   Jul 2021  16.425806  24.635484  20.530645\n",
       "  6   Jun 2021  15.786667  25.116667  20.451667\n",
       "  7   Mar 2021   4.900000  13.632258   9.266129\n",
       "  8   May 2021   9.322581  18.087097  13.704839\n",
       "  9   Nov 2021   5.106667  10.173333   7.640000\n",
       "  10  Oct 2021   9.164516  17.206452  13.185484\n",
       "  11  Sep 2021  14.676667  23.906667  19.291667},\n",
       " 2022: {(500,\n",
       "   1000):         Mois       TMin       TMax       TMoy\n",
       "  0   Apr 2022   7.867000  16.000433  11.933533\n",
       "  1   Aug 2022  18.457484  27.932355  23.195097\n",
       "  2   Dec 2022   5.791258  11.079839   8.435516\n",
       "  3   Feb 2022   6.060929  12.570893   9.316179\n",
       "  4   Jan 2022   3.860935  10.213645   7.037516\n",
       "  5   Jul 2022  17.830548  28.096548  22.963645\n",
       "  6   Jun 2022  16.205733  25.119433  20.662733\n",
       "  7   Mar 2022   6.652774  13.730613  10.191839\n",
       "  8   May 2022  12.439903  21.558742  16.999645\n",
       "  9   Nov 2022   9.643500  15.346900  12.494867\n",
       "  10  Oct 2022  13.954903  20.502065  17.228613\n",
       "  11  Sep 2022  14.960100  22.671967  18.815867}}"
      ]
     },
     "execution_count": 49,
     "metadata": {},
     "output_type": "execute_result"
    }
   ],
   "source": [
    "data_temperature_evolution_rent_range"
   ]
  },
  {
   "cell_type": "code",
   "execution_count": 50,
   "id": "4a8fd258",
   "metadata": {},
   "outputs": [],
   "source": [
    "dtea = filter(lambda e: int(e[0])>2017, data_temperature_evolution_agglomeration.keys())"
   ]
  },
  {
   "cell_type": "code",
   "execution_count": 51,
   "id": "02f80d5d",
   "metadata": {},
   "outputs": [
    {
     "data": {
      "text/plain": [
       "{\"Agglomération d'Aix-Marseille\",\n",
       " \"Agglomération d'Alençon\",\n",
       " \"Agglomération d'Arles\",\n",
       " 'Agglomération de Besançon',\n",
       " 'Agglomération de Brest',\n",
       " 'Agglomération de Douai',\n",
       " 'Agglomération de Draguignan',\n",
       " 'Agglomération de Fréjus',\n",
       " 'Agglomération de Lille',\n",
       " 'Agglomération de Lyon',\n",
       " 'Agglomération de Marseille',\n",
       " 'Agglomération de Montbéliard',\n",
       " 'Agglomération de Montpellier',\n",
       " 'Agglomération de Nancy',\n",
       " 'Agglomération de Nantes',\n",
       " 'Agglomération de Nice-Menton',\n",
       " 'Agglomération de Nîmes',\n",
       " 'Agglomération de Rennes',\n",
       " 'Agglomération de Sète',\n",
       " 'Agglomération de Toulon',\n",
       " 'Agglomération de Toulouse',\n",
       " 'Agglomération de Vitré',\n",
       " 'Agglomération parisienne',\n",
       " 'Agglomération parisienne (hors Paris)',\n",
       " 'Auray Quiberon Terre Atlantique',\n",
       " 'Golfe du Morbihan - Vannes Agglomération',\n",
       " 'Lorient Agglomération',\n",
       " 'Paris intra-muros',\n",
       " 'Sud Loire - proche Haute-Loire',\n",
       " \"Unité urbaine de l'agglomération de Bayonne\"}"
      ]
     },
     "execution_count": 51,
     "metadata": {},
     "output_type": "execute_result"
    }
   ],
   "source": [
    "set(agglomeration_department_map.keys()).intersection(map(lambda e: e[1], dtea))"
   ]
  }
 ],
 "metadata": {
  "kernelspec": {
   "display_name": "Python 3 (ipykernel)",
   "language": "python",
   "name": "python3"
  },
  "language_info": {
   "codemirror_mode": {
    "name": "ipython",
    "version": 3
   },
   "file_extension": ".py",
   "mimetype": "text/x-python",
   "name": "python",
   "nbconvert_exporter": "python",
   "pygments_lexer": "ipython3",
   "version": "3.9.13"
  }
 },
 "nbformat": 4,
 "nbformat_minor": 5
}
